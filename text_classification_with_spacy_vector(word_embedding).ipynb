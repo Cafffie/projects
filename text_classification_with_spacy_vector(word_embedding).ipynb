{
 "cells": [
  {
   "cell_type": "code",
   "execution_count": 41,
   "id": "41380244",
   "metadata": {},
   "outputs": [],
   "source": [
    "import pandas as pd\n",
    "import numpy as np\n",
    "\n",
    "from sklearn.naive_bayes import MultinomialNB\n",
    "from sklearn.neighbors import KNeighborsClassifier\n",
    "from sklearn.ensemble import RandomForestClassifier\n",
    "\n",
    "from sklearn.pipeline import Pipeline\n",
    "from sklearn.metrics import classification_report\n",
    "\n",
    "from sklearn.model_selection import train_test_split\n",
    "from sklearn.preprocessing import MinMaxScaler\n",
    "from imblearn.over_sampling import SMOTE\n",
    "import re\n",
    "\n",
    "import spacy"
   ]
  },
  {
   "cell_type": "code",
   "execution_count": 42,
   "id": "0647d88e",
   "metadata": {},
   "outputs": [
    {
     "data": {
      "text/html": [
       "<div>\n",
       "<style scoped>\n",
       "    .dataframe tbody tr th:only-of-type {\n",
       "        vertical-align: middle;\n",
       "    }\n",
       "\n",
       "    .dataframe tbody tr th {\n",
       "        vertical-align: top;\n",
       "    }\n",
       "\n",
       "    .dataframe thead th {\n",
       "        text-align: right;\n",
       "    }\n",
       "</style>\n",
       "<table border=\"1\" class=\"dataframe\">\n",
       "  <thead>\n",
       "    <tr style=\"text-align: right;\">\n",
       "      <th></th>\n",
       "      <th>category</th>\n",
       "      <th>text</th>\n",
       "    </tr>\n",
       "  </thead>\n",
       "  <tbody>\n",
       "    <tr>\n",
       "      <th>0</th>\n",
       "      <td>Household</td>\n",
       "      <td>Paper Plane Design Framed Wall Hanging Motivat...</td>\n",
       "    </tr>\n",
       "    <tr>\n",
       "      <th>1</th>\n",
       "      <td>Household</td>\n",
       "      <td>SAF 'Floral' Framed Painting (Wood, 30 inch x ...</td>\n",
       "    </tr>\n",
       "    <tr>\n",
       "      <th>2</th>\n",
       "      <td>Household</td>\n",
       "      <td>SAF 'UV Textured Modern Art Print Framed' Pain...</td>\n",
       "    </tr>\n",
       "    <tr>\n",
       "      <th>3</th>\n",
       "      <td>Household</td>\n",
       "      <td>SAF Flower Print Framed Painting (Synthetic, 1...</td>\n",
       "    </tr>\n",
       "    <tr>\n",
       "      <th>4</th>\n",
       "      <td>Household</td>\n",
       "      <td>Incredible Gifts India Wooden Happy Birthday U...</td>\n",
       "    </tr>\n",
       "  </tbody>\n",
       "</table>\n",
       "</div>"
      ],
      "text/plain": [
       "    category                                               text\n",
       "0  Household  Paper Plane Design Framed Wall Hanging Motivat...\n",
       "1  Household  SAF 'Floral' Framed Painting (Wood, 30 inch x ...\n",
       "2  Household  SAF 'UV Textured Modern Art Print Framed' Pain...\n",
       "3  Household  SAF Flower Print Framed Painting (Synthetic, 1...\n",
       "4  Household  Incredible Gifts India Wooden Happy Birthday U..."
      ]
     },
     "execution_count": 42,
     "metadata": {},
     "output_type": "execute_result"
    }
   ],
   "source": [
    "ecommerce_data= pd.read_csv(\"ecommerceDataset.csv\", names=['category', 'text'])\n",
    "ecommerce_data[:5]"
   ]
  },
  {
   "cell_type": "code",
   "execution_count": 43,
   "id": "049e465c",
   "metadata": {},
   "outputs": [
    {
     "data": {
      "text/plain": [
       "(50425, 2)"
      ]
     },
     "execution_count": 43,
     "metadata": {},
     "output_type": "execute_result"
    }
   ],
   "source": [
    "ecommerce_data.shape"
   ]
  },
  {
   "cell_type": "code",
   "execution_count": 44,
   "id": "4aab11bf",
   "metadata": {},
   "outputs": [
    {
     "data": {
      "text/plain": [
       "category\n",
       "Household                 19313\n",
       "Books                     11820\n",
       "Electronics               10621\n",
       "Clothing & Accessories     8671\n",
       "Name: count, dtype: int64"
      ]
     },
     "execution_count": 44,
     "metadata": {},
     "output_type": "execute_result"
    }
   ],
   "source": [
    "ecommerce_data.category.value_counts()"
   ]
  },
  {
   "cell_type": "code",
   "execution_count": 45,
   "id": "b6465c3e",
   "metadata": {},
   "outputs": [
    {
     "name": "stdout",
     "output_type": "stream",
     "text": [
      "<class 'pandas.core.frame.DataFrame'>\n",
      "RangeIndex: 50425 entries, 0 to 50424\n",
      "Data columns (total 2 columns):\n",
      " #   Column    Non-Null Count  Dtype \n",
      "---  ------    --------------  ----- \n",
      " 0   category  50425 non-null  object\n",
      " 1   text      50424 non-null  object\n",
      "dtypes: object(2)\n",
      "memory usage: 788.0+ KB\n"
     ]
    }
   ],
   "source": [
    "ecommerce_data.info()"
   ]
  },
  {
   "cell_type": "code",
   "execution_count": 46,
   "id": "3a9a1e66",
   "metadata": {},
   "outputs": [],
   "source": [
    "ecommerce_data[\"category_label\"]= ecommerce_data.category.map({\n",
    "    \"Household\": 0,\n",
    "    \"Books\": 1,\n",
    "    \"Electronics\": 2,\n",
    "    \"Clothing & Accessories\": 3\n",
    "})"
   ]
  },
  {
   "cell_type": "code",
   "execution_count": 47,
   "id": "55a6ee34",
   "metadata": {},
   "outputs": [
    {
     "data": {
      "text/html": [
       "<div>\n",
       "<style scoped>\n",
       "    .dataframe tbody tr th:only-of-type {\n",
       "        vertical-align: middle;\n",
       "    }\n",
       "\n",
       "    .dataframe tbody tr th {\n",
       "        vertical-align: top;\n",
       "    }\n",
       "\n",
       "    .dataframe thead th {\n",
       "        text-align: right;\n",
       "    }\n",
       "</style>\n",
       "<table border=\"1\" class=\"dataframe\">\n",
       "  <thead>\n",
       "    <tr style=\"text-align: right;\">\n",
       "      <th></th>\n",
       "      <th>category</th>\n",
       "      <th>text</th>\n",
       "      <th>category_label</th>\n",
       "    </tr>\n",
       "  </thead>\n",
       "  <tbody>\n",
       "    <tr>\n",
       "      <th>0</th>\n",
       "      <td>Household</td>\n",
       "      <td>Paper Plane Design Framed Wall Hanging Motivat...</td>\n",
       "      <td>0</td>\n",
       "    </tr>\n",
       "    <tr>\n",
       "      <th>1</th>\n",
       "      <td>Household</td>\n",
       "      <td>SAF 'Floral' Framed Painting (Wood, 30 inch x ...</td>\n",
       "      <td>0</td>\n",
       "    </tr>\n",
       "    <tr>\n",
       "      <th>2</th>\n",
       "      <td>Household</td>\n",
       "      <td>SAF 'UV Textured Modern Art Print Framed' Pain...</td>\n",
       "      <td>0</td>\n",
       "    </tr>\n",
       "    <tr>\n",
       "      <th>3</th>\n",
       "      <td>Household</td>\n",
       "      <td>SAF Flower Print Framed Painting (Synthetic, 1...</td>\n",
       "      <td>0</td>\n",
       "    </tr>\n",
       "    <tr>\n",
       "      <th>4</th>\n",
       "      <td>Household</td>\n",
       "      <td>Incredible Gifts India Wooden Happy Birthday U...</td>\n",
       "      <td>0</td>\n",
       "    </tr>\n",
       "  </tbody>\n",
       "</table>\n",
       "</div>"
      ],
      "text/plain": [
       "    category                                               text  \\\n",
       "0  Household  Paper Plane Design Framed Wall Hanging Motivat...   \n",
       "1  Household  SAF 'Floral' Framed Painting (Wood, 30 inch x ...   \n",
       "2  Household  SAF 'UV Textured Modern Art Print Framed' Pain...   \n",
       "3  Household  SAF Flower Print Framed Painting (Synthetic, 1...   \n",
       "4  Household  Incredible Gifts India Wooden Happy Birthday U...   \n",
       "\n",
       "   category_label  \n",
       "0               0  \n",
       "1               0  \n",
       "2               0  \n",
       "3               0  \n",
       "4               0  "
      ]
     },
     "execution_count": 47,
     "metadata": {},
     "output_type": "execute_result"
    }
   ],
   "source": [
    "ecommerce_data[:5]"
   ]
  },
  {
   "cell_type": "code",
   "execution_count": 48,
   "id": "0c9feddb",
   "metadata": {},
   "outputs": [
    {
     "data": {
      "text/plain": [
       "category          0\n",
       "text              1\n",
       "category_label    0\n",
       "dtype: int64"
      ]
     },
     "execution_count": 48,
     "metadata": {},
     "output_type": "execute_result"
    }
   ],
   "source": [
    "#Checking for missing values\n",
    "ecommerce_data.isnull().sum()"
   ]
  },
  {
   "cell_type": "code",
   "execution_count": 49,
   "id": "47b089e3",
   "metadata": {},
   "outputs": [
    {
     "data": {
      "text/html": [
       "<div>\n",
       "<style scoped>\n",
       "    .dataframe tbody tr th:only-of-type {\n",
       "        vertical-align: middle;\n",
       "    }\n",
       "\n",
       "    .dataframe tbody tr th {\n",
       "        vertical-align: top;\n",
       "    }\n",
       "\n",
       "    .dataframe thead th {\n",
       "        text-align: right;\n",
       "    }\n",
       "</style>\n",
       "<table border=\"1\" class=\"dataframe\">\n",
       "  <thead>\n",
       "    <tr style=\"text-align: right;\">\n",
       "      <th></th>\n",
       "      <th>category</th>\n",
       "      <th>text</th>\n",
       "      <th>category_label</th>\n",
       "    </tr>\n",
       "  </thead>\n",
       "  <tbody>\n",
       "    <tr>\n",
       "      <th>39330</th>\n",
       "      <td>Clothing &amp; Accessories</td>\n",
       "      <td>NaN</td>\n",
       "      <td>3</td>\n",
       "    </tr>\n",
       "  </tbody>\n",
       "</table>\n",
       "</div>"
      ],
      "text/plain": [
       "                     category text  category_label\n",
       "39330  Clothing & Accessories  NaN               3"
      ]
     },
     "execution_count": 49,
     "metadata": {},
     "output_type": "execute_result"
    }
   ],
   "source": [
    "ecommerce_data[ecommerce_data.text.isnull()]"
   ]
  },
  {
   "cell_type": "code",
   "execution_count": 50,
   "id": "3cffc273",
   "metadata": {},
   "outputs": [],
   "source": [
    "#Replacing missing missing value with zero\n",
    "ecommerce_data[\"text\"]= ecommerce_data.text.fillna(0)"
   ]
  },
  {
   "cell_type": "code",
   "execution_count": 51,
   "id": "838497aa",
   "metadata": {},
   "outputs": [],
   "source": [
    "#Dropping row with missing value\n",
    "ecommerce_data= ecommerce_data[ecommerce_data.text != 0]"
   ]
  },
  {
   "cell_type": "code",
   "execution_count": 52,
   "id": "7fa1856b",
   "metadata": {},
   "outputs": [
    {
     "data": {
      "text/plain": [
       "(50424, 3)"
      ]
     },
     "execution_count": 52,
     "metadata": {},
     "output_type": "execute_result"
    }
   ],
   "source": [
    "ecommerce_data.shape"
   ]
  },
  {
   "cell_type": "code",
   "execution_count": 53,
   "id": "c2bb6b84",
   "metadata": {},
   "outputs": [
    {
     "data": {
      "text/html": [
       "<div>\n",
       "<style scoped>\n",
       "    .dataframe tbody tr th:only-of-type {\n",
       "        vertical-align: middle;\n",
       "    }\n",
       "\n",
       "    .dataframe tbody tr th {\n",
       "        vertical-align: top;\n",
       "    }\n",
       "\n",
       "    .dataframe thead th {\n",
       "        text-align: right;\n",
       "    }\n",
       "</style>\n",
       "<table border=\"1\" class=\"dataframe\">\n",
       "  <thead>\n",
       "    <tr style=\"text-align: right;\">\n",
       "      <th></th>\n",
       "      <th>category</th>\n",
       "      <th>text</th>\n",
       "      <th>category_label</th>\n",
       "    </tr>\n",
       "  </thead>\n",
       "  <tbody>\n",
       "    <tr>\n",
       "      <th>0</th>\n",
       "      <td>Household</td>\n",
       "      <td>Paper Plane Design Framed Wall Hanging Motivat...</td>\n",
       "      <td>0</td>\n",
       "    </tr>\n",
       "    <tr>\n",
       "      <th>1</th>\n",
       "      <td>Household</td>\n",
       "      <td>SAF 'Floral' Framed Painting (Wood, 30 inch x ...</td>\n",
       "      <td>0</td>\n",
       "    </tr>\n",
       "    <tr>\n",
       "      <th>2</th>\n",
       "      <td>Household</td>\n",
       "      <td>SAF 'UV Textured Modern Art Print Framed' Pain...</td>\n",
       "      <td>0</td>\n",
       "    </tr>\n",
       "    <tr>\n",
       "      <th>3</th>\n",
       "      <td>Household</td>\n",
       "      <td>SAF Flower Print Framed Painting (Synthetic, 1...</td>\n",
       "      <td>0</td>\n",
       "    </tr>\n",
       "    <tr>\n",
       "      <th>4</th>\n",
       "      <td>Household</td>\n",
       "      <td>Incredible Gifts India Wooden Happy Birthday U...</td>\n",
       "      <td>0</td>\n",
       "    </tr>\n",
       "  </tbody>\n",
       "</table>\n",
       "</div>"
      ],
      "text/plain": [
       "    category                                               text  \\\n",
       "0  Household  Paper Plane Design Framed Wall Hanging Motivat...   \n",
       "1  Household  SAF 'Floral' Framed Painting (Wood, 30 inch x ...   \n",
       "2  Household  SAF 'UV Textured Modern Art Print Framed' Pain...   \n",
       "3  Household  SAF Flower Print Framed Painting (Synthetic, 1...   \n",
       "4  Household  Incredible Gifts India Wooden Happy Birthday U...   \n",
       "\n",
       "   category_label  \n",
       "0               0  \n",
       "1               0  \n",
       "2               0  \n",
       "3               0  \n",
       "4               0  "
      ]
     },
     "execution_count": 53,
     "metadata": {},
     "output_type": "execute_result"
    }
   ],
   "source": [
    "ecommerce_data[:5]"
   ]
  },
  {
   "cell_type": "code",
   "execution_count": 54,
   "id": "9ee04b11",
   "metadata": {},
   "outputs": [
    {
     "data": {
      "text/plain": [
       "'Incredible Gifts India Wooden Happy Birthday Unique Personalized Gift (5 X 4 Inch) Size:4 x 5   Made Of Natural Imported Wood, Which Is Quite Solid With Light Particle Pattern & Is Soft Pale To Blond Colour. Your Uploaded Photo Will Look Amazing And Beautiful After Laser Engraving On It. This Is One Of The Most Popular Unique Gifts In Our Store. We Offer This In Multiple Sizes, Some Can Be Used As Table Top And The Big Sizes Can Be Used As Wall Hanging Which Just Blends With Your Home Decaration. You Just Need To Upload A Picture And Add Your Own Text And We Will Do The Rest For You. We Will Email You The Preview Before Making The Final Product. Do You Want The Best Moment Of Your Life To Be Engraved On A Wooden Plaque That Lasts For A Longer Time And Stays Close To You Forever? Then You Are At The Right Place. We Present To You Various Sizes Personalized Engraved Wooden Plaques Made With Birch Wood. Let Your Memories Be Engraved On Wooden Plaques And Stay With Your Forever.'"
      ]
     },
     "execution_count": 54,
     "metadata": {},
     "output_type": "execute_result"
    }
   ],
   "source": [
    "ecommerce_data.text[4]"
   ]
  },
  {
   "cell_type": "code",
   "execution_count": 55,
   "id": "378d6c54",
   "metadata": {},
   "outputs": [],
   "source": [
    "nlp= spacy.load(\"en_core_web_lg\")"
   ]
  },
  {
   "cell_type": "code",
   "execution_count": 56,
   "id": "b651ce0c",
   "metadata": {},
   "outputs": [
    {
     "data": {
      "text/plain": [
       "(300,)"
      ]
     },
     "execution_count": 56,
     "metadata": {},
     "output_type": "execute_result"
    }
   ],
   "source": [
    "doc= nlp(\"Paper Plane Design Framed Wall Hanging Motivation\")\n",
    "doc[0].vector.shape"
   ]
  },
  {
   "cell_type": "code",
   "execution_count": 57,
   "id": "0afe16f5",
   "metadata": {},
   "outputs": [
    {
     "data": {
      "text/plain": [
       "array([ 0.033539,  1.0758  ,  4.2654  ,  2.4083  , -1.4626  ],\n",
       "      dtype=float32)"
      ]
     },
     "execution_count": 57,
     "metadata": {},
     "output_type": "execute_result"
    }
   ],
   "source": [
    "doc[1].vector[:5]"
   ]
  },
  {
   "cell_type": "code",
   "execution_count": 58,
   "id": "0e9344d7",
   "metadata": {},
   "outputs": [
    {
     "data": {
      "text/plain": [
       "(300,)"
      ]
     },
     "execution_count": 58,
     "metadata": {},
     "output_type": "execute_result"
    }
   ],
   "source": [
    "doc[1].vector.shape"
   ]
  },
  {
   "cell_type": "code",
   "execution_count": 59,
   "id": "27cf8af7",
   "metadata": {},
   "outputs": [],
   "source": [
    "ecommerce_data[\"vector\"]= ecommerce_data[\"text\"].apply(lambda x: nlp(x).vector)"
   ]
  },
  {
   "cell_type": "code",
   "execution_count": 60,
   "id": "5d82c220",
   "metadata": {},
   "outputs": [
    {
     "data": {
      "text/html": [
       "<div>\n",
       "<style scoped>\n",
       "    .dataframe tbody tr th:only-of-type {\n",
       "        vertical-align: middle;\n",
       "    }\n",
       "\n",
       "    .dataframe tbody tr th {\n",
       "        vertical-align: top;\n",
       "    }\n",
       "\n",
       "    .dataframe thead th {\n",
       "        text-align: right;\n",
       "    }\n",
       "</style>\n",
       "<table border=\"1\" class=\"dataframe\">\n",
       "  <thead>\n",
       "    <tr style=\"text-align: right;\">\n",
       "      <th></th>\n",
       "      <th>category</th>\n",
       "      <th>text</th>\n",
       "      <th>category_label</th>\n",
       "      <th>vector</th>\n",
       "    </tr>\n",
       "  </thead>\n",
       "  <tbody>\n",
       "    <tr>\n",
       "      <th>0</th>\n",
       "      <td>Household</td>\n",
       "      <td>Paper Plane Design Framed Wall Hanging Motivat...</td>\n",
       "      <td>0</td>\n",
       "      <td>[-2.306548, 0.30390584, -2.51085, 0.06632433, ...</td>\n",
       "    </tr>\n",
       "    <tr>\n",
       "      <th>1</th>\n",
       "      <td>Household</td>\n",
       "      <td>SAF 'Floral' Framed Painting (Wood, 30 inch x ...</td>\n",
       "      <td>0</td>\n",
       "      <td>[-2.6766863, -1.1272602, -1.1009779, 0.4870543...</td>\n",
       "    </tr>\n",
       "    <tr>\n",
       "      <th>2</th>\n",
       "      <td>Household</td>\n",
       "      <td>SAF 'UV Textured Modern Art Print Framed' Pain...</td>\n",
       "      <td>0</td>\n",
       "      <td>[-2.414381, 0.7888623, -2.8213925, 0.8304517, ...</td>\n",
       "    </tr>\n",
       "    <tr>\n",
       "      <th>3</th>\n",
       "      <td>Household</td>\n",
       "      <td>SAF Flower Print Framed Painting (Synthetic, 1...</td>\n",
       "      <td>0</td>\n",
       "      <td>[-2.3844197, 0.7978983, -2.7950675, 0.74301887...</td>\n",
       "    </tr>\n",
       "    <tr>\n",
       "      <th>4</th>\n",
       "      <td>Household</td>\n",
       "      <td>Incredible Gifts India Wooden Happy Birthday U...</td>\n",
       "      <td>0</td>\n",
       "      <td>[-0.5195761, -0.46975613, -1.4031031, -0.38848...</td>\n",
       "    </tr>\n",
       "  </tbody>\n",
       "</table>\n",
       "</div>"
      ],
      "text/plain": [
       "    category                                               text  \\\n",
       "0  Household  Paper Plane Design Framed Wall Hanging Motivat...   \n",
       "1  Household  SAF 'Floral' Framed Painting (Wood, 30 inch x ...   \n",
       "2  Household  SAF 'UV Textured Modern Art Print Framed' Pain...   \n",
       "3  Household  SAF Flower Print Framed Painting (Synthetic, 1...   \n",
       "4  Household  Incredible Gifts India Wooden Happy Birthday U...   \n",
       "\n",
       "   category_label                                             vector  \n",
       "0               0  [-2.306548, 0.30390584, -2.51085, 0.06632433, ...  \n",
       "1               0  [-2.6766863, -1.1272602, -1.1009779, 0.4870543...  \n",
       "2               0  [-2.414381, 0.7888623, -2.8213925, 0.8304517, ...  \n",
       "3               0  [-2.3844197, 0.7978983, -2.7950675, 0.74301887...  \n",
       "4               0  [-0.5195761, -0.46975613, -1.4031031, -0.38848...  "
      ]
     },
     "execution_count": 60,
     "metadata": {},
     "output_type": "execute_result"
    }
   ],
   "source": [
    "ecommerce_data[:5]"
   ]
  },
  {
   "cell_type": "code",
   "execution_count": 116,
   "id": "53b4947b",
   "metadata": {},
   "outputs": [
    {
     "data": {
      "text/plain": [
       "0    [-2.306548, 0.30390584, -2.51085, 0.06632433, ...\n",
       "1    [-2.6766863, -1.1272602, -1.1009779, 0.4870543...\n",
       "2    [-2.414381, 0.7888623, -2.8213925, 0.8304517, ...\n",
       "3    [-2.3844197, 0.7978983, -2.7950675, 0.74301887...\n",
       "4    [-0.5195761, -0.46975613, -1.4031031, -0.38848...\n",
       "Name: vector, dtype: object"
      ]
     },
     "execution_count": 116,
     "metadata": {},
     "output_type": "execute_result"
    }
   ],
   "source": [
    "ecommerce_data.vector[:5]"
   ]
  },
  {
   "cell_type": "code",
   "execution_count": 97,
   "id": "bf972a67",
   "metadata": {},
   "outputs": [],
   "source": [
    "X = np.array([np.array(x) for x in ecommerce_data.vector.values])\n",
    "y = ecommerce_data.category_label"
   ]
  },
  {
   "cell_type": "code",
   "execution_count": 112,
   "id": "af688ef7",
   "metadata": {},
   "outputs": [
    {
     "data": {
      "text/plain": [
       "array([[-2.306548  ,  0.30390584, -2.51085   , ..., -1.4262657 ,\n",
       "        -3.3489084 ,  0.57573175],\n",
       "       [-2.6766863 , -1.1272602 , -1.1009779 , ..., -1.6334178 ,\n",
       "        -2.4390118 , -0.24040593],\n",
       "       [-2.414381  ,  0.7888623 , -2.8213925 , ..., -2.1887448 ,\n",
       "        -3.0587976 ,  0.657897  ],\n",
       "       [-2.3844197 ,  0.7978983 , -2.7950675 , ..., -2.13979   ,\n",
       "        -2.9163933 ,  0.48472232],\n",
       "       [-0.5195761 , -0.46975613, -1.4031031 , ..., -0.5076162 ,\n",
       "        -2.1032832 , -0.826409  ]], dtype=float32)"
      ]
     },
     "execution_count": 112,
     "metadata": {},
     "output_type": "execute_result"
    }
   ],
   "source": [
    "X[:5]"
   ]
  },
  {
   "cell_type": "code",
   "execution_count": 113,
   "id": "feeffaec",
   "metadata": {},
   "outputs": [
    {
     "data": {
      "text/plain": [
       "0    0\n",
       "1    0\n",
       "2    0\n",
       "3    0\n",
       "4    0\n",
       "Name: category_label, dtype: int64"
      ]
     },
     "execution_count": 113,
     "metadata": {},
     "output_type": "execute_result"
    }
   ],
   "source": [
    "y[:5]"
   ]
  },
  {
   "cell_type": "code",
   "execution_count": 99,
   "id": "bccad426",
   "metadata": {},
   "outputs": [],
   "source": [
    "#Applying SMOTE to handle the imbalance dataset\n",
    "\n",
    "X_sm, y_sm= SMOTE().fit_resample(X, y)"
   ]
  },
  {
   "cell_type": "code",
   "execution_count": 100,
   "id": "15d2135a",
   "metadata": {},
   "outputs": [
    {
     "data": {
      "text/plain": [
       "(77252, 300)"
      ]
     },
     "execution_count": 100,
     "metadata": {},
     "output_type": "execute_result"
    }
   ],
   "source": [
    "X_sm.shape"
   ]
  },
  {
   "cell_type": "code",
   "execution_count": 101,
   "id": "2f02997e",
   "metadata": {},
   "outputs": [
    {
     "data": {
      "text/plain": [
       "category_label\n",
       "0    19313\n",
       "1    19313\n",
       "3    19313\n",
       "2    19313\n",
       "Name: count, dtype: int64"
      ]
     },
     "execution_count": 101,
     "metadata": {},
     "output_type": "execute_result"
    }
   ],
   "source": [
    "y_sm.value_counts()"
   ]
  },
  {
   "cell_type": "code",
   "execution_count": 102,
   "id": "514f10c6",
   "metadata": {},
   "outputs": [],
   "source": [
    "X_train, X_test, y_train, y_test= train_test_split(\n",
    "    X_sm, \n",
    "    y_sm,\n",
    "    test_size= 0.25,\n",
    "    random_state= 2022)"
   ]
  },
  {
   "cell_type": "code",
   "execution_count": 103,
   "id": "d78e251a",
   "metadata": {},
   "outputs": [
    {
     "data": {
      "text/plain": [
       "category_label\n",
       "1    4973\n",
       "0    4845\n",
       "2    4813\n",
       "3    4682\n",
       "Name: count, dtype: int64"
      ]
     },
     "execution_count": 103,
     "metadata": {},
     "output_type": "execute_result"
    }
   ],
   "source": [
    "y_test.value_counts()"
   ]
  },
  {
   "cell_type": "code",
   "execution_count": 104,
   "id": "a3c9bf39",
   "metadata": {},
   "outputs": [
    {
     "data": {
      "text/plain": [
       "category_label\n",
       "3    14631\n",
       "2    14500\n",
       "0    14468\n",
       "1    14340\n",
       "Name: count, dtype: int64"
      ]
     },
     "execution_count": 104,
     "metadata": {},
     "output_type": "execute_result"
    }
   ],
   "source": [
    "y_train.value_counts()"
   ]
  },
  {
   "cell_type": "code",
   "execution_count": 105,
   "id": "153186f0",
   "metadata": {},
   "outputs": [
    {
     "data": {
      "text/plain": [
       "array([[-1.6228391 , -0.8795158 , -0.60475844, ..., -1.4353336 ,\n",
       "        -1.9335147 , -0.8100008 ],\n",
       "       [-1.6482172 , -0.17391518, -3.0020814 , ..., -1.6706198 ,\n",
       "        -2.6095624 ,  0.3783911 ],\n",
       "       [-2.0876565 , -6.637347  ,  4.3394966 , ..., -4.2294626 ,\n",
       "         1.3783625 ,  0.32852504],\n",
       "       [-1.2654543 , -0.1589285 ,  3.9103014 , ..., -2.5920284 ,\n",
       "        -1.35742   , -2.7579844 ],\n",
       "       [-1.26067   ,  0.17699975, -2.0038831 , ..., -0.88837624,\n",
       "        -3.138105  ,  0.7850804 ]], dtype=float32)"
      ]
     },
     "execution_count": 105,
     "metadata": {},
     "output_type": "execute_result"
    }
   ],
   "source": [
    "X_train[:5]"
   ]
  },
  {
   "cell_type": "code",
   "execution_count": 106,
   "id": "20b9b2a0",
   "metadata": {},
   "outputs": [
    {
     "data": {
      "text/plain": [
       "array([[-2.68139958e+00,  1.10578740e+00, -2.39854264e+00,\n",
       "         1.62016943e-01,  4.04618359e+00,  2.27395475e-01,\n",
       "         3.86115700e-01,  3.27266932e+00, -1.20685530e+00,\n",
       "        -1.91434696e-01,  6.03872108e+00,  7.90966690e-01,\n",
       "        -3.85298729e+00,  1.03128266e+00,  1.23039854e+00,\n",
       "         9.48810518e-01,  9.28355157e-01,  3.47808897e-01,\n",
       "        -8.18302870e-01, -9.25642014e-01,  3.25626791e-01,\n",
       "        -7.28772938e-01, -2.99995333e-01, -2.94280469e-01,\n",
       "         1.49256792e-02, -1.14914083e+00, -2.52467346e+00,\n",
       "        -1.56552231e+00, -8.37992847e-01,  3.54837142e-02,\n",
       "        -8.51389319e-02, -9.61718321e-01,  3.94072533e-01,\n",
       "        -1.79745424e+00, -1.30884743e+00,  4.18543845e-01,\n",
       "         7.88391948e-01,  1.10038745e+00,  1.10155356e+00,\n",
       "        -2.18544662e-01,  8.22522581e-01, -1.00615472e-01,\n",
       "        -1.17175245e+00, -5.28661549e-01, -1.34540856e+00,\n",
       "         1.69308043e+00,  8.42569530e-01, -1.09013748e+00,\n",
       "        -6.08105838e-01,  5.52668571e-01,  1.15250669e-01,\n",
       "         1.28341544e+00, -2.80888140e-01, -3.66753936e+00,\n",
       "        -1.64528742e-01,  3.89256984e-01,  1.88825697e-01,\n",
       "         3.38124394e-01, -2.61127144e-01, -6.19658947e-01,\n",
       "         7.72716761e-01, -1.21602237e+00, -1.62782848e-01,\n",
       "        -1.31899130e+00,  1.56950128e+00,  1.18527782e+00,\n",
       "        -1.84962142e+00, -4.19744349e+00,  1.14109993e+00,\n",
       "         1.15528977e+00, -1.34642971e+00, -2.74631500e-01,\n",
       "        -1.52650476e+00, -3.68199408e-01, -1.51054919e-01,\n",
       "         1.71014202e+00, -2.31827831e+00,  1.33433497e+00,\n",
       "        -2.32405019e+00, -1.02577400e+00, -4.67963123e+00,\n",
       "        -1.81738719e-01,  4.69452217e-02,  2.25704275e-02,\n",
       "         2.54370785e+00, -3.34547848e-01, -1.41318798e-01,\n",
       "        -1.14382148e+00,  5.47620773e-01, -1.80853724e-01,\n",
       "        -1.55199051e+00,  4.09022361e-01,  1.41231215e+00,\n",
       "        -3.41571426e+00,  1.21847427e+00, -9.10849929e-01,\n",
       "         2.06726506e-01, -1.18916893e+00,  8.97541583e-01,\n",
       "         6.24650776e-01,  7.64795780e-01, -6.86544105e-02,\n",
       "         1.73952842e+00,  2.53017569e+00, -2.72466172e-03,\n",
       "         3.11109114e+00, -5.60644865e-01, -1.60399151e+00,\n",
       "        -1.29769850e+00, -1.72807658e+00,  1.25496864e+00,\n",
       "         1.34823227e+00, -6.10513508e-01,  1.29717302e+00,\n",
       "         4.01082814e-01, -5.76592445e-01, -3.55043560e-01,\n",
       "        -2.66829997e-01,  1.44597435e+00, -1.09913778e+00,\n",
       "        -1.88676631e+00, -1.67755759e+00,  8.90611351e-01,\n",
       "         9.56286311e-01,  3.07958037e-01, -3.06805325e+00,\n",
       "        -5.61397016e-01, -1.93642008e+00,  3.77663851e+00,\n",
       "        -1.11265695e+00, -3.53806877e+00, -2.50841051e-01,\n",
       "         3.65234089e+00, -1.34037924e+00, -8.36022854e-01,\n",
       "         1.16067842e-01, -6.67701721e-01, -2.07243276e+00,\n",
       "         2.48332119e+00, -9.90031898e-01, -1.47259378e+00,\n",
       "         8.86276612e-05,  1.09659874e+00,  1.66865265e+00,\n",
       "         3.25332224e-01,  2.91582108e-01, -2.58962846e+00,\n",
       "         7.98851430e-01,  1.27173841e+00,  2.53808594e+00,\n",
       "         2.78625727e-01,  1.66471088e+00, -2.61858940e-01,\n",
       "         1.76019573e+00, -2.92328119e-01,  7.98874855e-01,\n",
       "         3.76342559e+00, -3.72156680e-01, -3.22274387e-01,\n",
       "        -1.25963986e+00, -1.09800792e+00, -2.16913104e+00,\n",
       "         1.37519836e+00,  1.98000205e+00, -1.85170591e+00,\n",
       "        -3.35174769e-01, -4.09943151e+00,  5.15990913e-01,\n",
       "         1.90069541e-01, -7.93063998e-01,  2.10803485e+00,\n",
       "        -3.28818440e-01,  2.53243637e+00,  1.32657874e+00,\n",
       "         9.70180094e-01, -6.06752455e-01,  1.31739604e+00,\n",
       "        -6.39390588e-01, -1.38931334e+00, -2.45301414e+00,\n",
       "        -1.36522484e+00,  9.00561094e-01,  6.46871448e-01,\n",
       "        -2.41691422e+00, -1.55286455e+00, -1.85539156e-01,\n",
       "        -6.88981473e-01, -1.06742239e+00, -3.93724442e-02,\n",
       "         1.35455799e+00, -1.02624051e-01, -2.41803750e-01,\n",
       "        -7.79869199e-01, -1.58672357e+00,  1.55523908e+00,\n",
       "         4.59288538e-01, -1.96872580e+00, -1.69781819e-01,\n",
       "         7.20135331e-01, -9.81382132e-01, -6.41404748e-01,\n",
       "        -1.30257928e+00, -1.63556969e+00, -2.65001607e+00,\n",
       "         4.84662741e-01,  2.45088413e-01, -4.20160961e+00,\n",
       "         2.47332621e+00, -2.43915115e-02, -1.48926604e+00,\n",
       "         2.08761525e+00,  1.00858009e+00,  8.61174047e-01,\n",
       "         1.49889672e+00,  4.49606597e-01,  2.88580751e+00,\n",
       "         9.54563022e-02, -2.68141460e+00, -1.00885010e+00,\n",
       "        -5.08087240e-02, -1.23484993e+00,  1.66961563e+00,\n",
       "        -7.94204652e-01,  1.47919941e+00, -7.63223648e-01,\n",
       "        -1.82039881e+00,  5.54093301e-01,  2.42599154e+00,\n",
       "         2.60789037e+00, -2.90450901e-01,  1.35709262e+00,\n",
       "        -2.81371808e+00,  4.44461524e-01,  1.32328913e-01,\n",
       "         1.62640476e+00,  1.21844804e+00, -1.60246003e+00,\n",
       "         4.25265074e-01, -1.86627179e-01,  6.67513192e-01,\n",
       "         6.15040362e-01, -1.03483498e-01,  8.39108706e-01,\n",
       "         9.37303662e-01, -1.79138458e+00, -2.68681943e-01,\n",
       "        -1.98065364e+00, -3.16196799e-01, -4.33447249e-02,\n",
       "         1.32148480e+00,  1.82405218e-01, -1.22231674e+00,\n",
       "        -3.31898761e+00, -4.92428780e-01,  1.32762402e-01,\n",
       "        -2.08987331e+00,  2.53128719e+00,  9.04877186e-01,\n",
       "        -8.36873353e-01,  8.52321744e-01, -3.73463959e-01,\n",
       "         2.99043965e+00,  1.54790318e+00,  2.36165380e+00,\n",
       "         8.53265762e-01, -3.71111363e-01, -6.48830712e-01,\n",
       "         5.47815621e-01, -3.07433391e+00, -9.27003860e-01,\n",
       "         1.54680347e+00, -1.10259163e+00, -7.62525856e-01,\n",
       "        -1.26429474e+00, -1.31930381e-01,  7.55993873e-02,\n",
       "         1.77192360e-01,  6.47426426e-01, -1.17714500e+00,\n",
       "         1.05069017e+00,  8.46589744e-01, -4.67792153e-01,\n",
       "        -1.97087348e-01,  1.62877500e-01,  2.88668299e+00,\n",
       "        -4.43651140e-01,  9.78171267e-03,  7.95018613e-01,\n",
       "        -1.79597402e+00,  7.66662240e-01, -1.08951591e-01,\n",
       "         5.44272125e-01,  1.17688105e-02,  5.81036568e-01,\n",
       "        -9.47133243e-01,  1.79942870e+00,  3.69726479e-01,\n",
       "        -1.10224378e+00, -2.82674909e+00,  7.21227169e-01],\n",
       "       [-2.55458045e+00, -1.40803754e+00,  2.21694589e+00,\n",
       "         2.51116562e+00,  4.49932194e+00, -1.10964513e+00,\n",
       "         1.28427231e+00,  7.51327813e-01,  1.21858621e+00,\n",
       "        -1.29843247e+00,  3.86040497e+00,  9.15084064e-01,\n",
       "        -2.55027461e+00,  8.03286970e-01, -3.71548772e-01,\n",
       "         1.28246319e+00,  2.08810306e+00,  3.09737849e+00,\n",
       "        -3.32037270e-01, -1.20656812e+00, -1.68479419e+00,\n",
       "        -1.23531625e-01, -1.77379751e+00,  4.02234364e+00,\n",
       "         1.97623801e+00, -7.34115005e-01, -1.93091738e+00,\n",
       "        -5.51239967e-01, -3.88092309e-01,  4.41646785e-01,\n",
       "         8.36603567e-02, -2.46131063e-01, -2.70186365e-01,\n",
       "         3.69491905e-01, -3.44346833e+00, -1.45358491e+00,\n",
       "         8.42249453e-01, -4.03516114e-01, -6.94778085e-01,\n",
       "        -1.41477990e+00,  1.75020552e+00, -5.86933494e-01,\n",
       "        -2.01406693e+00,  2.87188601e+00, -2.32632446e+00,\n",
       "         1.05630064e+00,  5.90364516e-01,  8.30307007e-01,\n",
       "        -9.22288150e-02, -3.26594400e+00, -5.30375779e-01,\n",
       "         1.84208643e+00, -1.31810343e+00, -1.01665187e+00,\n",
       "        -4.17515337e-02,  2.08728695e+00, -2.79167151e+00,\n",
       "        -5.99529862e-01, -4.88690361e-02, -2.12963247e+00,\n",
       "        -1.34470201e+00, -1.27080679e+00,  1.81895986e-01,\n",
       "         1.34837949e+00,  1.40025508e+00,  1.07733917e+00,\n",
       "        -1.71224976e+00, -4.17056990e+00,  1.44203866e+00,\n",
       "         1.56913674e+00, -2.17786241e+00,  4.87363100e-01,\n",
       "        -2.05387616e+00,  6.86142027e-01, -3.61990869e-01,\n",
       "         6.71038926e-01, -1.20909584e+00,  2.41619563e+00,\n",
       "        -2.13795400e+00,  2.67319083e+00, -1.05019224e+00,\n",
       "         4.28284854e-01, -2.76237440e+00,  3.65226716e-01,\n",
       "         2.08573461e-01, -1.22563446e+00, -2.92318344e+00,\n",
       "        -6.04366183e-01, -3.92841965e-01,  2.92424291e-01,\n",
       "        -3.36642206e-01,  8.47373247e-01,  1.29099786e+00,\n",
       "        -3.13586831e-01, -7.45655477e-01, -2.05837220e-01,\n",
       "        -5.67733407e-01,  1.17112470e+00, -3.81120265e-01,\n",
       "         2.19878840e+00,  1.15548599e+00,  2.96172351e-01,\n",
       "         2.59579396e+00,  4.12070179e+00, -9.67725292e-02,\n",
       "         2.90535855e+00,  2.75267148e+00, -1.38733292e+00,\n",
       "         1.32946908e+00, -1.28533232e+00,  2.76966333e+00,\n",
       "         2.36244035e+00, -3.11356378e+00,  2.05352092e+00,\n",
       "         4.47439224e-01, -9.42495346e-01,  5.77737331e-01,\n",
       "         2.89296746e+00,  5.71800284e-02, -1.07737565e+00,\n",
       "         3.31553012e-01, -2.00064492e+00,  4.59111929e+00,\n",
       "         7.57671833e-01, -1.32817915e-02, -1.90292633e+00,\n",
       "        -9.57661390e-01, -3.57187223e+00,  4.04018164e+00,\n",
       "        -2.72313881e+00, -3.36439276e+00,  1.42876482e+00,\n",
       "         3.21943092e+00,  1.23439109e+00,  1.08474314e+00,\n",
       "         3.31529826e-01,  2.41161704e-01, -1.58068573e+00,\n",
       "        -1.84183335e+00,  5.20110011e-01,  6.36197984e-01,\n",
       "         2.18023900e-02, -8.60892355e-01,  1.74750435e+00,\n",
       "         1.69161737e+00,  1.98795688e+00, -1.62052429e+00,\n",
       "         1.66571483e-01,  1.38891697e+00,  1.06741118e+00,\n",
       "         1.23217857e+00,  1.78909743e+00, -5.12777746e-01,\n",
       "         1.40976846e+00, -5.69279492e-01, -5.22097461e-02,\n",
       "         1.33927971e-01,  2.75612116e-01,  1.23358297e+00,\n",
       "        -9.44415390e-01,  1.48103833e+00,  1.11323249e+00,\n",
       "         1.93274617e+00,  2.66425371e+00, -2.27834082e+00,\n",
       "        -1.53882229e+00, -1.90047956e+00, -8.85725856e-01,\n",
       "         1.71490467e+00, -3.93362753e-02, -1.03223610e+00,\n",
       "        -1.08787203e+00,  1.77847719e+00,  2.36103162e-01,\n",
       "         8.16645443e-01,  2.29026389e+00,  1.72848821e+00,\n",
       "        -6.85847640e-01, -3.58665824e+00, -5.66384554e-01,\n",
       "        -8.60212684e-01, -1.35513318e+00, -1.33845317e+00,\n",
       "        -1.83457649e+00, -1.58862138e+00,  1.43636405e+00,\n",
       "        -2.62953019e+00,  1.56830513e+00, -2.57102704e+00,\n",
       "         4.55028377e-03, -1.48729935e-01, -3.00302577e+00,\n",
       "         1.71396756e+00, -1.71622539e+00,  3.28974032e+00,\n",
       "         2.56786084e+00, -3.15882516e+00, -1.49792588e+00,\n",
       "         8.35547566e-01, -2.78821230e+00,  1.70614874e+00,\n",
       "        -3.28314364e-01, -7.29524076e-01, -3.32270741e-01,\n",
       "         2.79888296e+00, -1.19002379e-01, -4.27507639e+00,\n",
       "         2.15843320e+00,  7.71232784e-01, -1.23622811e+00,\n",
       "         9.98153389e-01,  1.18437254e+00, -1.51434422e+00,\n",
       "        -7.64834523e-01,  1.16750693e+00,  2.04671741e+00,\n",
       "         1.22476779e-01, -1.96720815e+00,  1.32873023e+00,\n",
       "         3.84176910e-01, -3.98928344e-01,  3.81470609e+00,\n",
       "        -2.75325942e+00, -3.90774459e-01, -1.74165487e+00,\n",
       "         1.15346499e-01,  4.33578581e-01,  4.00776207e-01,\n",
       "         1.32145905e+00, -7.72899806e-01,  2.77289391e+00,\n",
       "        -2.90401071e-01,  1.36486661e+00,  1.21818042e+00,\n",
       "         9.42765594e-01,  2.10191202e+00,  1.48524833e+00,\n",
       "        -1.06833637e-01, -4.72450733e-01,  1.93745628e-01,\n",
       "         1.46531713e+00, -1.00496256e+00,  5.25505364e-01,\n",
       "         3.39007974e+00, -9.69857454e-01,  7.11897731e-01,\n",
       "        -2.35462570e+00, -1.73382843e+00, -3.18111849e+00,\n",
       "        -5.55717826e-01,  2.51421881e+00, -2.21438432e+00,\n",
       "        -2.68369198e+00, -7.49478996e-01,  1.12621164e+00,\n",
       "        -9.21757936e-01,  3.70850492e+00, -5.52506983e-01,\n",
       "         1.26263463e+00, -6.24248199e-02, -9.49213743e-01,\n",
       "         2.02098012e+00,  3.10970140e+00,  1.92562878e+00,\n",
       "         2.09729318e-02, -3.61359775e-01, -1.05131710e+00,\n",
       "         6.21565223e-01, -3.83574605e-01, -1.99685109e+00,\n",
       "        -8.18091631e-01,  7.95328736e-01,  3.06237912e+00,\n",
       "        -7.75866210e-02,  1.87805998e+00,  1.40886855e+00,\n",
       "         2.06255034e-01, -1.30747640e+00,  1.96492299e-01,\n",
       "         6.45951211e-01,  3.11954713e+00, -5.96150994e-01,\n",
       "         3.17710876e-01, -1.20658052e+00, -1.88005403e-01,\n",
       "        -1.59987068e+00,  2.71494269e-01,  7.53970504e-01,\n",
       "         8.89119744e-01, -9.01459515e-01, -1.51439321e+00,\n",
       "         5.67098975e-01,  4.65894520e-01,  8.32159817e-01,\n",
       "        -4.30762380e-01,  2.18668032e+00,  2.66646683e-01,\n",
       "        -3.37024045e+00, -3.84538293e-01, -4.06788886e-01],\n",
       "       [-1.18535471e+00,  1.67218044e-01, -1.50384569e+00,\n",
       "        -8.73674273e-01,  3.54400778e+00, -1.45866275e-01,\n",
       "         1.16119111e+00,  3.18910503e+00, -3.01802784e-01,\n",
       "        -3.68587792e-01,  4.44399023e+00,  1.02861178e+00,\n",
       "        -2.85508537e+00,  1.10099483e+00,  1.08190644e+00,\n",
       "         3.69765997e-01,  1.25182617e+00,  3.15058008e-02,\n",
       "        -6.91628456e-01, -1.51598263e+00,  7.72521555e-01,\n",
       "         4.99543222e-03, -7.72389114e-01, -5.18667459e-01,\n",
       "        -3.68332505e-01, -1.89431667e+00, -2.58855486e+00,\n",
       "        -9.63921607e-01, -1.80198759e-01,  1.02835679e+00,\n",
       "        -5.96041903e-02, -8.40961754e-01, -9.46148783e-02,\n",
       "        -5.19437134e-01, -2.42522550e+00, -5.16749978e-01,\n",
       "        -3.71853173e-01,  6.73313022e-01,  1.21919465e+00,\n",
       "        -1.98759839e-01,  3.76152009e-01,  2.72842526e-01,\n",
       "        -3.80478829e-01,  5.83319426e-01, -9.12645817e-01,\n",
       "         1.50371850e+00, -1.79284498e-01, -1.64823127e+00,\n",
       "        -1.01747501e+00,  6.98511720e-01, -8.20470333e-01,\n",
       "         7.39579737e-01,  8.02399367e-02, -2.90677500e+00,\n",
       "        -5.21965504e-01,  8.94540101e-02, -6.02943957e-01,\n",
       "         4.25008267e-01,  9.21864033e-01, -3.79169315e-01,\n",
       "         2.75876492e-01, -7.46723592e-01, -7.59367123e-02,\n",
       "        -5.61856508e-01,  1.67570078e+00,  1.39157760e+00,\n",
       "        -2.50414777e+00, -3.79339004e+00,  9.55929518e-01,\n",
       "         8.78163218e-01, -9.57553387e-01, -4.80217546e-01,\n",
       "        -1.84277606e+00, -4.53850180e-01, -1.83679193e-01,\n",
       "         1.09263194e+00, -2.97196937e+00,  1.28219056e+00,\n",
       "        -1.70865500e+00,  2.88750678e-01, -2.93586683e+00,\n",
       "        -8.76891196e-01,  5.80174208e-01, -1.89174622e-01,\n",
       "         2.38430500e+00, -7.47241557e-01, -1.19607973e+00,\n",
       "        -2.24408960e+00,  1.73456296e-01, -6.87527955e-01,\n",
       "        -1.22365582e+00,  5.91989994e-01,  1.16481173e+00,\n",
       "        -3.57059550e+00,  2.18851984e-01, -1.87925720e+00,\n",
       "         4.67848301e-01, -2.53717244e-01,  7.11592734e-01,\n",
       "         6.69853151e-01,  1.71198106e+00,  9.91743207e-01,\n",
       "         1.74051034e+00,  2.93297195e+00, -4.82711792e-01,\n",
       "         2.64807034e+00,  4.28099215e-01, -1.61805606e+00,\n",
       "        -2.17882738e-01, -2.10883474e+00,  1.15697074e+00,\n",
       "         7.22730935e-01, -8.19640040e-01,  1.08349109e+00,\n",
       "         1.07853651e+00,  3.06432962e-01, -9.76580501e-01,\n",
       "        -2.16450810e-01,  2.65363753e-01, -1.20920289e+00,\n",
       "        -7.33262718e-01, -2.37260771e+00,  7.02876866e-01,\n",
       "         1.57166469e+00, -4.16290164e-01, -2.31157613e+00,\n",
       "         9.22993779e-01, -2.37447882e+00,  2.60680342e+00,\n",
       "        -8.71827662e-01, -2.52727342e+00, -1.71465054e-01,\n",
       "         3.19886756e+00, -1.13583696e+00, -2.89567530e-01,\n",
       "         1.04689133e+00, -1.34030545e+00, -1.55829942e+00,\n",
       "         2.26333094e+00, -2.47410870e+00, -1.16982901e+00,\n",
       "        -3.03416491e-01,  1.71644241e-01,  1.62027466e+00,\n",
       "         7.88308561e-01,  3.26129138e-01, -2.36743522e+00,\n",
       "        -9.87600461e-02,  1.21958530e+00,  9.54005182e-01,\n",
       "         2.15651318e-01,  2.01717973e+00,  2.04118073e-01,\n",
       "         1.32516801e+00, -1.23712873e+00,  1.27381396e+00,\n",
       "         3.14417434e+00,  5.07769883e-01, -1.09291136e+00,\n",
       "        -8.96855175e-01, -7.44172707e-02, -1.88624537e+00,\n",
       "        -3.73829305e-01,  1.58132780e+00, -2.10645390e+00,\n",
       "        -1.90032172e+00, -2.48242331e+00,  9.88971114e-01,\n",
       "        -6.63341731e-02, -2.24810749e-01,  1.98284256e+00,\n",
       "        -2.29550064e-01,  2.53917933e+00,  3.16666335e-01,\n",
       "         1.74686027e+00,  1.42170504e-01, -5.25423326e-03,\n",
       "         3.13059866e-01, -1.44441569e+00, -1.70957410e+00,\n",
       "        -7.77108371e-01, -1.58356890e-01,  1.60210347e+00,\n",
       "        -1.50819445e+00, -1.26666176e+00,  1.07953966e+00,\n",
       "        -1.32241786e+00, -4.85989660e-01,  5.40146381e-02,\n",
       "         1.87331879e+00, -9.06954229e-01, -1.56263959e+00,\n",
       "        -9.18896794e-01, -8.72131169e-01,  6.65703237e-01,\n",
       "        -1.16287492e-01, -2.80745840e+00, -3.65333289e-01,\n",
       "         5.19147873e-01,  4.90608364e-01, -1.16099445e-02,\n",
       "        -8.46951663e-01, -7.92558253e-01, -1.63079703e+00,\n",
       "         1.46580446e+00,  4.96820688e-01, -2.63244033e+00,\n",
       "         8.07280719e-01, -8.46563399e-01, -1.20219195e+00,\n",
       "         1.12003469e+00,  5.04017174e-01, -1.93297844e-02,\n",
       "         1.47581100e+00,  5.20172596e-01,  2.53101397e+00,\n",
       "        -9.61995900e-01, -1.75582039e+00, -3.54232162e-01,\n",
       "         6.02779508e-01, -1.69146037e+00,  1.07507551e+00,\n",
       "        -3.36102456e-01,  1.64643860e+00, -1.06039655e+00,\n",
       "        -9.74125624e-01,  7.69305944e-01,  1.23617148e+00,\n",
       "         2.06368852e+00, -1.46326721e-02,  6.33161724e-01,\n",
       "        -2.65847015e+00,  8.26796517e-02,  6.79569781e-01,\n",
       "         1.17015612e+00,  1.28725398e+00, -1.18706024e+00,\n",
       "         1.83421862e+00, -4.35722828e-01, -9.92522389e-02,\n",
       "        -1.97037786e-01, -2.04638794e-01,  1.31755698e+00,\n",
       "         6.00428224e-01, -9.03225839e-01,  5.16633153e-01,\n",
       "        -2.39906836e+00, -3.02146584e-01, -1.45048290e-01,\n",
       "         1.74122894e+00,  3.89838099e-01, -1.16065538e+00,\n",
       "        -3.38000417e+00, -4.61941391e-01, -6.11532070e-02,\n",
       "        -1.96859801e+00,  1.74624574e+00,  2.63710786e-02,\n",
       "        -2.51401484e-01,  6.54977560e-01, -3.90862465e-01,\n",
       "         2.58058476e+00,  2.93316293e+00,  2.19295359e+00,\n",
       "         7.21327841e-01, -1.79233894e-01,  3.12006511e-02,\n",
       "         1.41985393e+00, -2.27983093e+00,  4.50110398e-02,\n",
       "         8.61432195e-01, -8.17539573e-01, -1.95584133e-01,\n",
       "        -7.29706705e-01,  3.86635214e-01,  3.31766278e-01,\n",
       "         1.50812149e+00, -1.65896165e+00, -6.65039182e-01,\n",
       "         1.54101562e+00,  7.92958617e-01, -9.74545658e-01,\n",
       "         4.02706355e-01,  1.03289592e+00,  2.59153652e+00,\n",
       "        -9.01791453e-01, -2.48601854e-01,  1.04225433e+00,\n",
       "        -1.10344434e+00,  2.53969848e-01,  3.05195153e-01,\n",
       "        -5.40641427e-01,  1.46863595e-01, -6.14193738e-01,\n",
       "        -7.58347750e-01,  7.47396648e-01,  7.82401741e-01,\n",
       "        -9.85381678e-02, -2.90863514e+00,  5.32089710e-01]], dtype=float32)"
      ]
     },
     "execution_count": 106,
     "metadata": {},
     "output_type": "execute_result"
    }
   ],
   "source": [
    "X_test[:3]"
   ]
  },
  {
   "cell_type": "code",
   "execution_count": 107,
   "id": "88036a74",
   "metadata": {},
   "outputs": [
    {
     "name": "stdout",
     "output_type": "stream",
     "text": [
      "              precision    recall  f1-score   support\n",
      "\n",
      "           0       0.70      0.58      0.63      5902\n",
      "           1       0.80      0.91      0.85      4333\n",
      "           2       0.64      0.65      0.64      4798\n",
      "           3       0.76      0.83      0.79      4280\n",
      "\n",
      "    accuracy                           0.73     19313\n",
      "   macro avg       0.73      0.74      0.73     19313\n",
      "weighted avg       0.72      0.73      0.72     19313\n",
      "\n"
     ]
    }
   ],
   "source": [
    "clf= Pipeline([\n",
    "    (\"scaler\", MinMaxScaler()),\n",
    "    (\"model\", MultinomialNB())\n",
    "])\n",
    "\n",
    "clf.fit(X_train, y_train)\n",
    "y_pred= clf.predict(X_test)\n",
    "print(classification_report(y_pred, y_test))"
   ]
  },
  {
   "cell_type": "code",
   "execution_count": 110,
   "id": "1b41482c",
   "metadata": {},
   "outputs": [
    {
     "name": "stdout",
     "output_type": "stream",
     "text": [
      "              precision    recall  f1-score   support\n",
      "\n",
      "           0       0.84      0.94      0.89      4324\n",
      "           1       0.96      0.97      0.97      4916\n",
      "           2       0.97      0.91      0.94      5097\n",
      "           3       0.98      0.93      0.95      4976\n",
      "\n",
      "    accuracy                           0.94     19313\n",
      "   macro avg       0.94      0.94      0.94     19313\n",
      "weighted avg       0.94      0.94      0.94     19313\n",
      "\n"
     ]
    }
   ],
   "source": [
    "clf2= Pipeline([\n",
    "    (\"scaler\", MinMaxScaler()),\n",
    "    (\"model\", KNeighborsClassifier(n_neighbors=5, metric=\"euclidean\"))\n",
    "])\n",
    "\n",
    "clf2.fit(X_train, y_train)\n",
    "y_pred2= clf2.predict(X_test)\n",
    "print(classification_report(y_pred2, y_test))"
   ]
  },
  {
   "cell_type": "code",
   "execution_count": 111,
   "id": "cf34fccb",
   "metadata": {},
   "outputs": [
    {
     "name": "stdout",
     "output_type": "stream",
     "text": [
      "              precision    recall  f1-score   support\n",
      "\n",
      "           0       0.97      0.94      0.95      5023\n",
      "           1       0.97      0.99      0.98      4921\n",
      "           2       0.96      0.98      0.97      4700\n",
      "           3       0.98      0.98      0.98      4669\n",
      "\n",
      "    accuracy                           0.97     19313\n",
      "   macro avg       0.97      0.97      0.97     19313\n",
      "weighted avg       0.97      0.97      0.97     19313\n",
      "\n"
     ]
    }
   ],
   "source": [
    "clf3= Pipeline([\n",
    "    (\"scaler\", MinMaxScaler()),\n",
    "    (\"model\", RandomForestClassifier())\n",
    "])\n",
    "\n",
    "clf3.fit(X_train, y_train)\n",
    "y_pred3= clf3.predict(X_test)\n",
    "print(classification_report(y_pred3, y_test))"
   ]
  },
  {
   "cell_type": "code",
   "execution_count": null,
   "id": "42dadb35",
   "metadata": {},
   "outputs": [],
   "source": []
  }
 ],
 "metadata": {
  "kernelspec": {
   "display_name": "Python 3 (ipykernel)",
   "language": "python",
   "name": "python3"
  },
  "language_info": {
   "codemirror_mode": {
    "name": "ipython",
    "version": 3
   },
   "file_extension": ".py",
   "mimetype": "text/x-python",
   "name": "python",
   "nbconvert_exporter": "python",
   "pygments_lexer": "ipython3",
   "version": "3.11.4"
  }
 },
 "nbformat": 4,
 "nbformat_minor": 5
}
