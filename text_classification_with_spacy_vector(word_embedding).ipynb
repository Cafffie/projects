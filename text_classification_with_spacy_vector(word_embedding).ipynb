{
 "cells": [
  {
   "cell_type": "code",
   "execution_count": 1,
   "id": "41380244",
   "metadata": {},
   "outputs": [],
   "source": [
    "import pandas as pd\n",
    "import numpy as np\n",
    "\n",
    "from sklearn.naive_bayes import MultinomialNB\n",
    "from sklearn.neighbors import KNeighborsClassifier\n",
    "from sklearn.ensemble import RandomForestClassifier\n",
    "\n",
    "from sklearn.pipeline import Pipeline\n",
    "from sklearn.metrics import classification_report\n",
    "\n",
    "from sklearn.model_selection import train_test_split\n",
    "from sklearn.preprocessing import MinMaxScaler\n",
    "import re\n",
    "\n",
    "import spacy"
   ]
  },
  {
   "cell_type": "code",
   "execution_count": 3,
   "id": "0647d88e",
   "metadata": {},
   "outputs": [
    {
     "data": {
      "text/html": [
       "<div>\n",
       "<style scoped>\n",
       "    .dataframe tbody tr th:only-of-type {\n",
       "        vertical-align: middle;\n",
       "    }\n",
       "\n",
       "    .dataframe tbody tr th {\n",
       "        vertical-align: top;\n",
       "    }\n",
       "\n",
       "    .dataframe thead th {\n",
       "        text-align: right;\n",
       "    }\n",
       "</style>\n",
       "<table border=\"1\" class=\"dataframe\">\n",
       "  <thead>\n",
       "    <tr style=\"text-align: right;\">\n",
       "      <th></th>\n",
       "      <th>category</th>\n",
       "      <th>text</th>\n",
       "    </tr>\n",
       "  </thead>\n",
       "  <tbody>\n",
       "    <tr>\n",
       "      <th>0</th>\n",
       "      <td>Household</td>\n",
       "      <td>Paper Plane Design Framed Wall Hanging Motivat...</td>\n",
       "    </tr>\n",
       "    <tr>\n",
       "      <th>1</th>\n",
       "      <td>Household</td>\n",
       "      <td>SAF 'Floral' Framed Painting (Wood, 30 inch x ...</td>\n",
       "    </tr>\n",
       "    <tr>\n",
       "      <th>2</th>\n",
       "      <td>Household</td>\n",
       "      <td>SAF 'UV Textured Modern Art Print Framed' Pain...</td>\n",
       "    </tr>\n",
       "    <tr>\n",
       "      <th>3</th>\n",
       "      <td>Household</td>\n",
       "      <td>SAF Flower Print Framed Painting (Synthetic, 1...</td>\n",
       "    </tr>\n",
       "    <tr>\n",
       "      <th>4</th>\n",
       "      <td>Household</td>\n",
       "      <td>Incredible Gifts India Wooden Happy Birthday U...</td>\n",
       "    </tr>\n",
       "  </tbody>\n",
       "</table>\n",
       "</div>"
      ],
      "text/plain": [
       "    category                                               text\n",
       "0  Household  Paper Plane Design Framed Wall Hanging Motivat...\n",
       "1  Household  SAF 'Floral' Framed Painting (Wood, 30 inch x ...\n",
       "2  Household  SAF 'UV Textured Modern Art Print Framed' Pain...\n",
       "3  Household  SAF Flower Print Framed Painting (Synthetic, 1...\n",
       "4  Household  Incredible Gifts India Wooden Happy Birthday U..."
      ]
     },
     "execution_count": 3,
     "metadata": {},
     "output_type": "execute_result"
    }
   ],
   "source": [
    "ecommerce_data= pd.read_csv(\"ecommerceDataset.csv\", names=['category', 'text'])\n",
    "ecommerce_data[:5]"
   ]
  },
  {
   "cell_type": "code",
   "execution_count": 4,
   "id": "049e465c",
   "metadata": {},
   "outputs": [
    {
     "data": {
      "text/plain": [
       "(50425, 2)"
      ]
     },
     "execution_count": 4,
     "metadata": {},
     "output_type": "execute_result"
    }
   ],
   "source": [
    "ecommerce_data.shape"
   ]
  },
  {
   "cell_type": "code",
   "execution_count": 5,
   "id": "4aab11bf",
   "metadata": {},
   "outputs": [
    {
     "data": {
      "text/plain": [
       "category\n",
       "Household                 19313\n",
       "Books                     11820\n",
       "Electronics               10621\n",
       "Clothing & Accessories     8671\n",
       "Name: count, dtype: int64"
      ]
     },
     "execution_count": 5,
     "metadata": {},
     "output_type": "execute_result"
    }
   ],
   "source": [
    "ecommerce_data.category.value_counts()"
   ]
  },
  {
   "cell_type": "code",
   "execution_count": 6,
   "id": "b6465c3e",
   "metadata": {},
   "outputs": [
    {
     "name": "stdout",
     "output_type": "stream",
     "text": [
      "<class 'pandas.core.frame.DataFrame'>\n",
      "RangeIndex: 50425 entries, 0 to 50424\n",
      "Data columns (total 2 columns):\n",
      " #   Column    Non-Null Count  Dtype \n",
      "---  ------    --------------  ----- \n",
      " 0   category  50425 non-null  object\n",
      " 1   text      50424 non-null  object\n",
      "dtypes: object(2)\n",
      "memory usage: 788.0+ KB\n"
     ]
    }
   ],
   "source": [
    "ecommerce_data.info()"
   ]
  },
  {
   "cell_type": "code",
   "execution_count": 7,
   "id": "3a9a1e66",
   "metadata": {},
   "outputs": [],
   "source": [
    "ecommerce_data[\"category_label\"]= ecommerce_data.category.map({\n",
    "    \"Household\": 0,\n",
    "    \"Books\": 1,\n",
    "    \"Electronics\": 2,\n",
    "    \"Clothing & Accessories\": 3\n",
    "})"
   ]
  },
  {
   "cell_type": "code",
   "execution_count": 8,
   "id": "55a6ee34",
   "metadata": {},
   "outputs": [
    {
     "data": {
      "text/html": [
       "<div>\n",
       "<style scoped>\n",
       "    .dataframe tbody tr th:only-of-type {\n",
       "        vertical-align: middle;\n",
       "    }\n",
       "\n",
       "    .dataframe tbody tr th {\n",
       "        vertical-align: top;\n",
       "    }\n",
       "\n",
       "    .dataframe thead th {\n",
       "        text-align: right;\n",
       "    }\n",
       "</style>\n",
       "<table border=\"1\" class=\"dataframe\">\n",
       "  <thead>\n",
       "    <tr style=\"text-align: right;\">\n",
       "      <th></th>\n",
       "      <th>category</th>\n",
       "      <th>text</th>\n",
       "      <th>category_label</th>\n",
       "    </tr>\n",
       "  </thead>\n",
       "  <tbody>\n",
       "    <tr>\n",
       "      <th>0</th>\n",
       "      <td>Household</td>\n",
       "      <td>Paper Plane Design Framed Wall Hanging Motivat...</td>\n",
       "      <td>0</td>\n",
       "    </tr>\n",
       "    <tr>\n",
       "      <th>1</th>\n",
       "      <td>Household</td>\n",
       "      <td>SAF 'Floral' Framed Painting (Wood, 30 inch x ...</td>\n",
       "      <td>0</td>\n",
       "    </tr>\n",
       "    <tr>\n",
       "      <th>2</th>\n",
       "      <td>Household</td>\n",
       "      <td>SAF 'UV Textured Modern Art Print Framed' Pain...</td>\n",
       "      <td>0</td>\n",
       "    </tr>\n",
       "    <tr>\n",
       "      <th>3</th>\n",
       "      <td>Household</td>\n",
       "      <td>SAF Flower Print Framed Painting (Synthetic, 1...</td>\n",
       "      <td>0</td>\n",
       "    </tr>\n",
       "    <tr>\n",
       "      <th>4</th>\n",
       "      <td>Household</td>\n",
       "      <td>Incredible Gifts India Wooden Happy Birthday U...</td>\n",
       "      <td>0</td>\n",
       "    </tr>\n",
       "  </tbody>\n",
       "</table>\n",
       "</div>"
      ],
      "text/plain": [
       "    category                                               text  \\\n",
       "0  Household  Paper Plane Design Framed Wall Hanging Motivat...   \n",
       "1  Household  SAF 'Floral' Framed Painting (Wood, 30 inch x ...   \n",
       "2  Household  SAF 'UV Textured Modern Art Print Framed' Pain...   \n",
       "3  Household  SAF Flower Print Framed Painting (Synthetic, 1...   \n",
       "4  Household  Incredible Gifts India Wooden Happy Birthday U...   \n",
       "\n",
       "   category_label  \n",
       "0               0  \n",
       "1               0  \n",
       "2               0  \n",
       "3               0  \n",
       "4               0  "
      ]
     },
     "execution_count": 8,
     "metadata": {},
     "output_type": "execute_result"
    }
   ],
   "source": [
    "ecommerce_data[:5]"
   ]
  },
  {
   "cell_type": "code",
   "execution_count": 9,
   "id": "0c9feddb",
   "metadata": {},
   "outputs": [
    {
     "data": {
      "text/plain": [
       "category          0\n",
       "text              1\n",
       "category_label    0\n",
       "dtype: int64"
      ]
     },
     "execution_count": 9,
     "metadata": {},
     "output_type": "execute_result"
    }
   ],
   "source": [
    "#Checking for missing values\n",
    "ecommerce_data.isnull().sum()"
   ]
  },
  {
   "cell_type": "code",
   "execution_count": 10,
   "id": "47b089e3",
   "metadata": {},
   "outputs": [
    {
     "data": {
      "text/html": [
       "<div>\n",
       "<style scoped>\n",
       "    .dataframe tbody tr th:only-of-type {\n",
       "        vertical-align: middle;\n",
       "    }\n",
       "\n",
       "    .dataframe tbody tr th {\n",
       "        vertical-align: top;\n",
       "    }\n",
       "\n",
       "    .dataframe thead th {\n",
       "        text-align: right;\n",
       "    }\n",
       "</style>\n",
       "<table border=\"1\" class=\"dataframe\">\n",
       "  <thead>\n",
       "    <tr style=\"text-align: right;\">\n",
       "      <th></th>\n",
       "      <th>category</th>\n",
       "      <th>text</th>\n",
       "      <th>category_label</th>\n",
       "    </tr>\n",
       "  </thead>\n",
       "  <tbody>\n",
       "    <tr>\n",
       "      <th>39330</th>\n",
       "      <td>Clothing &amp; Accessories</td>\n",
       "      <td>NaN</td>\n",
       "      <td>3</td>\n",
       "    </tr>\n",
       "  </tbody>\n",
       "</table>\n",
       "</div>"
      ],
      "text/plain": [
       "                     category text  category_label\n",
       "39330  Clothing & Accessories  NaN               3"
      ]
     },
     "execution_count": 10,
     "metadata": {},
     "output_type": "execute_result"
    }
   ],
   "source": [
    "ecommerce_data[ecommerce_data.text.isnull()]"
   ]
  },
  {
   "cell_type": "code",
   "execution_count": 11,
   "id": "3cffc273",
   "metadata": {},
   "outputs": [],
   "source": [
    "#Replacing missing missing value with zero\n",
    "ecommerce_data[\"text\"]= ecommerce_data.text.fillna(0)"
   ]
  },
  {
   "cell_type": "code",
   "execution_count": 12,
   "id": "838497aa",
   "metadata": {},
   "outputs": [],
   "source": [
    "#Dropping row with missing value\n",
    "ecommerce_data= ecommerce_data[ecommerce_data.text != 0]"
   ]
  },
  {
   "cell_type": "code",
   "execution_count": 13,
   "id": "7fa1856b",
   "metadata": {},
   "outputs": [
    {
     "data": {
      "text/plain": [
       "(50424, 3)"
      ]
     },
     "execution_count": 13,
     "metadata": {},
     "output_type": "execute_result"
    }
   ],
   "source": [
    "ecommerce_data.shape"
   ]
  },
  {
   "cell_type": "code",
   "execution_count": 14,
   "id": "c2bb6b84",
   "metadata": {},
   "outputs": [
    {
     "data": {
      "text/html": [
       "<div>\n",
       "<style scoped>\n",
       "    .dataframe tbody tr th:only-of-type {\n",
       "        vertical-align: middle;\n",
       "    }\n",
       "\n",
       "    .dataframe tbody tr th {\n",
       "        vertical-align: top;\n",
       "    }\n",
       "\n",
       "    .dataframe thead th {\n",
       "        text-align: right;\n",
       "    }\n",
       "</style>\n",
       "<table border=\"1\" class=\"dataframe\">\n",
       "  <thead>\n",
       "    <tr style=\"text-align: right;\">\n",
       "      <th></th>\n",
       "      <th>category</th>\n",
       "      <th>text</th>\n",
       "      <th>category_label</th>\n",
       "    </tr>\n",
       "  </thead>\n",
       "  <tbody>\n",
       "    <tr>\n",
       "      <th>0</th>\n",
       "      <td>Household</td>\n",
       "      <td>Paper Plane Design Framed Wall Hanging Motivat...</td>\n",
       "      <td>0</td>\n",
       "    </tr>\n",
       "    <tr>\n",
       "      <th>1</th>\n",
       "      <td>Household</td>\n",
       "      <td>SAF 'Floral' Framed Painting (Wood, 30 inch x ...</td>\n",
       "      <td>0</td>\n",
       "    </tr>\n",
       "    <tr>\n",
       "      <th>2</th>\n",
       "      <td>Household</td>\n",
       "      <td>SAF 'UV Textured Modern Art Print Framed' Pain...</td>\n",
       "      <td>0</td>\n",
       "    </tr>\n",
       "    <tr>\n",
       "      <th>3</th>\n",
       "      <td>Household</td>\n",
       "      <td>SAF Flower Print Framed Painting (Synthetic, 1...</td>\n",
       "      <td>0</td>\n",
       "    </tr>\n",
       "    <tr>\n",
       "      <th>4</th>\n",
       "      <td>Household</td>\n",
       "      <td>Incredible Gifts India Wooden Happy Birthday U...</td>\n",
       "      <td>0</td>\n",
       "    </tr>\n",
       "  </tbody>\n",
       "</table>\n",
       "</div>"
      ],
      "text/plain": [
       "    category                                               text  \\\n",
       "0  Household  Paper Plane Design Framed Wall Hanging Motivat...   \n",
       "1  Household  SAF 'Floral' Framed Painting (Wood, 30 inch x ...   \n",
       "2  Household  SAF 'UV Textured Modern Art Print Framed' Pain...   \n",
       "3  Household  SAF Flower Print Framed Painting (Synthetic, 1...   \n",
       "4  Household  Incredible Gifts India Wooden Happy Birthday U...   \n",
       "\n",
       "   category_label  \n",
       "0               0  \n",
       "1               0  \n",
       "2               0  \n",
       "3               0  \n",
       "4               0  "
      ]
     },
     "execution_count": 14,
     "metadata": {},
     "output_type": "execute_result"
    }
   ],
   "source": [
    "ecommerce_data[:5]"
   ]
  },
  {
   "cell_type": "code",
   "execution_count": 15,
   "id": "378d6c54",
   "metadata": {},
   "outputs": [],
   "source": [
    "nlp= spacy.load(\"en_core_web_lg\")"
   ]
  },
  {
   "cell_type": "code",
   "execution_count": 16,
   "id": "b651ce0c",
   "metadata": {},
   "outputs": [
    {
     "data": {
      "text/plain": [
       "(300,)"
      ]
     },
     "execution_count": 16,
     "metadata": {},
     "output_type": "execute_result"
    }
   ],
   "source": [
    "doc= nlp(\"Paper Plane Design Framed Wall Hanging Motivation\")\n",
    "doc[0].vector.shape"
   ]
  },
  {
   "cell_type": "code",
   "execution_count": 17,
   "id": "0afe16f5",
   "metadata": {},
   "outputs": [
    {
     "data": {
      "text/plain": [
       "array([ 0.033539,  1.0758  ,  4.2654  ,  2.4083  , -1.4626  ],\n",
       "      dtype=float32)"
      ]
     },
     "execution_count": 17,
     "metadata": {},
     "output_type": "execute_result"
    }
   ],
   "source": [
    "doc[1].vector[:5]"
   ]
  },
  {
   "cell_type": "code",
   "execution_count": 18,
   "id": "0e9344d7",
   "metadata": {},
   "outputs": [
    {
     "data": {
      "text/plain": [
       "(300,)"
      ]
     },
     "execution_count": 18,
     "metadata": {},
     "output_type": "execute_result"
    }
   ],
   "source": [
    "doc[1].vector.shape"
   ]
  },
  {
   "cell_type": "code",
   "execution_count": 19,
   "id": "27cf8af7",
   "metadata": {},
   "outputs": [],
   "source": [
    "ecommerce_data[\"vector\"]= ecommerce_data[\"text\"].apply(lambda x: nlp(x).vector)"
   ]
  },
  {
   "cell_type": "code",
   "execution_count": 20,
   "id": "5d82c220",
   "metadata": {},
   "outputs": [
    {
     "data": {
      "text/html": [
       "<div>\n",
       "<style scoped>\n",
       "    .dataframe tbody tr th:only-of-type {\n",
       "        vertical-align: middle;\n",
       "    }\n",
       "\n",
       "    .dataframe tbody tr th {\n",
       "        vertical-align: top;\n",
       "    }\n",
       "\n",
       "    .dataframe thead th {\n",
       "        text-align: right;\n",
       "    }\n",
       "</style>\n",
       "<table border=\"1\" class=\"dataframe\">\n",
       "  <thead>\n",
       "    <tr style=\"text-align: right;\">\n",
       "      <th></th>\n",
       "      <th>category</th>\n",
       "      <th>text</th>\n",
       "      <th>category_label</th>\n",
       "      <th>vector</th>\n",
       "    </tr>\n",
       "  </thead>\n",
       "  <tbody>\n",
       "    <tr>\n",
       "      <th>0</th>\n",
       "      <td>Household</td>\n",
       "      <td>Paper Plane Design Framed Wall Hanging Motivat...</td>\n",
       "      <td>0</td>\n",
       "      <td>[-2.306548, 0.30390584, -2.51085, 0.06632433, ...</td>\n",
       "    </tr>\n",
       "    <tr>\n",
       "      <th>1</th>\n",
       "      <td>Household</td>\n",
       "      <td>SAF 'Floral' Framed Painting (Wood, 30 inch x ...</td>\n",
       "      <td>0</td>\n",
       "      <td>[-2.6766863, -1.1272602, -1.1009779, 0.4870543...</td>\n",
       "    </tr>\n",
       "    <tr>\n",
       "      <th>2</th>\n",
       "      <td>Household</td>\n",
       "      <td>SAF 'UV Textured Modern Art Print Framed' Pain...</td>\n",
       "      <td>0</td>\n",
       "      <td>[-2.414381, 0.7888623, -2.8213925, 0.8304517, ...</td>\n",
       "    </tr>\n",
       "    <tr>\n",
       "      <th>3</th>\n",
       "      <td>Household</td>\n",
       "      <td>SAF Flower Print Framed Painting (Synthetic, 1...</td>\n",
       "      <td>0</td>\n",
       "      <td>[-2.3844197, 0.7978983, -2.7950675, 0.74301887...</td>\n",
       "    </tr>\n",
       "    <tr>\n",
       "      <th>4</th>\n",
       "      <td>Household</td>\n",
       "      <td>Incredible Gifts India Wooden Happy Birthday U...</td>\n",
       "      <td>0</td>\n",
       "      <td>[-0.5195761, -0.46975613, -1.4031031, -0.38848...</td>\n",
       "    </tr>\n",
       "  </tbody>\n",
       "</table>\n",
       "</div>"
      ],
      "text/plain": [
       "    category                                               text  \\\n",
       "0  Household  Paper Plane Design Framed Wall Hanging Motivat...   \n",
       "1  Household  SAF 'Floral' Framed Painting (Wood, 30 inch x ...   \n",
       "2  Household  SAF 'UV Textured Modern Art Print Framed' Pain...   \n",
       "3  Household  SAF Flower Print Framed Painting (Synthetic, 1...   \n",
       "4  Household  Incredible Gifts India Wooden Happy Birthday U...   \n",
       "\n",
       "   category_label                                             vector  \n",
       "0               0  [-2.306548, 0.30390584, -2.51085, 0.06632433, ...  \n",
       "1               0  [-2.6766863, -1.1272602, -1.1009779, 0.4870543...  \n",
       "2               0  [-2.414381, 0.7888623, -2.8213925, 0.8304517, ...  \n",
       "3               0  [-2.3844197, 0.7978983, -2.7950675, 0.74301887...  \n",
       "4               0  [-0.5195761, -0.46975613, -1.4031031, -0.38848...  "
      ]
     },
     "execution_count": 20,
     "metadata": {},
     "output_type": "execute_result"
    }
   ],
   "source": [
    "ecommerce_data[:5]"
   ]
  },
  {
   "cell_type": "code",
   "execution_count": 34,
   "id": "514f10c6",
   "metadata": {},
   "outputs": [],
   "source": [
    "X_train, X_test, y_train, y_test= train_test_split(\n",
    "    ecommerce_data.vector.values, \n",
    "    ecommerce_data.category_label,\n",
    "    test_size= 0.25,\n",
    "    random_state= 2022,\n",
    "    stratify= ecommerce_data.category_label)"
   ]
  },
  {
   "cell_type": "code",
   "execution_count": 35,
   "id": "d78e251a",
   "metadata": {},
   "outputs": [
    {
     "data": {
      "text/plain": [
       "category_label\n",
       "0    4828\n",
       "1    2955\n",
       "2    2655\n",
       "3    2168\n",
       "Name: count, dtype: int64"
      ]
     },
     "execution_count": 35,
     "metadata": {},
     "output_type": "execute_result"
    }
   ],
   "source": [
    "y_test.value_counts()"
   ]
  },
  {
   "cell_type": "code",
   "execution_count": 36,
   "id": "a3c9bf39",
   "metadata": {},
   "outputs": [
    {
     "data": {
      "text/plain": [
       "category_label\n",
       "0    14485\n",
       "1     8865\n",
       "2     7966\n",
       "3     6502\n",
       "Name: count, dtype: int64"
      ]
     },
     "execution_count": 36,
     "metadata": {},
     "output_type": "execute_result"
    }
   ],
   "source": [
    "y_train.value_counts()"
   ]
  },
  {
   "cell_type": "code",
   "execution_count": 37,
   "id": "153186f0",
   "metadata": {},
   "outputs": [
    {
     "data": {
      "text/plain": [
       "array([array([-1.15011239e+00,  7.32444406e-01, -3.21626210e+00, -9.53763425e-02,\n",
       "               2.33316731e+00,  5.15002072e-01,  9.24209297e-01,  3.34508252e+00,\n",
       "              -1.88041162e+00, -5.84636219e-02,  5.62545061e+00,  1.72163761e+00,\n",
       "              -4.25379467e+00,  2.36286569e+00,  1.65008187e+00,  9.76917922e-01,\n",
       "               2.04230213e+00, -8.72460604e-01, -1.67010641e+00, -2.71721768e+00,\n",
       "               1.29622388e+00,  5.05230874e-02, -2.65119344e-01, -1.40498841e+00,\n",
       "              -1.75763822e+00, -1.14565444e+00, -1.73212051e+00, -2.72036195e+00,\n",
       "              -9.04822469e-01,  1.54686284e+00,  1.84197092e+00, -1.11679888e+00,\n",
       "              -1.59374416e-01, -1.18308365e+00, -6.59013450e-01,  1.41197348e+00,\n",
       "               9.44045603e-01,  1.36637437e+00,  3.13103652e+00,  1.08294189e+00,\n",
       "               1.39737046e+00, -2.37096772e-01, -7.15362370e-01, -5.41786611e-01,\n",
       "              -1.93079221e+00,  2.54355574e+00,  1.48725760e+00, -2.59833598e+00,\n",
       "              -5.19513965e-01,  4.07423407e-01,  8.86977196e-01,  1.25716567e+00,\n",
       "              -3.01110428e-02, -4.46980095e+00, -9.16575313e-01,  6.89522862e-01,\n",
       "               1.10033050e-01,  1.77719641e+00,  3.94201815e-01, -3.82417649e-01,\n",
       "               1.84340358e+00,  1.83891982e-01,  4.94203391e-03, -7.11506188e-01,\n",
       "               1.33113790e+00,  1.80705833e+00, -3.03550577e+00, -3.89051580e+00,\n",
       "               1.09181714e+00,  1.86243808e+00, -1.50215268e+00,  3.12280476e-01,\n",
       "              -1.97876227e+00,  2.13299274e-01,  4.44567174e-01,  7.29703844e-01,\n",
       "              -1.36421216e+00,  3.06854635e-01, -1.71283352e+00, -6.45200610e-01,\n",
       "              -2.94018412e+00, -1.24049389e+00,  1.75333798e+00, -1.98548660e-01,\n",
       "               1.68145299e+00, -1.03669763e+00,  8.81683379e-02, -8.19645166e-01,\n",
       "               9.22988281e-02,  1.38888910e-01, -1.84624457e+00,  4.90376115e-01,\n",
       "               9.73309398e-01, -4.32541704e+00,  1.26842424e-01, -2.22103977e+00,\n",
       "               1.20320845e+00, -2.05623603e+00,  6.35750711e-01,  4.81894106e-01,\n",
       "               1.02456820e+00,  4.64172095e-01,  1.86916530e+00,  2.60008097e+00,\n",
       "              -1.87597275e-01,  2.84471941e+00, -1.06153286e+00, -1.69052756e+00,\n",
       "              -8.18675905e-02, -2.59003192e-01,  2.35725164e+00, -5.11377633e-01,\n",
       "              -1.58061072e-01,  7.26167977e-01, -1.19250961e-01,  1.02721357e+00,\n",
       "              -1.33977365e+00, -5.07069468e-01,  1.12017334e+00, -1.45933557e+00,\n",
       "              -3.74097705e+00, -1.39931941e+00, -1.18589625e-01,  1.08668888e+00,\n",
       "              -2.99792498e-01, -2.84648538e+00,  1.30994171e-01, -2.74392581e+00,\n",
       "               1.69418383e+00, -7.47049510e-01, -2.63457727e+00,  8.98202777e-01,\n",
       "               3.35171485e+00, -1.54299629e+00, -1.49806464e+00, -3.18470478e-01,\n",
       "              -1.87391663e+00, -1.75658214e+00,  2.45002675e+00, -8.29284012e-01,\n",
       "              -6.48310423e-01, -3.94830525e-01, -6.92075910e-03, -2.45295003e-01,\n",
       "               8.76903832e-01,  1.77764311e-01, -2.50356412e+00,  5.92596717e-02,\n",
       "               9.38820481e-01,  1.56673706e+00,  1.75245076e-01,  2.14366627e+00,\n",
       "               4.83905435e-01,  3.52223784e-01, -7.53827214e-01,  5.81946015e-01,\n",
       "               3.79819369e+00,  1.74830154e-01, -1.06291640e+00, -6.61973953e-01,\n",
       "              -8.91193092e-01, -1.44559097e+00,  2.49466076e-01,  1.12848556e+00,\n",
       "              -2.56952977e+00, -2.99821049e-01, -3.23813272e+00,  5.42171001e-02,\n",
       "               1.63547337e-01,  2.34414056e-01,  1.00065565e+00, -5.40966809e-01,\n",
       "               9.81616437e-01,  1.31154048e+00,  1.26047158e+00, -1.82316795e-01,\n",
       "              -1.74911261e-01,  7.54271597e-02, -1.32582271e+00, -2.19372630e+00,\n",
       "              -4.45171744e-01,  6.82130873e-01,  1.31706059e+00, -2.44282103e+00,\n",
       "              -2.10736132e+00,  1.14400947e+00, -1.89323568e+00, -1.15218747e+00,\n",
       "               4.90369350e-01,  8.21904778e-01, -1.56404722e+00,  6.24504238e-02,\n",
       "               1.49636164e-01, -1.62032688e+00,  1.15195580e-01,  5.29839277e-01,\n",
       "              -2.41374874e+00, -1.80762112e-01,  4.26757485e-01, -1.44925690e+00,\n",
       "              -1.39716673e+00, -1.53673732e+00, -4.24597293e-01, -1.85683799e+00,\n",
       "               1.31771088e+00,  1.05501950e+00, -3.96359158e+00,  2.48842621e+00,\n",
       "               5.83078742e-01, -7.22616315e-01,  2.86341953e+00, -2.51996028e-03,\n",
       "               1.10640578e-01,  1.81281400e+00,  7.88336098e-02,  2.80413318e+00,\n",
       "               1.00446463e+00, -3.21571207e+00, -1.68145871e+00,  2.40839534e-02,\n",
       "              -9.06189799e-01,  6.72301590e-01, -4.66428071e-01,  4.84896719e-01,\n",
       "              -2.85696566e-01, -2.61597300e+00,  9.17468131e-01,  1.96998739e+00,\n",
       "               2.04879022e+00,  3.65218669e-01,  2.85919845e-01, -2.61880803e+00,\n",
       "              -1.99406102e-01,  2.99902856e-01,  1.54355884e+00,  9.79243159e-01,\n",
       "              -1.54559577e+00,  5.20266891e-01,  6.42857194e-01,  1.64272356e+00,\n",
       "              -1.80557799e+00, -7.35348165e-01,  4.58545715e-01,  5.14234185e-01,\n",
       "              -2.84974664e-01, -2.62742341e-01, -2.63915396e+00,  1.23997951e+00,\n",
       "              -2.16465548e-01,  2.01556230e+00, -1.17939077e-02, -9.89068925e-01,\n",
       "              -4.03184080e+00, -1.39623237e+00, -1.75111353e-01, -2.36891842e+00,\n",
       "               1.53123665e+00, -4.11688417e-01, -6.70206249e-01,  3.03327352e-01,\n",
       "              -8.23067307e-01,  3.63144565e+00,  1.88692391e+00,  1.49704623e+00,\n",
       "               1.20288479e+00, -7.11014032e-01, -4.32667732e-01,  1.39058793e+00,\n",
       "              -3.80996752e+00, -9.57528830e-01,  2.44790721e+00, -1.34852111e+00,\n",
       "               4.42114741e-01, -9.11616325e-01, -9.97843891e-02, -5.49332321e-01,\n",
       "               8.26690137e-01,  5.51950447e-02, -1.41235209e+00,  1.85806036e+00,\n",
       "               1.00074935e+00, -3.35269153e-01,  6.28077686e-01,  7.88274765e-01,\n",
       "               2.55102181e+00, -1.96653139e-02, -1.21577346e+00,  1.86785948e+00,\n",
       "              -1.56758678e+00,  8.47548068e-01,  3.20500141e-04, -9.17246819e-01,\n",
       "               1.42316818e+00, -6.49986207e-01, -8.41367960e-01,  6.29395545e-01,\n",
       "              -4.47851211e-01, -1.32981718e+00, -2.89254379e+00,  3.50269496e-01],\n",
       "             dtype=float32)                                                       ,\n",
       "       array([-1.93593454e+00, -1.88882455e-01, -8.20324421e-01,  2.49845698e-01,\n",
       "               4.45303106e+00,  7.65559971e-02,  6.96346819e-01,  3.74982047e+00,\n",
       "               8.51633132e-01, -7.48082280e-01,  5.17899418e+00,  1.39867449e+00,\n",
       "              -2.59473228e+00,  7.96331882e-01,  1.13819218e+00,  1.81230819e+00,\n",
       "               1.21889889e+00,  8.17730725e-01, -8.53888869e-01, -1.33324051e+00,\n",
       "               2.70834684e-01, -8.18324149e-01, -1.25379562e+00,  6.15282178e-01,\n",
       "               4.09066349e-01, -1.56085360e+00, -2.25948262e+00, -8.14427853e-01,\n",
       "               6.99564293e-02,  8.82784486e-01,  5.56973159e-01, -5.50855756e-01,\n",
       "              -4.41690087e-01, -1.40841949e+00, -2.47341633e+00, -2.47984663e-01,\n",
       "              -4.51269209e-01,  1.55742490e+00,  5.03530383e-01,  4.70867194e-02,\n",
       "              -3.57451402e-02,  4.53635156e-01, -6.49335086e-01,  8.03666413e-01,\n",
       "              -1.04931927e+00,  1.14909673e+00,  1.24168955e-01, -1.70818222e+00,\n",
       "              -4.72086579e-01,  5.94227791e-01, -1.01477146e+00,  2.26451659e+00,\n",
       "               4.62389022e-01, -3.21394825e+00,  2.08052233e-01,  3.51536959e-01,\n",
       "              -5.29018819e-01,  4.62071598e-01,  6.52741492e-01, -9.14036751e-01,\n",
       "               4.27186251e-01, -7.20539868e-01, -6.73572183e-01, -8.39017510e-01,\n",
       "               1.21162105e+00,  1.27222133e+00, -2.14884996e+00, -3.32842970e+00,\n",
       "               1.16377652e+00,  1.64349449e+00, -5.08249521e-01,  1.18128620e-01,\n",
       "              -1.81524467e+00, -7.23958552e-01,  9.38800126e-02,  3.14458758e-01,\n",
       "              -2.82951331e+00,  2.55594039e+00, -2.53800654e+00,  1.77979201e-01,\n",
       "              -3.14625096e+00, -2.40733624e-01, -3.02280132e-02,  6.37528360e-01,\n",
       "               2.14697623e+00,  1.20438337e-02, -2.07110429e+00, -2.56231189e+00,\n",
       "               6.18412971e-01, -2.01823980e-01, -1.57964587e+00, -2.86965728e-01,\n",
       "               1.12120724e+00, -2.98210788e+00,  4.47086781e-01, -1.90058160e+00,\n",
       "               3.47951263e-01, -4.30124879e-01,  1.07361341e+00,  1.43157029e+00,\n",
       "               1.86727786e+00,  9.03197408e-01,  1.94039965e+00,  3.49864316e+00,\n",
       "              -5.23631930e-01,  2.60368133e+00,  5.45255661e-01, -1.86052883e+00,\n",
       "               4.83503416e-02, -1.46771300e+00,  1.55865908e+00,  1.14124906e+00,\n",
       "              -1.78310478e+00,  9.92504656e-01,  1.41043913e+00, -1.68691143e-01,\n",
       "              -5.69038808e-01,  8.75290155e-01, -6.36698961e-01, -6.05326951e-01,\n",
       "              -5.93455136e-01, -2.90281463e+00,  1.68954432e+00,  1.30615270e+00,\n",
       "              -6.93777502e-01, -3.00518441e+00,  8.00363541e-01, -2.27197218e+00,\n",
       "               3.31382823e+00, -6.45188391e-01, -2.23411679e+00, -1.32468835e-01,\n",
       "               3.70987272e+00, -1.02931631e+00,  3.51133287e-01,  1.41113079e+00,\n",
       "              -1.12197924e+00, -1.42862689e+00,  1.95127332e+00, -1.50043261e+00,\n",
       "              -1.31954622e+00, -5.10964692e-01, -2.31187969e-01,  2.14935946e+00,\n",
       "               1.40548658e+00,  6.16154075e-01, -3.24150133e+00, -2.38670498e-01,\n",
       "               1.21793544e+00,  9.70430434e-01,  5.76572716e-01,  1.50036502e+00,\n",
       "               4.12039131e-01,  1.68746221e+00, -1.12072825e+00,  6.08330965e-01,\n",
       "               2.33541846e+00,  9.32996571e-02, -1.37302732e+00, -8.25822532e-01,\n",
       "              -1.04171008e-01, -1.62142992e+00,  7.96620131e-01,  2.16104317e+00,\n",
       "              -1.84254134e+00, -1.77214599e+00, -1.92688382e+00,  4.83082265e-01,\n",
       "               4.48368162e-01,  4.09870416e-01,  1.45455730e+00, -1.14521623e+00,\n",
       "               2.69300437e+00, -3.63946110e-02,  1.09581995e+00,  2.86080241e-01,\n",
       "               1.94516420e-01,  4.02168900e-01, -1.98041189e+00, -1.67672932e+00,\n",
       "              -1.29645717e+00, -2.85719782e-01,  7.52658844e-01, -2.39518389e-01,\n",
       "              -1.18103695e+00,  5.44403255e-01, -1.38598943e+00,  4.52699840e-01,\n",
       "              -1.03032567e-01,  1.74668264e+00, -9.35077444e-02, -1.85788262e+00,\n",
       "               4.73479033e-01, -1.05048633e+00,  9.82061207e-01,  3.13818753e-01,\n",
       "              -2.92407894e+00, -4.43931550e-01,  9.61705029e-01,  3.46570313e-01,\n",
       "               3.40541601e-01, -1.42354000e+00, -1.03429067e+00, -1.41464853e+00,\n",
       "               2.85716701e+00,  6.50053084e-01, -3.39847708e+00,  1.52640748e+00,\n",
       "               3.53095561e-01, -5.13143182e-01,  7.55651653e-01,  1.38560975e+00,\n",
       "              -1.17953622e+00,  1.01752806e+00,  1.00383711e+00,  1.93482172e+00,\n",
       "               4.63183485e-02, -1.83445263e+00, -5.24667129e-02,  5.42153358e-01,\n",
       "              -1.35584414e+00,  1.59935427e+00,  3.85197699e-01,  1.36470091e+00,\n",
       "              -1.61824703e+00,  1.85103565e-02,  7.36137092e-01,  1.69323289e+00,\n",
       "               1.63503075e+00, -1.45739406e-01,  1.68963337e+00, -2.34880495e+00,\n",
       "              -2.23676145e-01,  1.97252131e+00,  1.00595176e+00,  1.68545568e+00,\n",
       "              -1.73851371e+00,  8.16201091e-01, -9.85980690e-01, -3.92542750e-01,\n",
       "               2.03055456e-01,  1.05420522e-01,  1.01930678e+00,  8.11717927e-01,\n",
       "              -1.09083200e+00,  9.17990506e-01, -3.08484793e+00, -8.76852214e-01,\n",
       "              -3.07220012e-01,  2.27016878e+00,  9.89907563e-01, -2.23278356e+00,\n",
       "              -4.33720875e+00, -1.11113459e-01,  3.27203721e-02, -1.58426416e+00,\n",
       "               2.25917864e+00,  2.25718975e-01,  7.55589306e-02,  4.72735137e-01,\n",
       "              -5.68996072e-02,  3.51929832e+00,  2.66068101e+00,  1.87021744e+00,\n",
       "               1.12941051e+00, -6.53183579e-01, -1.75300390e-01,  1.98123705e+00,\n",
       "              -1.86727726e+00,  7.24621415e-01,  1.18918411e-01, -5.29605448e-01,\n",
       "               5.04011214e-01, -1.32355130e+00,  4.87613291e-01,  3.56223822e-01,\n",
       "               1.44820821e+00, -1.25986397e+00, -2.55830228e-01,  2.14283061e+00,\n",
       "               1.23561215e+00, -2.74953455e-01,  1.04240429e+00,  7.91564465e-01,\n",
       "               2.27301693e+00, -1.48130226e+00, -9.73099098e-02,  1.41833055e+00,\n",
       "              -6.27346873e-01, -2.70456880e-01,  1.92801267e-01, -1.25128895e-01,\n",
       "               2.94453418e-03, -2.82245070e-01, -1.23404706e+00,  1.11681342e+00,\n",
       "               6.75479546e-02, -1.65954459e+00, -2.10821390e+00,  3.87845546e-01],\n",
       "             dtype=float32)                                                       ,\n",
       "       array([-1.3366245e+00,  6.2763423e-01, -2.9608674e+00,  1.0648776e+00,\n",
       "               3.2919891e+00,  2.4716170e-03,  1.2241038e+00,  3.6938720e+00,\n",
       "              -1.1931484e+00, -5.2497053e-01,  6.1562738e+00,  9.8930860e-01,\n",
       "              -3.9518094e+00,  1.2057801e+00,  1.6229584e+00,  8.9264607e-01,\n",
       "               3.9708507e-01,  1.4604868e-01, -1.3906341e+00, -2.6032853e+00,\n",
       "               1.1187854e+00,  3.7488666e-01, -7.3020160e-01, -1.8410248e-01,\n",
       "              -1.0171494e+00, -2.2226651e+00, -3.1543853e+00, -2.1854234e+00,\n",
       "              -1.2023293e+00,  1.6855330e+00,  2.1694419e-01, -8.2065892e-01,\n",
       "              -2.6900813e-01, -1.9279552e+00, -1.5764736e+00, -1.3242638e-01,\n",
       "               2.9938523e-02,  1.3157293e+00,  1.8941679e+00,  1.1089840e+00,\n",
       "               1.2047032e+00, -9.3500787e-01,  2.0922047e-01, -1.1387189e-01,\n",
       "              -2.4970970e+00,  2.3511753e+00,  1.4317833e+00, -1.8270675e+00,\n",
       "              -9.5730257e-01,  9.6410829e-01, -4.1076955e-01,  9.3940568e-01,\n",
       "              -8.5494059e-01, -3.6613188e+00, -1.0637738e+00,  9.8511612e-01,\n",
       "              -1.5658079e-01,  1.0225730e+00,  1.2233729e+00,  7.4260548e-02,\n",
       "              -5.4748780e-01, -5.3794837e-01, -8.6409849e-01, -1.4439325e+00,\n",
       "               2.1780274e+00,  1.6709831e+00, -3.5743966e+00, -2.9037538e+00,\n",
       "               1.7236647e-01,  1.9324573e+00, -6.3263720e-01, -7.4307197e-01,\n",
       "              -2.0313766e+00,  7.0452666e-01, -9.0349936e-01,  1.1448947e+00,\n",
       "              -3.0700457e+00,  5.0021631e-01, -2.2644229e+00,  3.8679495e-01,\n",
       "              -3.0401075e+00, -6.9853055e-01,  1.0444067e+00,  2.6130565e-02,\n",
       "               2.0409508e+00, -6.9606054e-01, -5.0485146e-01, -1.7312536e+00,\n",
       "               7.8868753e-01, -1.1265360e-02, -1.6173559e+00,  1.4166436e+00,\n",
       "               1.5747824e+00, -3.3623805e+00,  1.0967126e+00, -1.4274936e+00,\n",
       "               1.6154914e+00, -4.3153569e-01,  5.0501096e-01,  1.0814399e+00,\n",
       "               6.8689823e-01,  2.1428081e-01,  2.6060455e+00,  2.1152740e+00,\n",
       "               3.7019265e-01,  3.3569074e+00, -1.2708621e+00, -2.7909656e+00,\n",
       "               1.5431285e-01, -2.2606516e+00,  1.4974191e+00,  2.4711818e-01,\n",
       "              -4.1594688e-02,  5.1637286e-01,  3.5127452e-01,  8.4549659e-01,\n",
       "              -7.7375144e-01, -4.7506836e-01,  1.2401536e+00, -1.9247667e+00,\n",
       "              -1.7387958e+00, -2.0469160e+00,  1.5307189e-02,  8.6898983e-01,\n",
       "              -1.0093327e+00, -3.6850574e+00,  2.4122265e-01, -2.4917746e+00,\n",
       "               3.1001737e+00, -9.9988841e-02, -3.3998442e+00,  4.3125570e-01,\n",
       "               4.0448341e+00, -1.6586745e-01, -7.1996796e-01, -3.1231016e-01,\n",
       "              -2.4007256e+00, -1.4297593e+00,  1.9130492e+00, -7.1889603e-01,\n",
       "              -6.8102986e-01, -4.6040931e-01, -3.5910812e-01,  3.2870382e-01,\n",
       "               1.5978343e+00, -6.2023973e-01, -2.4439406e+00, -1.4684308e-01,\n",
       "               1.7191449e+00,  1.3136306e+00, -4.4330192e-01,  2.0215256e+00,\n",
       "              -1.4873731e-01,  1.0492747e+00, -9.9736691e-01,  1.0275061e+00,\n",
       "               3.1345093e+00,  2.0483483e-01, -1.4759618e+00, -1.6916435e+00,\n",
       "              -8.5664135e-01, -1.3564376e+00,  3.6575070e-01,  1.8120191e+00,\n",
       "              -1.3591288e+00, -8.9896137e-01, -3.4783552e+00,  1.9674920e-01,\n",
       "               6.4979994e-01,  4.9441609e-01,  6.3620698e-01,  6.3273877e-02,\n",
       "               1.6832082e+00, -6.8762296e-01,  1.1327497e+00,  4.5773327e-01,\n",
       "              -2.6038757e-01, -1.9296257e-01, -1.8613385e+00, -2.4735341e+00,\n",
       "              -8.8184184e-01,  2.9676950e-01,  1.0324981e+00, -1.9108865e+00,\n",
       "              -1.4514108e+00,  6.9416457e-01, -1.8835548e+00, -8.2854259e-01,\n",
       "               2.9416235e-02,  1.2404443e+00, -3.2332113e-01, -1.0086188e+00,\n",
       "              -1.5901679e+00, -1.2385653e+00,  5.5977799e-02,  1.1012721e+00,\n",
       "              -2.4603477e+00, -6.1515230e-01,  1.1625494e+00, -8.7186033e-01,\n",
       "              -6.9510072e-01, -1.1444068e+00, -1.9615491e-01, -1.7940872e+00,\n",
       "               1.9777149e+00,  3.9486530e-01, -3.9306273e+00,  1.6710081e+00,\n",
       "              -2.2639805e-02, -1.0319402e+00,  9.8642993e-01,  5.4643917e-01,\n",
       "              -2.5560868e-01,  2.0740509e+00, -4.4002472e-03,  2.2954197e+00,\n",
       "               8.9280987e-01, -3.2046480e+00, -1.6721126e+00,  6.6884331e-02,\n",
       "              -1.6426477e+00,  9.0386569e-01, -8.0402803e-01, -1.0212190e+00,\n",
       "              -1.2112752e+00, -3.0523267e+00,  4.2089370e-01,  2.5811338e+00,\n",
       "               1.7396302e+00,  1.2887904e-01,  9.7676170e-01, -2.7713940e+00,\n",
       "               1.0959605e+00,  9.8727024e-01,  1.7809696e+00,  1.4051124e+00,\n",
       "              -1.5288553e+00,  9.6302414e-01, -1.7360710e-01,  7.4303198e-01,\n",
       "              -4.1002336e-01, -9.2662901e-01,  1.3713729e+00,  5.0276774e-01,\n",
       "              -8.7445313e-01,  5.8914644e-01, -2.2711356e+00,  1.6243877e+00,\n",
       "               9.1668457e-02,  2.2270055e+00,  3.3169362e-01, -7.5037599e-01,\n",
       "              -4.0462475e+00, -4.1600350e-01,  3.1578648e-01, -2.5925121e+00,\n",
       "               1.0011387e+00,  4.5960951e-01,  3.9648938e-01,  5.6210738e-03,\n",
       "              -1.1691447e+00,  4.9122548e+00,  1.5209737e+00,  1.7969462e+00,\n",
       "               1.1836125e+00, -5.0263476e-01, -8.6386859e-02,  1.3362061e+00,\n",
       "              -3.0979187e+00,  1.0188400e-01,  1.5421460e+00, -8.0393678e-01,\n",
       "              -7.8191541e-02, -1.4480454e+00, -5.0523800e-01, -5.8066398e-01,\n",
       "               1.4469478e+00, -8.6991787e-01, -1.1689620e+00,  1.0304247e+00,\n",
       "               1.6649294e+00, -9.0207241e-02,  1.1944988e+00,  1.5888419e+00,\n",
       "               3.1959746e+00, -1.2662205e+00, -5.0407255e-01,  1.2722497e+00,\n",
       "              -1.5657430e+00,  5.2068508e-01, -8.4417856e-01,  1.1853173e-01,\n",
       "               8.0765259e-01, -4.3081161e-01, -8.4859204e-01,  1.8524390e+00,\n",
       "               4.3690440e-01, -8.6737233e-01, -2.3263061e+00,  8.9895755e-01],\n",
       "             dtype=float32)                                                   ,\n",
       "       array([-1.1846021 , -0.82057035,  0.03483999,  2.3988323 ,  2.9610841 ,\n",
       "               0.1324753 , -0.14886096,  2.0795932 , -0.39389247, -0.7196877 ,\n",
       "               2.9471717 ,  1.1782637 , -3.7394881 ,  2.2867024 ,  0.747788  ,\n",
       "               1.7349215 ,  0.6227883 ,  2.4150994 , -1.0800596 , -1.4228102 ,\n",
       "               1.8369927 , -0.61133355, -2.8092594 ,  2.8762937 ,  0.69455975,\n",
       "              -0.36146006, -1.2119881 , -0.9764363 , -0.45160908,  0.7345748 ,\n",
       "               1.5385679 , -0.308666  , -1.6789042 , -0.31942305, -2.6976483 ,\n",
       "               0.01850596, -0.19015071,  0.18442126, -0.8479575 , -0.8024372 ,\n",
       "               2.848638  , -0.13903262,  0.38569027,  1.8517054 , -2.5100904 ,\n",
       "               2.74044   , -0.8410976 , -1.140422  ,  1.842883  , -2.7066715 ,\n",
       "              -1.286979  ,  0.7667113 , -0.60564303, -2.9370193 , -0.09011925,\n",
       "               2.5475452 , -2.26269   , -0.2615172 ,  1.3824333 , -0.374501  ,\n",
       "              -2.2685025 , -1.4171362 ,  0.3159698 , -0.20334561,  2.1607473 ,\n",
       "               0.20386119, -1.3224925 , -1.7204493 ,  0.12775344,  1.2789147 ,\n",
       "              -2.7920263 , -1.2386694 , -2.4272203 ,  1.9382519 ,  1.9676931 ,\n",
       "               0.9708677 , -1.272405  ,  2.067737  , -0.37904972,  1.6157327 ,\n",
       "              -1.8584257 ,  1.7182928 , -1.3634138 , -0.13686053,  1.6467444 ,\n",
       "              -2.7891212 , -2.429884  ,  0.1258504 , -0.6520364 ,  0.04662498,\n",
       "              -0.75741994,  1.4999316 ,  0.20304339, -0.5357587 , -0.06711191,\n",
       "               0.47843683,  0.00622169,  0.27969602,  0.80682343,  1.9059136 ,\n",
       "               0.4983408 ,  0.6833872 ,  2.0849893 ,  2.0013463 ,  0.5817208 ,\n",
       "               3.6196873 ,  1.1845133 , -2.3188086 ,  1.1966369 , -2.8868413 ,\n",
       "               1.2435368 ,  0.06999779, -1.3894765 , -0.38922656,  1.214004  ,\n",
       "               0.5934154 , -1.1189924 ,  2.731857  ,  0.43357018, -1.8088948 ,\n",
       "              -0.47321382, -1.3657485 ,  1.7673783 , -0.23369285,  0.32666638,\n",
       "              -3.0281613 , -1.199414  , -3.4118521 ,  2.4309618 , -2.4748564 ,\n",
       "              -2.3730774 ,  1.9898571 ,  2.1955702 ,  1.7241678 ,  0.59947807,\n",
       "              -0.20796013, -1.3479955 , -0.11644099, -1.5379785 ,  1.0234247 ,\n",
       "               0.57818633, -1.2418318 , -1.5298518 ,  0.23943242,  0.79645103,\n",
       "               1.4102527 , -1.9017146 , -0.27700776,  2.1781735 ,  2.0219016 ,\n",
       "               2.0364895 ,  0.30060124, -0.07203496,  1.2568454 , -2.1041806 ,\n",
       "              -1.044451  ,  0.7215174 , -0.17986597, -1.1438059 , -1.9800237 ,\n",
       "              -0.22393   , -0.10850382,  1.3980353 ,  2.6589932 , -2.3941622 ,\n",
       "               0.02411074, -2.7244196 , -1.3995587 ,  1.0464007 ,  0.39603114,\n",
       "              -2.313566  , -0.84522754, -0.17615338,  0.8168115 ,  1.0502073 ,\n",
       "               1.3463465 ,  1.2968493 ,  1.0682409 , -3.2501304 , -0.26595947,\n",
       "              -1.1127648 ,  0.6286869 , -1.74247   , -2.3686473 , -1.1176646 ,\n",
       "               1.162566  , -1.5307871 ,  1.9039233 , -2.0747006 , -0.20307073,\n",
       "               0.27621233, -1.3722619 ,  1.8474662 , -2.4800403 ,  1.3618832 ,\n",
       "               2.237183  , -2.8268702 ,  0.6373727 ,  1.3134406 , -1.8363041 ,\n",
       "               0.08132308, -0.47361597,  1.8330363 ,  0.1176395 ,  3.387463  ,\n",
       "              -0.35111427, -3.728796  ,  2.2847474 ,  0.3108732 , -1.1074789 ,\n",
       "               0.5819764 ,  0.38373476,  0.14135984, -0.26447392, -0.33089268,\n",
       "               1.8436743 ,  0.11396711, -2.7356644 ,  0.22371653,  0.08380404,\n",
       "              -0.5014335 ,  2.021436  , -2.9434314 , -0.5494258 , -3.0847104 ,\n",
       "              -1.4327544 , -0.52324134,  0.9717822 ,  1.9030471 ,  0.8402804 ,\n",
       "               3.4026845 ,  2.4548326 ,  1.3975236 ,  1.2172076 ,  1.8823631 ,\n",
       "               1.4889569 ,  0.34160322, -2.1546044 , -0.47161788, -1.0496684 ,\n",
       "              -2.3519294 , -0.6494949 , -0.11247408,  1.0401956 , -1.5451826 ,\n",
       "               0.6042792 , -0.73223656,  1.196854  , -2.6401184 ,  2.3599963 ,\n",
       "               2.7610476 , -0.64123   , -3.040643  , -0.3541266 ,  1.3626587 ,\n",
       "              -1.5385495 ,  2.0887969 , -1.888521  , -0.17892988,  1.1180999 ,\n",
       "              -1.0163528 ,  4.092771  ,  1.010323  ,  1.1042312 ,  1.6739949 ,\n",
       "              -0.04664715, -0.5615079 , -0.07310483,  0.23544464, -1.8436778 ,\n",
       "               1.089195  , -0.37362576,  3.0813093 , -0.7643374 ,  0.45615268,\n",
       "              -1.2555399 ,  1.8080139 , -1.353224  ,  0.6119014 ,  0.22948687,\n",
       "               3.7716641 , -0.93946487,  0.95353407, -2.426682  , -0.23574784,\n",
       "              -0.01931445, -1.2324556 ,  0.7232728 , -0.49356824,  0.19220822,\n",
       "              -0.67207646, -1.71048   , -0.17085415, -1.493692  , -1.2304837 ,\n",
       "               1.075971  , -0.5545324 , -3.928299  , -0.26260123, -0.09771319],\n",
       "             dtype=float32)                                                    ,\n",
       "       array([-1.3723338 , -0.47861952,  1.0062084 ,  1.1151721 ,  3.4073143 ,\n",
       "              -0.80953896,  0.07472768,  0.13559924,  0.13904327,  0.79121995,\n",
       "               0.50590783, -0.50616103,  0.17466997,  0.30832687, -1.1991934 ,\n",
       "               2.1122503 , -0.29952443,  2.57169   , -0.04126625,  1.78939   ,\n",
       "              -1.2549475 , -2.4689658 ,  0.17459   , -0.15028895,  2.6285899 ,\n",
       "               0.72930884, -1.40733   , -1.36318   ,  1.5414445 , -0.36869556,\n",
       "              -1.131451  ,  1.2913132 ,  2.2312224 ,  0.00565776, -1.1606144 ,\n",
       "               0.8496369 , -0.17766981,  0.13607186, -5.133033  , -1.9831812 ,\n",
       "              -1.3034213 , -0.26979554, -2.4130065 ,  2.576804  , -2.4149377 ,\n",
       "              -0.20765775, -0.64688027, -0.4599219 ,  0.6061234 , -1.534431  ,\n",
       "              -0.89292216,  0.5247779 ,  0.30797067, -1.4268456 ,  2.1175413 ,\n",
       "              -0.52634114, -0.32406908, -2.5508623 , -0.21526775,  0.70074445,\n",
       "               0.13888115, -2.5867932 ,  0.78755885,  0.9858768 ,  1.668559  ,\n",
       "              -2.637701  , -0.9686189 , -2.3254433 ,  2.865492  , -1.7424607 ,\n",
       "              -1.9044344 , -0.1730264 , -1.3402623 ,  0.44219112,  0.31921232,\n",
       "               0.14661223,  1.8407522 ,  1.2312224 ,  0.73109335,  2.0418978 ,\n",
       "              -0.7892267 ,  1.3607315 , -3.60181   , -1.261879  ,  1.8401743 ,\n",
       "               0.12280557, -0.79059553,  1.4521798 , -2.5296354 , -0.8092811 ,\n",
       "              -0.19191217,  2.205847  , -1.0496043 ,  0.12713112,  0.8686378 ,\n",
       "               0.22496782, -1.4371433 , -0.18218336,  1.6167656 , -2.3264482 ,\n",
       "              -0.65042007, -1.5858823 , -0.6044512 ,  2.8406568 , -2.213781  ,\n",
       "               1.0309374 , -1.5753536 ,  1.0699245 ,  1.5224646 , -2.3248835 ,\n",
       "               1.0803745 ,  1.5943309 , -1.9695191 , -1.5391008 ,  2.5181098 ,\n",
       "              -3.1121554 ,  0.8311566 ,  0.21357472, -0.90388894, -0.22613886,\n",
       "               1.4404601 , -1.3878046 ,  3.1275644 , -2.7815745 ,  0.7710789 ,\n",
       "               1.4224622 , -0.99791443, -0.6439589 ,  3.897057  , -2.5059521 ,\n",
       "              -1.89441   ,  0.5454823 ,  1.6758001 ,  1.3774579 , -0.23771556,\n",
       "               0.06763347,  0.81573886, -0.3526576 , -0.97857994,  0.92478776,\n",
       "              -0.17184557, -1.7200656 ,  0.63869226,  2.6951554 , -0.36598885,\n",
       "               1.2775089 , -1.9629235 ,  1.4999957 ,  1.6432307 ,  1.642991  ,\n",
       "               0.4278076 ,  0.56071115, -0.23312695,  2.4019935 , -1.1610335 ,\n",
       "              -1.0108656 ,  0.06368858, -0.35589424,  1.0305142 , -0.41407102,\n",
       "               1.3301    , -1.012759  , -0.93941665,  1.83144   , -2.1518488 ,\n",
       "              -0.40686736, -1.78505   ,  0.180766  ,  0.91718006, -0.6189467 ,\n",
       "              -1.1170032 , -1.6238459 ,  2.0105135 ,  1.3077772 , -0.15552446,\n",
       "               0.98232436,  2.2754755 , -0.4342967 ,  2.0786867 , -1.0453323 ,\n",
       "              -0.7359996 ,  1.7697221 , -0.9089701 ,  0.16976558, -2.1784902 ,\n",
       "               1.4581455 ,  1.1371583 , -1.3927827 , -0.44266155,  0.87580115,\n",
       "               0.23636113, -0.63069785,  0.5766938 ,  2.8373334 ,  0.7732666 ,\n",
       "              -0.8446967 , -0.45872986,  1.89371   ,  0.35053337, -2.3844523 ,\n",
       "               1.209681  , -0.64719   , -0.06290779, -1.3716444 ,  0.5235567 ,\n",
       "              -1.2057834 , -0.34363198,  1.3334923 , -1.3898089 ,  0.41086912,\n",
       "              -0.24686442,  1.1642045 ,  1.0233755 , -0.4026255 , -0.21957447,\n",
       "               0.88855195, -0.38176143, -0.8409678 ,  2.56412   , -2.0379324 ,\n",
       "               0.68608445,  0.76423764, -2.0287378 ,  1.9519778 , -1.6054542 ,\n",
       "               0.5310489 ,  0.23060553,  1.3437321 , -1.1948457 ,  1.2637656 ,\n",
       "               1.0251334 ,  0.05044673, -0.8290789 , -0.7530444 ,  0.52812773,\n",
       "              -0.33917522,  0.6111322 , -1.9193244 ,  0.10864557, -0.32624114,\n",
       "               1.3431935 ,  2.0648565 ,  0.6565044 ,  0.6572574 , -1.1947122 ,\n",
       "               0.3863845 , -3.0556936 , -2.5367644 , -0.6389034 ,  0.13329893,\n",
       "              -0.3365111 , -2.8438444 , -0.07905778, -1.4250901 ,  1.6922278 ,\n",
       "              -2.00254   ,  1.5310632 , -2.2793875 , -1.7295226 ,  0.9232056 ,\n",
       "              -1.8567611 , -1.9417608 ,  1.42645   ,  0.42898643,  1.3150966 ,\n",
       "              -0.8517921 , -0.6240178 , -0.46813223, -2.1450434 , -0.29194444,\n",
       "              -1.1680579 , -0.10785998,  0.09015772,  0.34213558,  1.2184657 ,\n",
       "               1.6202556 , -0.9194533 , -1.3612778 ,  0.09130115,  0.8850578 ,\n",
       "               0.06787442, -0.9771354 , -1.0933399 , -2.6770244 ,  1.0508955 ,\n",
       "              -0.42411667,  2.15209   , -0.8674176 , -0.30744663, -1.5866045 ,\n",
       "               1.0547833 ,  0.40650666,  0.58252144,  2.7731888 , -2.428172  ,\n",
       "               1.2985611 ,  1.7027001 , -2.188189  , -0.5719089 ,  1.6238477 ],\n",
       "             dtype=float32)                                                    ],\n",
       "      dtype=object)"
      ]
     },
     "execution_count": 37,
     "metadata": {},
     "output_type": "execute_result"
    }
   ],
   "source": [
    "X_train[:5]"
   ]
  },
  {
   "cell_type": "code",
   "execution_count": 39,
   "id": "20b9b2a0",
   "metadata": {},
   "outputs": [
    {
     "data": {
      "text/plain": [
       "array([array([-1.0987113 , -0.3239043 , -0.8740661 ,  0.4303316 ,  4.2347546 ,\n",
       "               0.28422326,  0.6539228 ,  3.5913353 , -0.9548351 , -0.74147093,\n",
       "               5.411868  ,  1.4595894 , -4.2286024 ,  1.119557  ,  0.5897979 ,\n",
       "               1.0923961 ,  2.0544386 ,  0.57087123, -2.021661  , -2.0252602 ,\n",
       "               0.11863516,  0.25833765, -2.084481  ,  1.1346924 ,  0.12073611,\n",
       "              -1.9574301 , -2.729089  , -0.42588097, -1.037963  ,  1.8718283 ,\n",
       "               0.23750816, -0.6944425 , -0.20043199, -1.7068294 , -1.952275  ,\n",
       "              -0.36888006,  0.47267073,  0.11054955,  0.6899071 ,  0.07541832,\n",
       "               1.2740715 ,  0.46832478, -0.9906793 ,  0.4949778 , -1.6020947 ,\n",
       "               1.0993625 ,  0.9571466 , -1.4419674 , -0.48554188, -0.9740905 ,\n",
       "              -0.8489973 ,  1.9120287 , -0.6826305 , -3.9441025 , -0.46755615,\n",
       "               1.8996851 , -1.5900506 ,  0.8503717 ,  1.1709796 , -1.7771786 ,\n",
       "               0.02624725,  0.2943733 , -1.2222358 ,  0.19254543,  2.4930074 ,\n",
       "               2.3773904 , -1.7257779 , -3.8535523 ,  0.30705205,  2.3605828 ,\n",
       "              -1.3243033 , -1.2699866 , -1.841144  ,  0.2421474 , -0.286807  ,\n",
       "               1.6210699 , -2.6637137 ,  2.1805737 , -2.4900224 ,  0.3902205 ,\n",
       "              -4.1830597 , -0.19335927,  0.02711019,  0.15828833,  2.6026795 ,\n",
       "               0.20118897, -1.6026238 , -2.6164405 ,  0.9616697 , -0.5675957 ,\n",
       "              -1.4015998 ,  1.473001  ,  2.0785367 , -3.3461683 , -0.08759345,\n",
       "              -1.4114567 , -0.7627817 , -0.29679763,  1.4201933 ,  2.365909  ,\n",
       "               2.1123965 ,  1.1449965 ,  2.4454148 ,  2.870926  ,  0.25747582,\n",
       "               4.042114  ,  0.9586601 , -2.8888342 , -0.53057504, -2.8269045 ,\n",
       "               2.3014174 ,  0.6398409 , -2.0261803 ,  1.2314531 ,  1.3114895 ,\n",
       "               0.66769534, -1.7326094 ,  0.9026074 ,  0.0764018 , -1.7302308 ,\n",
       "              -1.8181682 , -2.7128553 ,  1.3007498 ,  0.98793995,  0.43570635,\n",
       "              -3.0391793 ,  0.05213683, -2.6808214 ,  2.7498376 , -1.9369452 ,\n",
       "              -3.6963441 ,  0.510866  ,  3.9929569 , -0.94105333,  0.4299784 ,\n",
       "               1.0897285 , -2.238895  , -0.51611525,  2.4978228 , -1.0382655 ,\n",
       "              -0.43181902, -0.5416792 , -0.51890653,  1.4982259 ,  1.7519281 ,\n",
       "               1.099848  , -2.4105942 , -0.09325188,  1.5968425 ,  2.6177268 ,\n",
       "               1.380377  ,  2.5328398 ,  0.55602854,  1.6151488 , -2.5800972 ,\n",
       "               0.20393878,  3.1760287 ,  0.73170763, -1.5534023 , -1.8463838 ,\n",
       "              -1.4840794 , -0.78704476,  0.38993937,  2.7840955 , -2.3816803 ,\n",
       "              -1.7982728 , -3.7465594 , -0.4911553 ,  0.43714145, -0.62287813,\n",
       "               1.3258041 , -0.20220825,  0.6844127 ,  1.4833494 ,  1.4964762 ,\n",
       "               1.6579283 ,  0.514032  , -0.09249928, -4.027805  , -2.876098  ,\n",
       "              -0.7334357 ,  0.0832624 ,  1.4047726 , -2.4958572 , -1.3811393 ,\n",
       "               0.07278047, -2.3507063 ,  0.2595924 , -0.0366934 ,  1.1617415 ,\n",
       "              -0.90729433, -1.7234781 , -0.65456283, -1.9903449 ,  1.4303024 ,\n",
       "               1.2008731 , -3.0377486 , -1.2796818 ,  0.6645255 ,  0.31083614,\n",
       "              -0.48505914, -0.3241521 , -0.68013906, -1.7074302 ,  4.2148323 ,\n",
       "              -0.41518325, -3.2946832 ,  2.1131258 ,  0.5621747 , -1.3552362 ,\n",
       "               1.6371133 ,  0.01242132, -0.17059128,  2.0883827 ,  0.49960932,\n",
       "               3.5095224 ,  0.8224415 , -2.957592  , -0.7425423 ,  0.47576433,\n",
       "              -0.9182966 ,  2.2252307 , -0.8871889 , -0.09801565, -1.7158813 ,\n",
       "              -1.8782159 ,  1.0791556 ,  1.8802242 ,  2.2657971 ,  0.68715465,\n",
       "               2.5607476 , -2.521012  ,  0.84315753,  0.7388923 ,  2.4644535 ,\n",
       "               2.0904071 , -1.3373234 , -0.40690526, -1.2877746 , -0.5236753 ,\n",
       "              -1.1112398 , -0.67792225,  1.7854508 ,  1.567622  , -1.8468084 ,\n",
       "               1.8672476 , -3.2557995 ,  0.10910826, -0.34554496,  1.4377036 ,\n",
       "               0.8537207 , -1.8642862 , -3.348371  , -1.0144703 , -0.40605983,\n",
       "              -1.0790279 ,  2.9337733 , -0.6668895 , -0.34104827,  1.154283  ,\n",
       "               0.20042403,  4.08516   ,  3.0201945 ,  3.5745766 ,  2.1453311 ,\n",
       "              -1.040102  , -1.2265778 ,  1.296338  , -2.4236357 , -0.4335429 ,\n",
       "              -0.32690534, -0.8516385 ,  1.1805286 , -2.067276  ,  0.25337002,\n",
       "              -0.655685  ,  1.6151351 , -1.9517345 , -1.6636953 ,  1.1509463 ,\n",
       "               2.626222  , -0.17514858,  0.813948  ,  0.71179813,  1.0847548 ,\n",
       "              -0.5667948 ,  0.375101  ,  0.9726854 , -1.1969386 , -0.33583346,\n",
       "               0.23937465, -1.1660483 , -0.7629011 , -0.3959637 , -0.28889972,\n",
       "               1.0240643 ,  0.43623677, -2.4616654 , -2.6854649 ,  0.49346226],\n",
       "             dtype=float32)                                                    ,\n",
       "       array([-1.39814746e+00, -1.60544991e+00, -4.69698429e-01,  1.05806410e+00,\n",
       "               3.13968873e+00,  1.39277056e-01,  1.27754927e+00,  1.65309513e+00,\n",
       "              -7.94281900e-01, -1.14366341e+00,  2.77854490e+00,  6.70634389e-01,\n",
       "              -3.49703050e+00,  3.83295864e-01,  1.31821227e+00,  6.74017906e-01,\n",
       "               7.03079104e-01,  1.48513985e+00, -1.20768738e+00, -1.45205319e+00,\n",
       "              -4.42146778e-01,  4.29621994e-01, -7.91895390e-01,  1.30748057e+00,\n",
       "              -9.17185187e-01, -1.01627493e+00, -9.47505176e-01, -1.01426888e+00,\n",
       "               1.87324695e-02, -5.20499110e-01,  4.28951263e-01, -3.18271033e-02,\n",
       "               8.12441576e-03, -1.83621511e-01, -6.70791686e-01, -1.00098240e+00,\n",
       "               9.25500929e-01,  2.41566092e-01,  3.31301689e-01,  1.08836964e-01,\n",
       "               2.76785898e+00, -1.07475209e+00, -1.85734081e+00,  8.26261461e-01,\n",
       "              -1.99336588e+00,  1.13271415e+00,  2.02758223e-01,  4.16484118e-01,\n",
       "               9.35728908e-01, -1.23624861e+00, -2.68297285e-01,  1.05396104e+00,\n",
       "              -9.71146822e-01, -2.10934925e+00,  1.81284666e-01,  1.58122790e+00,\n",
       "              -1.60333467e+00,  7.98371077e-01,  4.63168323e-01, -6.93849087e-01,\n",
       "              -6.58601880e-01, -4.00242954e-01, -4.39574599e-01,  5.58046103e-01,\n",
       "               1.80388093e+00,  7.10154653e-01, -1.57245421e+00, -2.26637769e+00,\n",
       "               1.02429307e+00,  1.08590877e+00, -1.19594896e+00,  1.19819917e-01,\n",
       "              -1.03415155e+00, -2.63192385e-01, -4.97806609e-01,  8.85582566e-01,\n",
       "              -1.50326347e+00,  1.18766837e-01, -3.87039781e-01,  2.14198017e+00,\n",
       "              -6.97815418e-01, -7.19861805e-01, -1.51021528e+00, -1.20486736e-01,\n",
       "               7.41037250e-01, -9.76535916e-01, -1.15752769e+00, -1.04808366e+00,\n",
       "              -3.04576844e-01,  8.52608144e-01, -4.27700490e-01,  2.40820742e+00,\n",
       "               7.53966689e-01, -1.16658163e+00, -7.70132959e-01,  3.86344194e-02,\n",
       "               7.09821284e-01, -9.90633667e-02,  3.10026616e-01,  1.11229992e+00,\n",
       "               1.62407354e-01,  2.12139130e-01,  1.43550241e+00,  2.38643718e+00,\n",
       "               4.86451507e-01,  3.12354279e+00,  4.11875248e-01, -1.27662444e+00,\n",
       "               1.03470576e+00, -1.62866807e+00,  1.92849314e+00,  2.56356925e-01,\n",
       "               8.70376751e-02, -4.06166553e-01, -6.79456741e-02, -4.63585943e-01,\n",
       "              -2.15545490e-01,  4.55190361e-01, -1.60771817e-01, -2.09340596e+00,\n",
       "              -9.01762307e-01, -7.82896340e-01,  1.95639300e+00, -5.06709754e-01,\n",
       "              -1.77755460e-01, -1.90534151e+00, -5.04351616e-01, -1.97025192e+00,\n",
       "               2.27989244e+00, -7.52079129e-01, -3.19868708e+00,  1.27502251e+00,\n",
       "               3.19101048e+00,  4.69352394e-01, -2.84834057e-01, -8.35191369e-01,\n",
       "              -6.97747111e-01, -1.39120436e+00, -3.82006377e-01,  3.18196565e-01,\n",
       "               6.91787183e-01,  3.02406043e-01, -1.14140725e+00,  2.78541565e-01,\n",
       "               8.36169183e-01, -1.07431725e-01, -1.39180505e+00, -8.09337616e-01,\n",
       "               1.32171381e+00,  1.50514865e+00,  5.29604733e-01, -2.24679157e-01,\n",
       "              -3.41990203e-01,  4.19599414e-01,  1.82661325e-01, -6.26753628e-01,\n",
       "               6.92874193e-01, -6.69862866e-01,  7.17807263e-02, -2.15831757e+00,\n",
       "               7.31452227e-01, -1.74932748e-01,  2.17242002e+00,  2.30328631e+00,\n",
       "              -1.21209395e+00, -7.00745285e-01, -1.75190008e+00, -7.82526433e-01,\n",
       "               6.81637049e-01,  3.41624171e-01, -8.66554141e-01, -4.77029532e-01,\n",
       "               9.13615406e-01, -2.77730733e-01,  5.88501394e-01,  9.15602207e-01,\n",
       "               9.65810716e-01,  3.44213396e-01, -1.73812926e+00, -1.06483734e+00,\n",
       "              -3.82226497e-01, -6.01294994e-01, -1.07775450e+00, -2.12591243e+00,\n",
       "              -1.32331920e+00,  1.42274511e+00, -5.64636886e-01,  2.40887284e-01,\n",
       "              -1.60413575e+00, -8.37199017e-02, -1.06993102e-01, -1.24909139e+00,\n",
       "               2.06501968e-02, -2.31450275e-01,  2.05361319e+00,  8.58562827e-01,\n",
       "              -1.76633430e+00, -2.83792645e-01,  1.57319152e+00, -2.60911250e+00,\n",
       "               5.39542317e-01, -8.17105532e-01,  5.56623697e-01, -7.62292147e-01,\n",
       "               9.63809192e-01, -1.34945870e-03, -2.79286289e+00,  2.83041883e+00,\n",
       "               5.18890679e-01, -1.50060821e+00,  3.53578568e-01, -9.86691266e-02,\n",
       "              -4.95181769e-01, -6.80515841e-02, -2.00282410e-02,  1.88000071e+00,\n",
       "               1.04323304e+00, -2.62861919e+00,  5.00265360e-01,  4.80417371e-01,\n",
       "               8.59420419e-01,  2.23617768e+00, -2.21736574e+00, -3.58281821e-01,\n",
       "              -6.94164753e-01, -2.62420654e-01,  1.63533241e-01,  9.56481159e-01,\n",
       "               7.34876990e-01,  1.08028695e-01,  1.38340509e+00, -1.01739013e+00,\n",
       "               9.69835877e-01,  5.18264234e-01,  1.17814422e+00,  3.44812453e-01,\n",
       "               5.30152261e-01,  7.87794650e-01,  1.15012303e-01,  3.88927042e-01,\n",
       "               4.09911603e-01, -5.61933100e-01, -3.10802609e-01,  7.74876118e-01,\n",
       "              -1.49600908e-01, -7.21037567e-01, -9.31062520e-01,  3.78079414e-01,\n",
       "              -1.74607992e+00,  2.99977154e-01,  1.04434061e+00, -9.44264233e-01,\n",
       "              -1.46217358e+00, -7.73196280e-01,  8.33663642e-01, -1.23703372e+00,\n",
       "               8.17369103e-01, -2.39891931e-01,  5.50837696e-01,  3.76259118e-01,\n",
       "              -5.53301096e-01,  1.33059955e+00,  1.05557632e+00,  4.26445425e-01,\n",
       "               7.40328848e-01, -1.11523926e-01, -2.94093400e-01,  2.17740297e-01,\n",
       "              -1.49910223e+00, -1.13509810e+00, -1.01657256e-01, -1.62542269e-01,\n",
       "               1.14596999e+00,  3.59730095e-01,  6.47895515e-01,  7.89528310e-01,\n",
       "               4.06854004e-01, -3.95537287e-01, -3.53319168e-01,  2.30342433e-01,\n",
       "               2.26379395e+00, -1.42346948e-01,  1.28606355e+00, -6.70651853e-01,\n",
       "              -4.74454314e-02, -1.12043619e+00, -5.75797796e-01,  5.20951807e-01,\n",
       "              -8.88128936e-01,  2.83341736e-01, -6.59541547e-01, -6.84117079e-01,\n",
       "               7.88365379e-02, -1.60917521e-01, -7.39208043e-01,  1.01112080e+00,\n",
       "               2.81488448e-01, -2.31057692e+00, -5.72798431e-01,  3.53382915e-01],\n",
       "             dtype=float32)                                                       ,\n",
       "       array([-3.73942375e-01, -4.80410624e+00,  1.31037354e+00,  2.28355765e+00,\n",
       "               2.43246841e+00, -9.55831647e-01,  1.74195111e+00, -5.32121122e-01,\n",
       "              -1.94851995e+00, -7.11827278e-01,  6.03544712e-02,  1.14435363e+00,\n",
       "              -3.38024783e+00,  2.84660131e-01,  1.10169816e+00,  5.53556502e-01,\n",
       "               2.05812597e+00,  1.93007231e+00, -1.45218611e+00, -7.86074996e-01,\n",
       "              -3.59628439e-01,  1.71248960e+00, -1.27494276e-01,  2.44661450e+00,\n",
       "              -4.19125199e-01,  7.37829983e-01,  9.45808664e-02, -2.42439359e-01,\n",
       "              -1.08961487e+00, -2.37449050e+00,  1.99872160e+00,  8.85222759e-03,\n",
       "               1.45686054e+00,  1.20159161e+00, -5.46552300e-01, -1.45879343e-01,\n",
       "               3.22996521e+00,  4.07047600e-01, -1.89258015e+00, -1.02715015e+00,\n",
       "               3.20139027e+00, -4.04915184e-01, -1.83430195e+00,  1.68176615e+00,\n",
       "              -2.61592817e+00,  1.17911518e+00,  8.85982037e-01,  1.88418269e+00,\n",
       "               2.09376025e+00, -1.74459076e+00, -7.37546802e-01,  1.44165480e+00,\n",
       "              -2.03384304e+00, -1.06302714e+00, -1.65959612e-01,  8.44365537e-01,\n",
       "              -2.27495384e+00, -6.17746972e-02,  1.10576224e+00, -1.41079485e+00,\n",
       "               2.88330853e-01, -6.80749267e-02,  8.24964106e-01,  5.88331632e-02,\n",
       "               1.06069767e+00,  7.85827637e-01, -1.12042224e+00, -2.18485117e+00,\n",
       "               2.16839790e+00, -4.58523065e-01, -2.74526024e+00,  3.88520986e-01,\n",
       "              -1.30701077e+00,  1.17349398e+00, -2.72499353e-01,  4.76447046e-01,\n",
       "              -5.10647237e-01, -7.97396123e-01,  1.93483603e+00,  3.73220325e+00,\n",
       "               1.24566667e-01,  2.37633094e-01, -3.56968117e+00, -7.86635637e-01,\n",
       "               3.39421481e-01, -5.03601551e-01, -3.08678031e-01, -6.07267559e-01,\n",
       "              -1.88461936e+00,  2.88711405e+00,  1.54019699e-01,  2.46770883e+00,\n",
       "              -1.07093942e+00,  7.02559531e-01, -1.99955654e+00,  5.36047459e-01,\n",
       "               6.43296659e-01,  1.41585219e+00,  5.06579936e-01,  3.48971754e-01,\n",
       "              -1.52882099e+00, -9.56853986e-01,  2.47969538e-01,  2.47277951e+00,\n",
       "               8.67675066e-01,  1.88203561e+00, -4.86605465e-02, -5.71516812e-01,\n",
       "               1.72417390e+00, -1.93035662e+00,  2.41156125e+00,  1.60689965e-01,\n",
       "              -1.30316317e+00, -1.30014813e+00,  5.08865714e-01, -2.14362288e+00,\n",
       "               4.63143170e-01,  6.95876002e-01, -8.17306399e-01, -8.67111444e-01,\n",
       "              -4.10339117e-01, -6.98902726e-01,  3.67808962e+00, -2.21637464e+00,\n",
       "               1.46718454e+00, -6.34305537e-01, -1.56323695e+00, -2.64988399e+00,\n",
       "               2.92406178e+00, -2.63508296e+00, -3.77765512e+00,  3.12432146e+00,\n",
       "               2.67690682e+00,  1.80115247e+00, -1.44052362e+00, -1.79862309e+00,\n",
       "              -4.57122982e-01, -1.19713759e+00, -2.05130553e+00,  2.16015458e+00,\n",
       "               1.17756760e+00,  7.81984746e-01, -1.92778242e+00,  4.82880980e-01,\n",
       "               8.30690801e-01,  2.71741301e-01, -1.74160624e+00,  8.74860883e-01,\n",
       "              -2.08964229e-01,  1.93351030e+00,  2.15410423e+00, -9.70000327e-01,\n",
       "              -1.82052636e+00,  8.63285482e-01, -1.30003107e+00, -2.13394427e+00,\n",
       "               5.75854659e-01, -1.71902037e+00,  1.72799361e+00, -2.32519293e+00,\n",
       "               1.88848627e+00,  2.47592521e+00,  2.51920581e+00,  2.19054055e+00,\n",
       "              -7.81500101e-01, -5.66531956e-01, -1.05887628e+00, -2.67357564e+00,\n",
       "               1.22408330e+00, -5.05455256e-01, -3.21731663e+00, -2.11274076e+00,\n",
       "              -9.54624712e-01,  1.09072357e-01, -2.10527349e+00,  1.31379151e+00,\n",
       "               1.92701113e+00,  1.18084624e-01, -1.05053663e+00,  6.78014383e-02,\n",
       "              -6.91540003e-01, -5.40490031e-01, -2.52603579e+00, -2.27754807e+00,\n",
       "              -7.45503366e-01,  1.26403821e+00, -8.35984290e-01,  7.13571072e-01,\n",
       "              -3.83879542e+00, -7.89179727e-02,  1.37733147e-01, -1.64943814e+00,\n",
       "               5.32742798e-01,  1.85366020e-01,  2.91663384e+00,  1.67980671e+00,\n",
       "              -1.79619265e+00,  2.80698001e-01,  2.42543817e+00, -3.98245597e+00,\n",
       "               1.81035757e+00, -1.07302594e+00,  2.00141400e-01,  1.96371639e+00,\n",
       "               1.35561734e-01, -1.52654934e+00, -3.20742702e+00,  3.73009086e+00,\n",
       "               2.02142739e+00, -1.94839251e+00,  2.37730920e-01,  8.82118940e-01,\n",
       "               1.74145252e-01, -1.78402710e+00, -5.12251437e-01,  8.19298029e-01,\n",
       "               1.68506706e+00, -2.94764900e+00,  2.05934215e+00, -8.16009045e-02,\n",
       "               1.00739324e+00,  4.07455826e+00, -4.40676260e+00, -4.79045302e-01,\n",
       "               1.83289334e-01,  6.70849562e-01,  1.16126823e+00, -6.00268900e-01,\n",
       "               1.02656138e+00, -9.96845603e-01,  1.20839012e+00,  8.00880909e-01,\n",
       "               5.22147357e-01, -1.17391539e+00,  1.00950158e+00,  9.18845553e-03,\n",
       "               2.32354164e+00,  3.73975009e-01,  2.12471867e+00,  6.98819041e-01,\n",
       "              -7.60571182e-01, -5.61757028e-01,  2.32275820e+00,  1.22303164e+00,\n",
       "               2.19917297e-01,  4.20110464e-01,  2.80405074e-01, -3.96422625e-01,\n",
       "              -4.16244507e+00, -1.10823488e+00, -8.12684536e-01,  2.11157918e-01,\n",
       "              -5.50347206e-04, -1.98467565e+00,  6.42845631e-01, -2.19497037e+00,\n",
       "               2.47002885e-01, -5.11486292e-01, -9.09951404e-02,  4.75925118e-01,\n",
       "              -3.90070379e-01, -2.31920052e+00,  6.75340652e-01, -5.06444097e-01,\n",
       "              -3.85216445e-01,  1.06934476e+00, -1.61555767e+00, -1.62146854e+00,\n",
       "              -6.37834907e-01, -1.89775240e+00, -7.60141611e-01,  1.22340810e+00,\n",
       "               3.41686797e+00,  5.75129092e-01,  7.45597839e-01, -1.01876748e+00,\n",
       "               5.83240032e-01,  1.96755603e-01, -2.55064934e-01, -1.63680995e+00,\n",
       "               3.21163869e+00, -9.60970670e-02,  3.21069181e-01, -3.97209525e+00,\n",
       "              -2.19012499e+00, -7.97516882e-01,  5.35314679e-01,  3.73922676e-01,\n",
       "               1.16071546e+00,  1.88781694e-01, -1.00689840e+00, -1.70954895e+00,\n",
       "              -2.25327134e-01,  2.18548417e-01, -8.45075190e-01, -9.19880271e-01,\n",
       "               7.30697155e-01, -2.93614888e+00,  1.71350479e-01, -4.51647550e-01],\n",
       "             dtype=float32)                                                       ],\n",
       "      dtype=object)"
      ]
     },
     "execution_count": 39,
     "metadata": {},
     "output_type": "execute_result"
    }
   ],
   "source": [
    "X_test[:3]"
   ]
  },
  {
   "cell_type": "code",
   "execution_count": 41,
   "id": "90184a99",
   "metadata": {},
   "outputs": [
    {
     "data": {
      "text/plain": [
       "array([[-1.1501124 ,  0.7324444 , -3.216262  , ..., -1.3298172 ,\n",
       "        -2.8925438 ,  0.3502695 ],\n",
       "       [-1.9359345 , -0.18888246, -0.8203244 , ..., -1.6595446 ,\n",
       "        -2.108214  ,  0.38784555],\n",
       "       [-1.3366245 ,  0.6276342 , -2.9608674 , ..., -0.86737233,\n",
       "        -2.326306  ,  0.89895755],\n",
       "       ...,\n",
       "       [-2.9003465 , -0.42902943, -0.41330007, ..., -2.252416  ,\n",
       "        -2.9399526 ,  0.00471165],\n",
       "       [-1.8940018 , -0.8107042 , -1.4286046 , ..., -2.0909934 ,\n",
       "        -0.9805882 , -0.34726417],\n",
       "       [-2.0616357 , -0.5582499 , -2.012985  , ..., -1.2399536 ,\n",
       "        -2.2518113 ,  0.48242924]], dtype=float32)"
      ]
     },
     "execution_count": 41,
     "metadata": {},
     "output_type": "execute_result"
    }
   ],
   "source": [
    "#Converting X_train to 2 dimentional array to make it suitable for sklearn model training\n",
    "X_train_stacked= np.stack(X_train)\n",
    "X_train_stacked"
   ]
  },
  {
   "cell_type": "code",
   "execution_count": 42,
   "id": "8a747fd0",
   "metadata": {},
   "outputs": [
    {
     "data": {
      "text/plain": [
       "array([[-1.0987113 , -0.3239043 , -0.8740661 , ..., -2.4616654 ,\n",
       "        -2.6854649 ,  0.49346226],\n",
       "       [-1.3981475 , -1.6054499 , -0.46969843, ..., -2.310577  ,\n",
       "        -0.57279843,  0.35338292],\n",
       "       [-0.37394238, -4.804106  ,  1.3103735 , ..., -2.936149  ,\n",
       "         0.17135048, -0.45164755],\n",
       "       ...,\n",
       "       [-1.9795557 ,  1.3175062 , -1.1124188 , ..., -0.33096367,\n",
       "        -2.4543965 ,  0.77800167],\n",
       "       [-2.6978967 , -2.0113392 , -1.8792033 , ..., -1.5019835 ,\n",
       "        -1.4402246 , -0.19145222],\n",
       "       [-1.8333997 , -0.20488927, -1.092316  , ..., -2.5824306 ,\n",
       "        -2.6676002 ,  0.5403807 ]], dtype=float32)"
      ]
     },
     "execution_count": 42,
     "metadata": {},
     "output_type": "execute_result"
    }
   ],
   "source": [
    "#Converting X_test to 2 dimentional array to make it suitable for sklearn model training\n",
    "X_test_stacked= np.stack(X_test)\n",
    "X_test_stacked"
   ]
  },
  {
   "cell_type": "code",
   "execution_count": 45,
   "id": "57d2f713",
   "metadata": {},
   "outputs": [
    {
     "data": {
      "text/plain": [
       "(12606, 300)"
      ]
     },
     "execution_count": 45,
     "metadata": {},
     "output_type": "execute_result"
    }
   ],
   "source": [
    "X_test_stacked.shape"
   ]
  },
  {
   "cell_type": "code",
   "execution_count": 49,
   "id": "88036a74",
   "metadata": {},
   "outputs": [
    {
     "name": "stdout",
     "output_type": "stream",
     "text": [
      "              precision    recall  f1-score   support\n",
      "\n",
      "           0       0.95      0.48      0.64      9637\n",
      "           1       0.60      0.96      0.74      1857\n",
      "           2       0.21      0.59      0.31       947\n",
      "           3       0.07      0.96      0.14       165\n",
      "\n",
      "    accuracy                           0.56     12606\n",
      "   macro avg       0.46      0.74      0.45     12606\n",
      "weighted avg       0.83      0.56      0.62     12606\n",
      "\n"
     ]
    }
   ],
   "source": [
    "clf= Pipeline([\n",
    "    (\"scaler\", MinMaxScaler()),\n",
    "    (\"model\", MultinomialNB())\n",
    "])\n",
    "\n",
    "clf.fit(X_train_stacked, y_train)\n",
    "y_pred= clf.predict(X_test_stacked)\n",
    "print(classification_report(y_pred, y_test))"
   ]
  },
  {
   "cell_type": "code",
   "execution_count": 50,
   "id": "94dec1ba",
   "metadata": {},
   "outputs": [],
   "source": [
    "scaler= MinMaxScaler()\n",
    "X_train_scaled= scaler.fit_transform(X_train_stacked)\n",
    "X_test_scaled= scaler.fit_transform(X_test_stacked)"
   ]
  },
  {
   "cell_type": "code",
   "execution_count": 52,
   "id": "a781c100",
   "metadata": {},
   "outputs": [
    {
     "name": "stdout",
     "output_type": "stream",
     "text": [
      "              precision    recall  f1-score   support\n",
      "\n",
      "           0       0.93      0.50      0.65      9084\n",
      "           1       0.68      0.95      0.79      2100\n",
      "           2       0.26      0.57      0.36      1217\n",
      "           3       0.09      0.96      0.17       205\n",
      "\n",
      "    accuracy                           0.59     12606\n",
      "   macro avg       0.49      0.75      0.49     12606\n",
      "weighted avg       0.81      0.59      0.64     12606\n",
      "\n"
     ]
    }
   ],
   "source": [
    "nbc= MultinomialNB()\n",
    "nbc.fit(X_train_scaled, y_train)\n",
    "y_pred= nbc.predict(X_test_scaled)\n",
    "print(classification_report(y_pred, y_test))"
   ]
  },
  {
   "cell_type": "code",
   "execution_count": 56,
   "id": "1b41482c",
   "metadata": {},
   "outputs": [
    {
     "name": "stdout",
     "output_type": "stream",
     "text": [
      "              precision    recall  f1-score   support\n",
      "\n",
      "           0       0.93      0.89      0.91      5013\n",
      "           1       0.92      0.97      0.94      2788\n",
      "           2       0.90      0.90      0.90      2643\n",
      "           3       0.91      0.92      0.92      2162\n",
      "\n",
      "    accuracy                           0.92     12606\n",
      "   macro avg       0.91      0.92      0.92     12606\n",
      "weighted avg       0.92      0.92      0.92     12606\n",
      "\n"
     ]
    }
   ],
   "source": [
    "clf2= Pipeline([\n",
    "    (\"scaler\", MinMaxScaler()),\n",
    "    (\"model\", KNeighborsClassifier(n_neighbors=5, metric=\"euclidean\"))\n",
    "])\n",
    "\n",
    "clf2.fit(X_train_stacked, y_train)\n",
    "y_pred2= clf2.predict(X_test_stacked)\n",
    "print(classification_report(y_pred2, y_test))"
   ]
  },
  {
   "cell_type": "code",
   "execution_count": 54,
   "id": "cf34fccb",
   "metadata": {},
   "outputs": [
    {
     "name": "stdout",
     "output_type": "stream",
     "text": [
      "              precision    recall  f1-score   support\n",
      "\n",
      "           0       0.98      0.92      0.95      5106\n",
      "           1       0.97      0.98      0.98      2928\n",
      "           2       0.92      0.97      0.95      2514\n",
      "           3       0.93      0.98      0.95      2058\n",
      "\n",
      "    accuracy                           0.96     12606\n",
      "   macro avg       0.95      0.96      0.96     12606\n",
      "weighted avg       0.96      0.96      0.96     12606\n",
      "\n"
     ]
    }
   ],
   "source": [
    "clf3= Pipeline([\n",
    "    (\"scaler\", MinMaxScaler()),\n",
    "    (\"model\", RandomForestClassifier())\n",
    "])\n",
    "\n",
    "clf3.fit(X_train_stacked, y_train)\n",
    "y_pred3= clf3.predict(X_test_stacked)\n",
    "print(classification_report(y_pred3, y_test))"
   ]
  },
  {
   "cell_type": "code",
   "execution_count": null,
   "id": "42dadb35",
   "metadata": {},
   "outputs": [],
   "source": []
  }
 ],
 "metadata": {
  "kernelspec": {
   "display_name": "Python 3 (ipykernel)",
   "language": "python",
   "name": "python3"
  },
  "language_info": {
   "codemirror_mode": {
    "name": "ipython",
    "version": 3
   },
   "file_extension": ".py",
   "mimetype": "text/x-python",
   "name": "python",
   "nbconvert_exporter": "python",
   "pygments_lexer": "ipython3",
   "version": "3.11.4"
  }
 },
 "nbformat": 4,
 "nbformat_minor": 5
}
