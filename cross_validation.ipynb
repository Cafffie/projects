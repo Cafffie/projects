{
 "cells": [
  {
   "cell_type": "code",
   "execution_count": 17,
   "id": "9ab75d45",
   "metadata": {},
   "outputs": [],
   "source": [
    "from sklearn.linear_model import LogisticRegression\n",
    "from sklearn.svm import SVC\n",
    "from sklearn.ensemble import RandomForestClassifier\n",
    "import numpy as np\n",
    "import pandas as pd\n",
    "from sklearn.datasets import load_digits\n",
    "from sklearn.model_selection import train_test_split\n",
    "\n",
    "#Suppress warnings\n",
    "import warnings\n",
    "warnings.filterwarnings(\"ignore\")\n",
    "\n",
    "digits= load_digits()"
   ]
  },
  {
   "cell_type": "code",
   "execution_count": 2,
   "id": "bbd0d99b",
   "metadata": {},
   "outputs": [],
   "source": [
    "from sklearn.model_selection import train_test_split\n",
    "X_train, X_test, y_train, y_test= train_test_split(digits.data, digits.target, test_size=0.3)"
   ]
  },
  {
   "cell_type": "code",
   "execution_count": 3,
   "id": "7282226a",
   "metadata": {},
   "outputs": [
    {
     "name": "stderr",
     "output_type": "stream",
     "text": [
      "C:\\Users\\PC-020\\anaconda3\\Lib\\site-packages\\sklearn\\linear_model\\_logistic.py:460: ConvergenceWarning: lbfgs failed to converge (status=1):\n",
      "STOP: TOTAL NO. of ITERATIONS REACHED LIMIT.\n",
      "\n",
      "Increase the number of iterations (max_iter) or scale the data as shown in:\n",
      "    https://scikit-learn.org/stable/modules/preprocessing.html\n",
      "Please also refer to the documentation for alternative solver options:\n",
      "    https://scikit-learn.org/stable/modules/linear_model.html#logistic-regression\n",
      "  n_iter_i = _check_optimize_result(\n"
     ]
    },
    {
     "data": {
      "text/plain": [
       "0.9629629629629629"
      ]
     },
     "execution_count": 3,
     "metadata": {},
     "output_type": "execute_result"
    }
   ],
   "source": [
    "lr= LogisticRegression()\n",
    "lr.fit(X_train, y_train)\n",
    "lr.score(X_test, y_test)"
   ]
  },
  {
   "cell_type": "code",
   "execution_count": 4,
   "id": "40819287",
   "metadata": {},
   "outputs": [
    {
     "data": {
      "text/plain": [
       "0.9888888888888889"
      ]
     },
     "execution_count": 4,
     "metadata": {},
     "output_type": "execute_result"
    }
   ],
   "source": [
    "svm= SVC()\n",
    "svm.fit(X_train, y_train)\n",
    "svm.score(X_test, y_test)"
   ]
  },
  {
   "cell_type": "code",
   "execution_count": 5,
   "id": "d2befdde",
   "metadata": {},
   "outputs": [
    {
     "data": {
      "text/plain": [
       "0.9629629629629629"
      ]
     },
     "execution_count": 5,
     "metadata": {},
     "output_type": "execute_result"
    }
   ],
   "source": [
    "rf= RandomForestClassifier(n_estimators=40)\n",
    "rf.fit(X_train, y_train)\n",
    "rf.score(X_test, y_test)"
   ]
  },
  {
   "cell_type": "code",
   "execution_count": 6,
   "id": "f45eb746",
   "metadata": {},
   "outputs": [
    {
     "data": {
      "text/plain": [
       "KFold(n_splits=3, random_state=None, shuffle=False)"
      ]
     },
     "execution_count": 6,
     "metadata": {},
     "output_type": "execute_result"
    }
   ],
   "source": [
    "from sklearn.model_selection import KFold\n",
    "kf= KFold(n_splits=3)\n",
    "kf"
   ]
  },
  {
   "cell_type": "code",
   "execution_count": 7,
   "id": "e03cfaef",
   "metadata": {},
   "outputs": [
    {
     "name": "stdout",
     "output_type": "stream",
     "text": [
      "[3 4 5 6 7 8] [0 1 2]\n",
      "[0 1 2 6 7 8] [3 4 5]\n",
      "[0 1 2 3 4 5] [6 7 8]\n"
     ]
    }
   ],
   "source": [
    "for train_index, test_index in kf.split([1,2,3,4,5,6,7,8,9]):\n",
    "    print(train_index, test_index)"
   ]
  },
  {
   "cell_type": "code",
   "execution_count": 8,
   "id": "139d0028",
   "metadata": {},
   "outputs": [],
   "source": [
    "def get_score(model, X_train, X_test, y_train, y_test):\n",
    "    model.fit(X_train, y_train)\n",
    "    return model.score(X_test, y_test)"
   ]
  },
  {
   "cell_type": "code",
   "execution_count": 9,
   "id": "55bf1017",
   "metadata": {},
   "outputs": [],
   "source": [
    "#get_score(SVC(), X_train, X_test, y_train, y_test)"
   ]
  },
  {
   "cell_type": "code",
   "execution_count": 10,
   "id": "17808bcd",
   "metadata": {},
   "outputs": [],
   "source": [
    "from sklearn.model_selection import StratifiedKFold\n",
    "folds= StratifiedKFold(n_splits=3)"
   ]
  },
  {
   "cell_type": "code",
   "execution_count": 11,
   "id": "694e23b3",
   "metadata": {},
   "outputs": [
    {
     "name": "stderr",
     "output_type": "stream",
     "text": [
      "C:\\Users\\PC-020\\anaconda3\\Lib\\site-packages\\sklearn\\linear_model\\_logistic.py:460: ConvergenceWarning: lbfgs failed to converge (status=1):\n",
      "STOP: TOTAL NO. of ITERATIONS REACHED LIMIT.\n",
      "\n",
      "Increase the number of iterations (max_iter) or scale the data as shown in:\n",
      "    https://scikit-learn.org/stable/modules/preprocessing.html\n",
      "Please also refer to the documentation for alternative solver options:\n",
      "    https://scikit-learn.org/stable/modules/linear_model.html#logistic-regression\n",
      "  n_iter_i = _check_optimize_result(\n"
     ]
    }
   ],
   "source": [
    "scores_l= []\n",
    "scores_svm= []\n",
    "scores_rf= []\n",
    "\n",
    "for train_index, test_index in kf.split(digits.data):\n",
    "     X_train, X_test, y_train, y_test= digits.data[train_index], digits.data[test_index], \\\n",
    "        digits.target[train_index], digits.target[test_index]\n",
    "        \n",
    "scores_l.append(get_score(LogisticRegression(), X_train, X_test, y_train, y_test))\n",
    "scores_svm.append(get_score(SVC(), X_train, X_test, y_train, y_test))\n",
    "scores_rf.append(get_score(RandomForestClassifier(), X_train, X_test, y_train, y_test))"
   ]
  },
  {
   "cell_type": "code",
   "execution_count": 12,
   "id": "eb5d30f7",
   "metadata": {},
   "outputs": [
    {
     "data": {
      "text/plain": [
       "[0.9148580968280468]"
      ]
     },
     "execution_count": 12,
     "metadata": {},
     "output_type": "execute_result"
    }
   ],
   "source": [
    "scores_l"
   ]
  },
  {
   "cell_type": "code",
   "execution_count": 13,
   "id": "446b5f1e",
   "metadata": {},
   "outputs": [
    {
     "data": {
      "text/plain": [
       "[0.9549248747913188]"
      ]
     },
     "execution_count": 13,
     "metadata": {},
     "output_type": "execute_result"
    }
   ],
   "source": [
    "scores_svm"
   ]
  },
  {
   "cell_type": "code",
   "execution_count": 14,
   "id": "105c684c",
   "metadata": {},
   "outputs": [
    {
     "data": {
      "text/plain": [
       "[0.9265442404006677]"
      ]
     },
     "execution_count": 14,
     "metadata": {},
     "output_type": "execute_result"
    }
   ],
   "source": [
    "scores_rf"
   ]
  },
  {
   "cell_type": "code",
   "execution_count": 15,
   "id": "d0361275",
   "metadata": {},
   "outputs": [],
   "source": [
    "from sklearn.model_selection import cross_val_score"
   ]
  },
  {
   "cell_type": "code",
   "execution_count": 19,
   "id": "571c9079",
   "metadata": {},
   "outputs": [
    {
     "data": {
      "text/plain": [
       "array([0.92222222, 0.86944444, 0.94150418, 0.93871866, 0.89693593])"
      ]
     },
     "execution_count": 19,
     "metadata": {},
     "output_type": "execute_result"
    }
   ],
   "source": [
    "scores_lr= cross_val_score(LogisticRegression(), digits.data, digits.target, cv=5)\n",
    "scores_lr"
   ]
  },
  {
   "cell_type": "code",
   "execution_count": 20,
   "id": "3cf5d527",
   "metadata": {},
   "outputs": [
    {
     "data": {
      "text/plain": [
       "0.9137650882079852"
      ]
     },
     "execution_count": 20,
     "metadata": {},
     "output_type": "execute_result"
    }
   ],
   "source": [
    "scores_lr.mean()"
   ]
  },
  {
   "cell_type": "code",
   "execution_count": 24,
   "id": "ed3e5a0c",
   "metadata": {},
   "outputs": [
    {
     "data": {
      "text/plain": [
       "array([0.96111111, 0.94444444, 0.98328691, 0.98885794, 0.93871866])"
      ]
     },
     "execution_count": 24,
     "metadata": {},
     "output_type": "execute_result"
    }
   ],
   "source": [
    "score_svc= cross_val_score(SVC(), digits.data, digits.target, cv=5)\n",
    "score_svc"
   ]
  },
  {
   "cell_type": "code",
   "execution_count": 25,
   "id": "4762c7cb",
   "metadata": {},
   "outputs": [
    {
     "data": {
      "text/plain": [
       "0.9632838130609718"
      ]
     },
     "execution_count": 25,
     "metadata": {},
     "output_type": "execute_result"
    }
   ],
   "source": [
    "score_svc.mean()"
   ]
  },
  {
   "cell_type": "code",
   "execution_count": 22,
   "id": "6ff29e90",
   "metadata": {},
   "outputs": [
    {
     "data": {
      "text/plain": [
       "array([0.94444444, 0.91111111, 0.94986072, 0.96100279, 0.91643454])"
      ]
     },
     "execution_count": 22,
     "metadata": {},
     "output_type": "execute_result"
    }
   ],
   "source": [
    "score_rf= cross_val_score(RandomForestClassifier(), digits.data, digits.target, cv=5)\n",
    "score_rf"
   ]
  },
  {
   "cell_type": "code",
   "execution_count": 23,
   "id": "56b55715",
   "metadata": {},
   "outputs": [
    {
     "data": {
      "text/plain": [
       "0.9365707211389663"
      ]
     },
     "execution_count": 23,
     "metadata": {},
     "output_type": "execute_result"
    }
   ],
   "source": [
    "score_rf.mean()"
   ]
  },
  {
   "cell_type": "markdown",
   "id": "1dcad7af",
   "metadata": {},
   "source": [
    "# Checking Cross validation scores without the cv arguement"
   ]
  },
  {
   "cell_type": "code",
   "execution_count": 26,
   "id": "8c7071fa",
   "metadata": {},
   "outputs": [
    {
     "data": {
      "text/plain": [
       "0.9137650882079852"
      ]
     },
     "execution_count": 26,
     "metadata": {},
     "output_type": "execute_result"
    }
   ],
   "source": [
    "scores_lr= cross_val_score(LogisticRegression(), digits.data, digits.target)\n",
    "scores_lr.mean()"
   ]
  },
  {
   "cell_type": "code",
   "execution_count": 27,
   "id": "cdffad76",
   "metadata": {},
   "outputs": [
    {
     "data": {
      "text/plain": [
       "0.9632838130609718"
      ]
     },
     "execution_count": 27,
     "metadata": {},
     "output_type": "execute_result"
    }
   ],
   "source": [
    "score_svc= cross_val_score(SVC(), digits.data, digits.target)\n",
    "score_svc.mean()"
   ]
  },
  {
   "cell_type": "code",
   "execution_count": 28,
   "id": "614126b7",
   "metadata": {},
   "outputs": [
    {
     "data": {
      "text/plain": [
       "0.9399195295574125"
      ]
     },
     "execution_count": 28,
     "metadata": {},
     "output_type": "execute_result"
    }
   ],
   "source": [
    "score_rf= cross_val_score(RandomForestClassifier(), digits.data, digits.target)\n",
    "score_rf.mean()"
   ]
  },
  {
   "cell_type": "markdown",
   "id": "1bc0d78b",
   "metadata": {},
   "source": [
    "# Tuning parameters for Random Forest Classifier"
   ]
  },
  {
   "cell_type": "code",
   "execution_count": 35,
   "id": "b6e99e15",
   "metadata": {},
   "outputs": [
    {
     "data": {
      "text/plain": [
       "0.8998638192510059"
      ]
     },
     "execution_count": 35,
     "metadata": {},
     "output_type": "execute_result"
    }
   ],
   "source": [
    "score_rf= cross_val_score(RandomForestClassifier(n_estimators=10), digits.data, digits.target, cv=5)\n",
    "score_rf.mean()"
   ]
  },
  {
   "cell_type": "code",
   "execution_count": 36,
   "id": "64329cb4",
   "metadata": {},
   "outputs": [
    {
     "data": {
      "text/plain": [
       "0.9104240173320953"
      ]
     },
     "execution_count": 36,
     "metadata": {},
     "output_type": "execute_result"
    }
   ],
   "source": [
    "score_rf= cross_val_score(RandomForestClassifier(n_estimators=15), digits.data, digits.target, cv=5)\n",
    "score_rf.mean()"
   ]
  },
  {
   "cell_type": "code",
   "execution_count": 37,
   "id": "812fafbb",
   "metadata": {},
   "outputs": [
    {
     "data": {
      "text/plain": [
       "0.9315738161559889"
      ]
     },
     "execution_count": 37,
     "metadata": {},
     "output_type": "execute_result"
    }
   ],
   "source": [
    "score_rf= cross_val_score(RandomForestClassifier(n_estimators=40), digits.data, digits.target, cv=5)\n",
    "score_rf.mean()"
   ]
  },
  {
   "cell_type": "code",
   "execution_count": 45,
   "id": "3ed0ee40",
   "metadata": {},
   "outputs": [
    {
     "data": {
      "text/plain": [
       "0.9360198081089447"
      ]
     },
     "execution_count": 45,
     "metadata": {},
     "output_type": "execute_result"
    }
   ],
   "source": [
    "score_rf= cross_val_score(RandomForestClassifier(n_estimators=40), digits.data, digits.target)\n",
    "score_rf.mean()"
   ]
  },
  {
   "cell_type": "code",
   "execution_count": 38,
   "id": "94565b3b",
   "metadata": {},
   "outputs": [
    {
     "data": {
      "text/plain": [
       "0.9315784586815228"
      ]
     },
     "execution_count": 38,
     "metadata": {},
     "output_type": "execute_result"
    }
   ],
   "source": [
    "score_rf= cross_val_score(RandomForestClassifier(n_estimators=50), digits.data, digits.target, cv=5)\n",
    "score_rf.mean()"
   ]
  },
  {
   "cell_type": "code",
   "execution_count": 44,
   "id": "f2a76b56",
   "metadata": {},
   "outputs": [
    {
     "data": {
      "text/plain": [
       "0.9326864747756114"
      ]
     },
     "execution_count": 44,
     "metadata": {},
     "output_type": "execute_result"
    }
   ],
   "source": [
    "score_rf= cross_val_score(RandomForestClassifier(n_estimators=50), digits.data, digits.target)\n",
    "score_rf.mean()"
   ]
  },
  {
   "cell_type": "code",
   "execution_count": 39,
   "id": "0659e6cb",
   "metadata": {},
   "outputs": [
    {
     "data": {
      "text/plain": [
       "0.9354658000619004"
      ]
     },
     "execution_count": 39,
     "metadata": {},
     "output_type": "execute_result"
    }
   ],
   "source": [
    "score_rf= cross_val_score(RandomForestClassifier(n_estimators=60), digits.data, digits.target, cv=5)\n",
    "score_rf.mean()"
   ]
  },
  {
   "cell_type": "code",
   "execution_count": 43,
   "id": "58242e45",
   "metadata": {},
   "outputs": [
    {
     "data": {
      "text/plain": [
       "0.9371262766945219"
      ]
     },
     "execution_count": 43,
     "metadata": {},
     "output_type": "execute_result"
    }
   ],
   "source": [
    "score_rf= cross_val_score(RandomForestClassifier(n_estimators=60), digits.data, digits.target)\n",
    "score_rf.mean()"
   ]
  },
  {
   "cell_type": "code",
   "execution_count": 40,
   "id": "3fdd6e23",
   "metadata": {},
   "outputs": [
    {
     "data": {
      "text/plain": [
       "0.9388099659548128"
      ]
     },
     "execution_count": 40,
     "metadata": {},
     "output_type": "execute_result"
    }
   ],
   "source": [
    "score_rf= cross_val_score(RandomForestClassifier(n_estimators=100), digits.data, digits.target, cv=5)\n",
    "score_rf.mean()"
   ]
  },
  {
   "cell_type": "code",
   "execution_count": 41,
   "id": "227e3915",
   "metadata": {},
   "outputs": [
    {
     "data": {
      "text/plain": [
       "0.936027545651501"
      ]
     },
     "execution_count": 41,
     "metadata": {},
     "output_type": "execute_result"
    }
   ],
   "source": [
    "score_rf= cross_val_score(RandomForestClassifier(n_estimators=100), digits.data, digits.target)\n",
    "score_rf.mean()"
   ]
  },
  {
   "cell_type": "code",
   "execution_count": 46,
   "id": "13b70750",
   "metadata": {},
   "outputs": [
    {
     "data": {
      "text/plain": [
       "0.9371432992881461"
      ]
     },
     "execution_count": 46,
     "metadata": {},
     "output_type": "execute_result"
    }
   ],
   "source": [
    "score_rf= cross_val_score(RandomForestClassifier(n_estimators=200), digits.data, digits.target, cv=5)\n",
    "score_rf.mean()"
   ]
  },
  {
   "cell_type": "code",
   "execution_count": 48,
   "id": "da412f90",
   "metadata": {},
   "outputs": [
    {
     "data": {
      "text/plain": [
       "0.9376973073351904"
      ]
     },
     "execution_count": 48,
     "metadata": {},
     "output_type": "execute_result"
    }
   ],
   "source": [
    "score_rf= cross_val_score(RandomForestClassifier(n_estimators=200), digits.data, digits.target)\n",
    "score_rf.mean()"
   ]
  },
  {
   "cell_type": "code",
   "execution_count": null,
   "id": "dc48a0b1",
   "metadata": {},
   "outputs": [],
   "source": []
  }
 ],
 "metadata": {
  "kernelspec": {
   "display_name": "Python 3 (ipykernel)",
   "language": "python",
   "name": "python3"
  },
  "language_info": {
   "codemirror_mode": {
    "name": "ipython",
    "version": 3
   },
   "file_extension": ".py",
   "mimetype": "text/x-python",
   "name": "python",
   "nbconvert_exporter": "python",
   "pygments_lexer": "ipython3",
   "version": "3.11.4"
  }
 },
 "nbformat": 4,
 "nbformat_minor": 5
}
