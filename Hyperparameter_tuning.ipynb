{
 "cells": [
  {
   "cell_type": "code",
   "execution_count": 1,
   "id": "7fd645a9",
   "metadata": {},
   "outputs": [],
   "source": [
    "import pandas as pd\n",
    "import numpy as np\n",
    "\n",
    "from sklearn.model_selection import GridSearchCV\n",
    "from sklearn.model_selection import cross_val_score\n",
    "from sklearn.model_selection import RandomizedSearchCV\n",
    "\n",
    "from sklearn.svm import SVC\n",
    "from sklearn.linear_model import LogisticRegression\n",
    "from sklearn.ensemble import RandomForestClassifier\n",
    "\n",
    "from sklearn.preprocessing import MinMaxScaler\n",
    "from imblearn.over_sampling import SMOTE"
   ]
  },
  {
   "cell_type": "code",
   "execution_count": 2,
   "id": "7cc36f63",
   "metadata": {},
   "outputs": [
    {
     "data": {
      "text/html": [
       "<div>\n",
       "<style scoped>\n",
       "    .dataframe tbody tr th:only-of-type {\n",
       "        vertical-align: middle;\n",
       "    }\n",
       "\n",
       "    .dataframe tbody tr th {\n",
       "        vertical-align: top;\n",
       "    }\n",
       "\n",
       "    .dataframe thead th {\n",
       "        text-align: right;\n",
       "    }\n",
       "</style>\n",
       "<table border=\"1\" class=\"dataframe\">\n",
       "  <thead>\n",
       "    <tr style=\"text-align: right;\">\n",
       "      <th></th>\n",
       "      <th>gender</th>\n",
       "      <th>SeniorCitizen</th>\n",
       "      <th>Partner</th>\n",
       "      <th>Dependents</th>\n",
       "      <th>tenure</th>\n",
       "      <th>PhoneService</th>\n",
       "      <th>MultipleLines</th>\n",
       "      <th>OnlineSecurity</th>\n",
       "      <th>OnlineBackup</th>\n",
       "      <th>DeviceProtection</th>\n",
       "      <th>...</th>\n",
       "      <th>MonthlyCharges</th>\n",
       "      <th>TotalCharges</th>\n",
       "      <th>Churn</th>\n",
       "      <th>InternetService_Fiber optic</th>\n",
       "      <th>InternetService_No</th>\n",
       "      <th>Contract_One year</th>\n",
       "      <th>Contract_Two year</th>\n",
       "      <th>PaymentMethod_Credit card (automatic)</th>\n",
       "      <th>PaymentMethod_Electronic check</th>\n",
       "      <th>PaymentMethod_Mailed check</th>\n",
       "    </tr>\n",
       "  </thead>\n",
       "  <tbody>\n",
       "    <tr>\n",
       "      <th>1</th>\n",
       "      <td>1</td>\n",
       "      <td>0</td>\n",
       "      <td>1</td>\n",
       "      <td>0</td>\n",
       "      <td>1</td>\n",
       "      <td>0</td>\n",
       "      <td>0</td>\n",
       "      <td>0</td>\n",
       "      <td>1</td>\n",
       "      <td>0</td>\n",
       "      <td>...</td>\n",
       "      <td>29.85</td>\n",
       "      <td>29.85</td>\n",
       "      <td>0</td>\n",
       "      <td>0</td>\n",
       "      <td>0</td>\n",
       "      <td>0</td>\n",
       "      <td>0</td>\n",
       "      <td>0</td>\n",
       "      <td>1</td>\n",
       "      <td>0</td>\n",
       "    </tr>\n",
       "    <tr>\n",
       "      <th>2</th>\n",
       "      <td>0</td>\n",
       "      <td>0</td>\n",
       "      <td>0</td>\n",
       "      <td>0</td>\n",
       "      <td>34</td>\n",
       "      <td>1</td>\n",
       "      <td>0</td>\n",
       "      <td>1</td>\n",
       "      <td>0</td>\n",
       "      <td>1</td>\n",
       "      <td>...</td>\n",
       "      <td>56.95</td>\n",
       "      <td>1889.50</td>\n",
       "      <td>0</td>\n",
       "      <td>0</td>\n",
       "      <td>0</td>\n",
       "      <td>1</td>\n",
       "      <td>0</td>\n",
       "      <td>0</td>\n",
       "      <td>0</td>\n",
       "      <td>1</td>\n",
       "    </tr>\n",
       "    <tr>\n",
       "      <th>3</th>\n",
       "      <td>0</td>\n",
       "      <td>0</td>\n",
       "      <td>0</td>\n",
       "      <td>0</td>\n",
       "      <td>2</td>\n",
       "      <td>1</td>\n",
       "      <td>0</td>\n",
       "      <td>1</td>\n",
       "      <td>1</td>\n",
       "      <td>0</td>\n",
       "      <td>...</td>\n",
       "      <td>53.85</td>\n",
       "      <td>108.15</td>\n",
       "      <td>1</td>\n",
       "      <td>0</td>\n",
       "      <td>0</td>\n",
       "      <td>0</td>\n",
       "      <td>0</td>\n",
       "      <td>0</td>\n",
       "      <td>0</td>\n",
       "      <td>1</td>\n",
       "    </tr>\n",
       "    <tr>\n",
       "      <th>4</th>\n",
       "      <td>0</td>\n",
       "      <td>0</td>\n",
       "      <td>0</td>\n",
       "      <td>0</td>\n",
       "      <td>45</td>\n",
       "      <td>0</td>\n",
       "      <td>0</td>\n",
       "      <td>1</td>\n",
       "      <td>0</td>\n",
       "      <td>1</td>\n",
       "      <td>...</td>\n",
       "      <td>42.30</td>\n",
       "      <td>1840.75</td>\n",
       "      <td>0</td>\n",
       "      <td>0</td>\n",
       "      <td>0</td>\n",
       "      <td>1</td>\n",
       "      <td>0</td>\n",
       "      <td>0</td>\n",
       "      <td>0</td>\n",
       "      <td>0</td>\n",
       "    </tr>\n",
       "    <tr>\n",
       "      <th>5</th>\n",
       "      <td>1</td>\n",
       "      <td>0</td>\n",
       "      <td>0</td>\n",
       "      <td>0</td>\n",
       "      <td>2</td>\n",
       "      <td>1</td>\n",
       "      <td>0</td>\n",
       "      <td>0</td>\n",
       "      <td>0</td>\n",
       "      <td>0</td>\n",
       "      <td>...</td>\n",
       "      <td>70.70</td>\n",
       "      <td>151.65</td>\n",
       "      <td>1</td>\n",
       "      <td>1</td>\n",
       "      <td>0</td>\n",
       "      <td>0</td>\n",
       "      <td>0</td>\n",
       "      <td>0</td>\n",
       "      <td>1</td>\n",
       "      <td>0</td>\n",
       "    </tr>\n",
       "  </tbody>\n",
       "</table>\n",
       "<p>5 rows × 24 columns</p>\n",
       "</div>"
      ],
      "text/plain": [
       "   gender  SeniorCitizen  Partner  Dependents  tenure  PhoneService  \\\n",
       "1       1              0        1           0       1             0   \n",
       "2       0              0        0           0      34             1   \n",
       "3       0              0        0           0       2             1   \n",
       "4       0              0        0           0      45             0   \n",
       "5       1              0        0           0       2             1   \n",
       "\n",
       "   MultipleLines  OnlineSecurity  OnlineBackup  DeviceProtection  ...  \\\n",
       "1              0               0             1                 0  ...   \n",
       "2              0               1             0                 1  ...   \n",
       "3              0               1             1                 0  ...   \n",
       "4              0               1             0                 1  ...   \n",
       "5              0               0             0                 0  ...   \n",
       "\n",
       "   MonthlyCharges  TotalCharges  Churn  InternetService_Fiber optic  \\\n",
       "1           29.85         29.85      0                            0   \n",
       "2           56.95       1889.50      0                            0   \n",
       "3           53.85        108.15      1                            0   \n",
       "4           42.30       1840.75      0                            0   \n",
       "5           70.70        151.65      1                            1   \n",
       "\n",
       "   InternetService_No  Contract_One year  Contract_Two year  \\\n",
       "1                   0                  0                  0   \n",
       "2                   0                  1                  0   \n",
       "3                   0                  0                  0   \n",
       "4                   0                  1                  0   \n",
       "5                   0                  0                  0   \n",
       "\n",
       "   PaymentMethod_Credit card (automatic)  PaymentMethod_Electronic check  \\\n",
       "1                                      0                               1   \n",
       "2                                      0                               0   \n",
       "3                                      0                               0   \n",
       "4                                      0                               0   \n",
       "5                                      0                               1   \n",
       "\n",
       "   PaymentMethod_Mailed check  \n",
       "1                           0  \n",
       "2                           1  \n",
       "3                           1  \n",
       "4                           0  \n",
       "5                           0  \n",
       "\n",
       "[5 rows x 24 columns]"
      ]
     },
     "execution_count": 2,
     "metadata": {},
     "output_type": "execute_result"
    }
   ],
   "source": [
    "data= pd.read_csv(\"dummy_churn.csv\", index_col=0)\n",
    "data2= data[:]\n",
    "data[:5]"
   ]
  },
  {
   "cell_type": "code",
   "execution_count": 3,
   "id": "d9b6afb1",
   "metadata": {},
   "outputs": [
    {
     "name": "stdout",
     "output_type": "stream",
     "text": [
      "<class 'pandas.core.frame.DataFrame'>\n",
      "Index: 7043 entries, 1 to 7043\n",
      "Data columns (total 24 columns):\n",
      " #   Column                                 Non-Null Count  Dtype  \n",
      "---  ------                                 --------------  -----  \n",
      " 0   gender                                 7043 non-null   int64  \n",
      " 1   SeniorCitizen                          7043 non-null   int64  \n",
      " 2   Partner                                7043 non-null   int64  \n",
      " 3   Dependents                             7043 non-null   int64  \n",
      " 4   tenure                                 7043 non-null   int64  \n",
      " 5   PhoneService                           7043 non-null   int64  \n",
      " 6   MultipleLines                          7043 non-null   int64  \n",
      " 7   OnlineSecurity                         7043 non-null   int64  \n",
      " 8   OnlineBackup                           7043 non-null   int64  \n",
      " 9   DeviceProtection                       7043 non-null   int64  \n",
      " 10  TechSupport                            7043 non-null   int64  \n",
      " 11  StreamingTV                            7043 non-null   int64  \n",
      " 12  StreamingMovies                        7043 non-null   int64  \n",
      " 13  PaperlessBilling                       7043 non-null   int64  \n",
      " 14  MonthlyCharges                         7043 non-null   float64\n",
      " 15  TotalCharges                           7043 non-null   float64\n",
      " 16  Churn                                  7043 non-null   int64  \n",
      " 17  InternetService_Fiber optic            7043 non-null   int64  \n",
      " 18  InternetService_No                     7043 non-null   int64  \n",
      " 19  Contract_One year                      7043 non-null   int64  \n",
      " 20  Contract_Two year                      7043 non-null   int64  \n",
      " 21  PaymentMethod_Credit card (automatic)  7043 non-null   int64  \n",
      " 22  PaymentMethod_Electronic check         7043 non-null   int64  \n",
      " 23  PaymentMethod_Mailed check             7043 non-null   int64  \n",
      "dtypes: float64(2), int64(22)\n",
      "memory usage: 1.3 MB\n"
     ]
    }
   ],
   "source": [
    "data.info()"
   ]
  },
  {
   "cell_type": "code",
   "execution_count": 4,
   "id": "9cdddc14",
   "metadata": {},
   "outputs": [
    {
     "data": {
      "text/plain": [
       "Churn\n",
       "0    5174\n",
       "1    1869\n",
       "Name: count, dtype: int64"
      ]
     },
     "execution_count": 4,
     "metadata": {},
     "output_type": "execute_result"
    }
   ],
   "source": [
    "data.Churn.value_counts()"
   ]
  },
  {
   "cell_type": "code",
   "execution_count": 5,
   "id": "a05fd6b8",
   "metadata": {},
   "outputs": [
    {
     "data": {
      "text/html": [
       "<div>\n",
       "<style scoped>\n",
       "    .dataframe tbody tr th:only-of-type {\n",
       "        vertical-align: middle;\n",
       "    }\n",
       "\n",
       "    .dataframe tbody tr th {\n",
       "        vertical-align: top;\n",
       "    }\n",
       "\n",
       "    .dataframe thead th {\n",
       "        text-align: right;\n",
       "    }\n",
       "</style>\n",
       "<table border=\"1\" class=\"dataframe\">\n",
       "  <thead>\n",
       "    <tr style=\"text-align: right;\">\n",
       "      <th></th>\n",
       "      <th>gender</th>\n",
       "      <th>SeniorCitizen</th>\n",
       "      <th>Partner</th>\n",
       "      <th>Dependents</th>\n",
       "      <th>tenure</th>\n",
       "      <th>PhoneService</th>\n",
       "      <th>MultipleLines</th>\n",
       "      <th>OnlineSecurity</th>\n",
       "      <th>OnlineBackup</th>\n",
       "      <th>DeviceProtection</th>\n",
       "      <th>...</th>\n",
       "      <th>MonthlyCharges</th>\n",
       "      <th>TotalCharges</th>\n",
       "      <th>Churn</th>\n",
       "      <th>InternetService_Fiber optic</th>\n",
       "      <th>InternetService_No</th>\n",
       "      <th>Contract_One year</th>\n",
       "      <th>Contract_Two year</th>\n",
       "      <th>PaymentMethod_Credit card (automatic)</th>\n",
       "      <th>PaymentMethod_Electronic check</th>\n",
       "      <th>PaymentMethod_Mailed check</th>\n",
       "    </tr>\n",
       "  </thead>\n",
       "  <tbody>\n",
       "    <tr>\n",
       "      <th>1</th>\n",
       "      <td>1</td>\n",
       "      <td>0</td>\n",
       "      <td>1</td>\n",
       "      <td>0</td>\n",
       "      <td>0.013889</td>\n",
       "      <td>0</td>\n",
       "      <td>0</td>\n",
       "      <td>0</td>\n",
       "      <td>1</td>\n",
       "      <td>0</td>\n",
       "      <td>...</td>\n",
       "      <td>0.115423</td>\n",
       "      <td>0.001275</td>\n",
       "      <td>0</td>\n",
       "      <td>0</td>\n",
       "      <td>0</td>\n",
       "      <td>0</td>\n",
       "      <td>0</td>\n",
       "      <td>0</td>\n",
       "      <td>1</td>\n",
       "      <td>0</td>\n",
       "    </tr>\n",
       "    <tr>\n",
       "      <th>2</th>\n",
       "      <td>0</td>\n",
       "      <td>0</td>\n",
       "      <td>0</td>\n",
       "      <td>0</td>\n",
       "      <td>0.472222</td>\n",
       "      <td>1</td>\n",
       "      <td>0</td>\n",
       "      <td>1</td>\n",
       "      <td>0</td>\n",
       "      <td>1</td>\n",
       "      <td>...</td>\n",
       "      <td>0.385075</td>\n",
       "      <td>0.215867</td>\n",
       "      <td>0</td>\n",
       "      <td>0</td>\n",
       "      <td>0</td>\n",
       "      <td>1</td>\n",
       "      <td>0</td>\n",
       "      <td>0</td>\n",
       "      <td>0</td>\n",
       "      <td>1</td>\n",
       "    </tr>\n",
       "    <tr>\n",
       "      <th>3</th>\n",
       "      <td>0</td>\n",
       "      <td>0</td>\n",
       "      <td>0</td>\n",
       "      <td>0</td>\n",
       "      <td>0.027778</td>\n",
       "      <td>1</td>\n",
       "      <td>0</td>\n",
       "      <td>1</td>\n",
       "      <td>1</td>\n",
       "      <td>0</td>\n",
       "      <td>...</td>\n",
       "      <td>0.354229</td>\n",
       "      <td>0.010310</td>\n",
       "      <td>1</td>\n",
       "      <td>0</td>\n",
       "      <td>0</td>\n",
       "      <td>0</td>\n",
       "      <td>0</td>\n",
       "      <td>0</td>\n",
       "      <td>0</td>\n",
       "      <td>1</td>\n",
       "    </tr>\n",
       "    <tr>\n",
       "      <th>4</th>\n",
       "      <td>0</td>\n",
       "      <td>0</td>\n",
       "      <td>0</td>\n",
       "      <td>0</td>\n",
       "      <td>0.625000</td>\n",
       "      <td>0</td>\n",
       "      <td>0</td>\n",
       "      <td>1</td>\n",
       "      <td>0</td>\n",
       "      <td>1</td>\n",
       "      <td>...</td>\n",
       "      <td>0.239303</td>\n",
       "      <td>0.210241</td>\n",
       "      <td>0</td>\n",
       "      <td>0</td>\n",
       "      <td>0</td>\n",
       "      <td>1</td>\n",
       "      <td>0</td>\n",
       "      <td>0</td>\n",
       "      <td>0</td>\n",
       "      <td>0</td>\n",
       "    </tr>\n",
       "    <tr>\n",
       "      <th>5</th>\n",
       "      <td>1</td>\n",
       "      <td>0</td>\n",
       "      <td>0</td>\n",
       "      <td>0</td>\n",
       "      <td>0.027778</td>\n",
       "      <td>1</td>\n",
       "      <td>0</td>\n",
       "      <td>0</td>\n",
       "      <td>0</td>\n",
       "      <td>0</td>\n",
       "      <td>...</td>\n",
       "      <td>0.521891</td>\n",
       "      <td>0.015330</td>\n",
       "      <td>1</td>\n",
       "      <td>1</td>\n",
       "      <td>0</td>\n",
       "      <td>0</td>\n",
       "      <td>0</td>\n",
       "      <td>0</td>\n",
       "      <td>1</td>\n",
       "      <td>0</td>\n",
       "    </tr>\n",
       "  </tbody>\n",
       "</table>\n",
       "<p>5 rows × 24 columns</p>\n",
       "</div>"
      ],
      "text/plain": [
       "   gender  SeniorCitizen  Partner  Dependents    tenure  PhoneService  \\\n",
       "1       1              0        1           0  0.013889             0   \n",
       "2       0              0        0           0  0.472222             1   \n",
       "3       0              0        0           0  0.027778             1   \n",
       "4       0              0        0           0  0.625000             0   \n",
       "5       1              0        0           0  0.027778             1   \n",
       "\n",
       "   MultipleLines  OnlineSecurity  OnlineBackup  DeviceProtection  ...  \\\n",
       "1              0               0             1                 0  ...   \n",
       "2              0               1             0                 1  ...   \n",
       "3              0               1             1                 0  ...   \n",
       "4              0               1             0                 1  ...   \n",
       "5              0               0             0                 0  ...   \n",
       "\n",
       "   MonthlyCharges  TotalCharges  Churn  InternetService_Fiber optic  \\\n",
       "1        0.115423      0.001275      0                            0   \n",
       "2        0.385075      0.215867      0                            0   \n",
       "3        0.354229      0.010310      1                            0   \n",
       "4        0.239303      0.210241      0                            0   \n",
       "5        0.521891      0.015330      1                            1   \n",
       "\n",
       "   InternetService_No  Contract_One year  Contract_Two year  \\\n",
       "1                   0                  0                  0   \n",
       "2                   0                  1                  0   \n",
       "3                   0                  0                  0   \n",
       "4                   0                  1                  0   \n",
       "5                   0                  0                  0   \n",
       "\n",
       "   PaymentMethod_Credit card (automatic)  PaymentMethod_Electronic check  \\\n",
       "1                                      0                               1   \n",
       "2                                      0                               0   \n",
       "3                                      0                               0   \n",
       "4                                      0                               0   \n",
       "5                                      0                               1   \n",
       "\n",
       "   PaymentMethod_Mailed check  \n",
       "1                           0  \n",
       "2                           1  \n",
       "3                           1  \n",
       "4                           0  \n",
       "5                           0  \n",
       "\n",
       "[5 rows x 24 columns]"
      ]
     },
     "execution_count": 5,
     "metadata": {},
     "output_type": "execute_result"
    }
   ],
   "source": [
    "cols_to_scale= [\"tenure\", \"MonthlyCharges\", \"TotalCharges\"]\n",
    "\n",
    "scaler= MinMaxScaler()\n",
    "data[cols_to_scale]= scaler.fit_transform(data[cols_to_scale])\n",
    "data[:5]"
   ]
  },
  {
   "cell_type": "code",
   "execution_count": 6,
   "id": "f8fe3657",
   "metadata": {},
   "outputs": [],
   "source": [
    "X= data.drop(\"Churn\", axis= \"columns\")\n",
    "y= data.Churn"
   ]
  },
  {
   "cell_type": "code",
   "execution_count": 7,
   "id": "d448974f",
   "metadata": {},
   "outputs": [],
   "source": [
    "X_res, y_res= SMOTE().fit_resample(X, y)"
   ]
  },
  {
   "cell_type": "code",
   "execution_count": 8,
   "id": "eb21adb1",
   "metadata": {},
   "outputs": [
    {
     "data": {
      "text/plain": [
       "Churn\n",
       "0    5174\n",
       "1    5174\n",
       "Name: count, dtype: int64"
      ]
     },
     "execution_count": 8,
     "metadata": {},
     "output_type": "execute_result"
    }
   ],
   "source": [
    "y_res.value_counts()"
   ]
  },
  {
   "cell_type": "markdown",
   "id": "46c90dd8",
   "metadata": {},
   "source": [
    "# CROSS_VAL_SCORE"
   ]
  },
  {
   "cell_type": "code",
   "execution_count": 9,
   "id": "26aadcde",
   "metadata": {},
   "outputs": [
    {
     "data": {
      "text/plain": [
       "0.7933944144409188"
      ]
     },
     "execution_count": 9,
     "metadata": {},
     "output_type": "execute_result"
    }
   ],
   "source": [
    "scores= cross_val_score(SVC(kernel=\"linear\", C=10, gamma='auto'), X_res, y_res, cv=5)\n",
    "scores.mean()"
   ]
  },
  {
   "cell_type": "code",
   "execution_count": 10,
   "id": "0fd4dd16",
   "metadata": {},
   "outputs": [
    {
     "data": {
      "text/plain": [
       "0.7954235400424485"
      ]
     },
     "execution_count": 10,
     "metadata": {},
     "output_type": "execute_result"
    }
   ],
   "source": [
    "scores= cross_val_score(SVC(kernel=\"rbf\", C=10, gamma='auto'), X_res, y_res, cv=5)\n",
    "scores.mean()"
   ]
  },
  {
   "cell_type": "code",
   "execution_count": 11,
   "id": "0c3c7dc5",
   "metadata": {},
   "outputs": [
    {
     "data": {
      "text/plain": [
       "0.8020917944443277"
      ]
     },
     "execution_count": 11,
     "metadata": {},
     "output_type": "execute_result"
    }
   ],
   "source": [
    "scores= cross_val_score(SVC(kernel=\"rbf\", C=20, gamma='auto'), X_res, y_res, cv=5)\n",
    "scores.mean()"
   ]
  },
  {
   "cell_type": "markdown",
   "id": "259d9300",
   "metadata": {},
   "source": [
    "# Grid Search CV"
   ]
  },
  {
   "cell_type": "code",
   "execution_count": 12,
   "id": "247f325f",
   "metadata": {},
   "outputs": [
    {
     "data": {
      "text/plain": [
       "{'mean_fit_time': array([ 2.59738784,  4.8953156 ,  2.85267324,  6.24430075,  3.11823745,\n",
       "         8.5296092 ,  3.80556045, 15.31815825]),\n",
       " 'std_fit_time': array([0.10328711, 0.36725531, 0.17457983, 0.4247025 , 0.22365311,\n",
       "        0.51677472, 0.31374877, 2.29015808]),\n",
       " 'mean_score_time': array([0.78134532, 0.19394374, 0.78913312, 0.18637981, 0.78618073,\n",
       "        0.18243165, 0.74484477, 0.21480432]),\n",
       " 'std_score_time': array([0.01574719, 0.01203489, 0.03423474, 0.01743643, 0.04125413,\n",
       "        0.00952118, 0.03700705, 0.03325214]),\n",
       " 'param_C': masked_array(data=[20, 20, 30, 30, 50, 50, 100, 100],\n",
       "              mask=[False, False, False, False, False, False, False, False],\n",
       "        fill_value='?',\n",
       "             dtype=object),\n",
       " 'param_kernel': masked_array(data=['rbf', 'linear', 'rbf', 'linear', 'rbf', 'linear',\n",
       "                    'rbf', 'linear'],\n",
       "              mask=[False, False, False, False, False, False, False, False],\n",
       "        fill_value='?',\n",
       "             dtype=object),\n",
       " 'params': [{'C': 20, 'kernel': 'rbf'},\n",
       "  {'C': 20, 'kernel': 'linear'},\n",
       "  {'C': 30, 'kernel': 'rbf'},\n",
       "  {'C': 30, 'kernel': 'linear'},\n",
       "  {'C': 50, 'kernel': 'rbf'},\n",
       "  {'C': 50, 'kernel': 'linear'},\n",
       "  {'C': 100, 'kernel': 'rbf'},\n",
       "  {'C': 100, 'kernel': 'linear'}],\n",
       " 'split0_test_score': array([0.76956522, 0.7531401 , 0.76425121, 0.7531401 , 0.76425121,\n",
       "        0.75120773, 0.76328502, 0.75072464]),\n",
       " 'split1_test_score': array([0.76570048, 0.7589372 , 0.76231884, 0.75797101, 0.76714976,\n",
       "        0.75797101, 0.76811594, 0.75603865]),\n",
       " 'split2_test_score': array([0.82512077, 0.82270531, 0.83043478, 0.82415459, 0.83381643,\n",
       "        0.82415459, 0.83574879, 0.82463768]),\n",
       " 'split3_test_score': array([0.82358627, 0.8182697 , 0.82551957, 0.81971967, 0.82938618,\n",
       "        0.82261962, 0.83615273, 0.82261962]),\n",
       " 'split4_test_score': array([0.82648623, 0.81391977, 0.8337361 , 0.81440309, 0.83663606,\n",
       "        0.81488642, 0.84243596, 0.81778637]),\n",
       " 'mean_test_score': array([0.80209179, 0.79339441, 0.8032521 , 0.79387769, 0.80624792,\n",
       "        0.79416787, 0.80914769, 0.79436139]),\n",
       " 'std_test_score': array([0.02817708, 0.03068194, 0.03274329, 0.03147898, 0.03320009,\n",
       "        0.03253844, 0.03558648, 0.03357591]),\n",
       " 'rank_test_score': array([4, 8, 3, 7, 2, 6, 1, 5])}"
      ]
     },
     "execution_count": 12,
     "metadata": {},
     "output_type": "execute_result"
    }
   ],
   "source": [
    "clf= GridSearchCV(SVC(gamma=\"auto\"),\n",
    "                 {'C': [20, 30, 50, 100],\n",
    "                 'kernel': ['rbf', 'linear']},\n",
    "                 cv=5,\n",
    "                 return_train_score=False)\n",
    "clf.fit(X_res, y_res)\n",
    "clf.cv_results_"
   ]
  },
  {
   "cell_type": "code",
   "execution_count": 13,
   "id": "58de3348",
   "metadata": {},
   "outputs": [
    {
     "data": {
      "text/html": [
       "<div>\n",
       "<style scoped>\n",
       "    .dataframe tbody tr th:only-of-type {\n",
       "        vertical-align: middle;\n",
       "    }\n",
       "\n",
       "    .dataframe tbody tr th {\n",
       "        vertical-align: top;\n",
       "    }\n",
       "\n",
       "    .dataframe thead th {\n",
       "        text-align: right;\n",
       "    }\n",
       "</style>\n",
       "<table border=\"1\" class=\"dataframe\">\n",
       "  <thead>\n",
       "    <tr style=\"text-align: right;\">\n",
       "      <th></th>\n",
       "      <th>mean_fit_time</th>\n",
       "      <th>std_fit_time</th>\n",
       "      <th>mean_score_time</th>\n",
       "      <th>std_score_time</th>\n",
       "      <th>param_C</th>\n",
       "      <th>param_kernel</th>\n",
       "      <th>params</th>\n",
       "      <th>split0_test_score</th>\n",
       "      <th>split1_test_score</th>\n",
       "      <th>split2_test_score</th>\n",
       "      <th>split3_test_score</th>\n",
       "      <th>split4_test_score</th>\n",
       "      <th>mean_test_score</th>\n",
       "      <th>std_test_score</th>\n",
       "      <th>rank_test_score</th>\n",
       "    </tr>\n",
       "  </thead>\n",
       "  <tbody>\n",
       "    <tr>\n",
       "      <th>0</th>\n",
       "      <td>2.597388</td>\n",
       "      <td>0.103287</td>\n",
       "      <td>0.781345</td>\n",
       "      <td>0.015747</td>\n",
       "      <td>20</td>\n",
       "      <td>rbf</td>\n",
       "      <td>{'C': 20, 'kernel': 'rbf'}</td>\n",
       "      <td>0.769565</td>\n",
       "      <td>0.765700</td>\n",
       "      <td>0.825121</td>\n",
       "      <td>0.823586</td>\n",
       "      <td>0.826486</td>\n",
       "      <td>0.802092</td>\n",
       "      <td>0.028177</td>\n",
       "      <td>4</td>\n",
       "    </tr>\n",
       "    <tr>\n",
       "      <th>1</th>\n",
       "      <td>4.895316</td>\n",
       "      <td>0.367255</td>\n",
       "      <td>0.193944</td>\n",
       "      <td>0.012035</td>\n",
       "      <td>20</td>\n",
       "      <td>linear</td>\n",
       "      <td>{'C': 20, 'kernel': 'linear'}</td>\n",
       "      <td>0.753140</td>\n",
       "      <td>0.758937</td>\n",
       "      <td>0.822705</td>\n",
       "      <td>0.818270</td>\n",
       "      <td>0.813920</td>\n",
       "      <td>0.793394</td>\n",
       "      <td>0.030682</td>\n",
       "      <td>8</td>\n",
       "    </tr>\n",
       "    <tr>\n",
       "      <th>2</th>\n",
       "      <td>2.852673</td>\n",
       "      <td>0.174580</td>\n",
       "      <td>0.789133</td>\n",
       "      <td>0.034235</td>\n",
       "      <td>30</td>\n",
       "      <td>rbf</td>\n",
       "      <td>{'C': 30, 'kernel': 'rbf'}</td>\n",
       "      <td>0.764251</td>\n",
       "      <td>0.762319</td>\n",
       "      <td>0.830435</td>\n",
       "      <td>0.825520</td>\n",
       "      <td>0.833736</td>\n",
       "      <td>0.803252</td>\n",
       "      <td>0.032743</td>\n",
       "      <td>3</td>\n",
       "    </tr>\n",
       "    <tr>\n",
       "      <th>3</th>\n",
       "      <td>6.244301</td>\n",
       "      <td>0.424702</td>\n",
       "      <td>0.186380</td>\n",
       "      <td>0.017436</td>\n",
       "      <td>30</td>\n",
       "      <td>linear</td>\n",
       "      <td>{'C': 30, 'kernel': 'linear'}</td>\n",
       "      <td>0.753140</td>\n",
       "      <td>0.757971</td>\n",
       "      <td>0.824155</td>\n",
       "      <td>0.819720</td>\n",
       "      <td>0.814403</td>\n",
       "      <td>0.793878</td>\n",
       "      <td>0.031479</td>\n",
       "      <td>7</td>\n",
       "    </tr>\n",
       "    <tr>\n",
       "      <th>4</th>\n",
       "      <td>3.118237</td>\n",
       "      <td>0.223653</td>\n",
       "      <td>0.786181</td>\n",
       "      <td>0.041254</td>\n",
       "      <td>50</td>\n",
       "      <td>rbf</td>\n",
       "      <td>{'C': 50, 'kernel': 'rbf'}</td>\n",
       "      <td>0.764251</td>\n",
       "      <td>0.767150</td>\n",
       "      <td>0.833816</td>\n",
       "      <td>0.829386</td>\n",
       "      <td>0.836636</td>\n",
       "      <td>0.806248</td>\n",
       "      <td>0.033200</td>\n",
       "      <td>2</td>\n",
       "    </tr>\n",
       "    <tr>\n",
       "      <th>5</th>\n",
       "      <td>8.529609</td>\n",
       "      <td>0.516775</td>\n",
       "      <td>0.182432</td>\n",
       "      <td>0.009521</td>\n",
       "      <td>50</td>\n",
       "      <td>linear</td>\n",
       "      <td>{'C': 50, 'kernel': 'linear'}</td>\n",
       "      <td>0.751208</td>\n",
       "      <td>0.757971</td>\n",
       "      <td>0.824155</td>\n",
       "      <td>0.822620</td>\n",
       "      <td>0.814886</td>\n",
       "      <td>0.794168</td>\n",
       "      <td>0.032538</td>\n",
       "      <td>6</td>\n",
       "    </tr>\n",
       "    <tr>\n",
       "      <th>6</th>\n",
       "      <td>3.805560</td>\n",
       "      <td>0.313749</td>\n",
       "      <td>0.744845</td>\n",
       "      <td>0.037007</td>\n",
       "      <td>100</td>\n",
       "      <td>rbf</td>\n",
       "      <td>{'C': 100, 'kernel': 'rbf'}</td>\n",
       "      <td>0.763285</td>\n",
       "      <td>0.768116</td>\n",
       "      <td>0.835749</td>\n",
       "      <td>0.836153</td>\n",
       "      <td>0.842436</td>\n",
       "      <td>0.809148</td>\n",
       "      <td>0.035586</td>\n",
       "      <td>1</td>\n",
       "    </tr>\n",
       "    <tr>\n",
       "      <th>7</th>\n",
       "      <td>15.318158</td>\n",
       "      <td>2.290158</td>\n",
       "      <td>0.214804</td>\n",
       "      <td>0.033252</td>\n",
       "      <td>100</td>\n",
       "      <td>linear</td>\n",
       "      <td>{'C': 100, 'kernel': 'linear'}</td>\n",
       "      <td>0.750725</td>\n",
       "      <td>0.756039</td>\n",
       "      <td>0.824638</td>\n",
       "      <td>0.822620</td>\n",
       "      <td>0.817786</td>\n",
       "      <td>0.794361</td>\n",
       "      <td>0.033576</td>\n",
       "      <td>5</td>\n",
       "    </tr>\n",
       "  </tbody>\n",
       "</table>\n",
       "</div>"
      ],
      "text/plain": [
       "   mean_fit_time  std_fit_time  mean_score_time  std_score_time param_C  \\\n",
       "0       2.597388      0.103287         0.781345        0.015747      20   \n",
       "1       4.895316      0.367255         0.193944        0.012035      20   \n",
       "2       2.852673      0.174580         0.789133        0.034235      30   \n",
       "3       6.244301      0.424702         0.186380        0.017436      30   \n",
       "4       3.118237      0.223653         0.786181        0.041254      50   \n",
       "5       8.529609      0.516775         0.182432        0.009521      50   \n",
       "6       3.805560      0.313749         0.744845        0.037007     100   \n",
       "7      15.318158      2.290158         0.214804        0.033252     100   \n",
       "\n",
       "  param_kernel                          params  split0_test_score  \\\n",
       "0          rbf      {'C': 20, 'kernel': 'rbf'}           0.769565   \n",
       "1       linear   {'C': 20, 'kernel': 'linear'}           0.753140   \n",
       "2          rbf      {'C': 30, 'kernel': 'rbf'}           0.764251   \n",
       "3       linear   {'C': 30, 'kernel': 'linear'}           0.753140   \n",
       "4          rbf      {'C': 50, 'kernel': 'rbf'}           0.764251   \n",
       "5       linear   {'C': 50, 'kernel': 'linear'}           0.751208   \n",
       "6          rbf     {'C': 100, 'kernel': 'rbf'}           0.763285   \n",
       "7       linear  {'C': 100, 'kernel': 'linear'}           0.750725   \n",
       "\n",
       "   split1_test_score  split2_test_score  split3_test_score  split4_test_score  \\\n",
       "0           0.765700           0.825121           0.823586           0.826486   \n",
       "1           0.758937           0.822705           0.818270           0.813920   \n",
       "2           0.762319           0.830435           0.825520           0.833736   \n",
       "3           0.757971           0.824155           0.819720           0.814403   \n",
       "4           0.767150           0.833816           0.829386           0.836636   \n",
       "5           0.757971           0.824155           0.822620           0.814886   \n",
       "6           0.768116           0.835749           0.836153           0.842436   \n",
       "7           0.756039           0.824638           0.822620           0.817786   \n",
       "\n",
       "   mean_test_score  std_test_score  rank_test_score  \n",
       "0         0.802092        0.028177                4  \n",
       "1         0.793394        0.030682                8  \n",
       "2         0.803252        0.032743                3  \n",
       "3         0.793878        0.031479                7  \n",
       "4         0.806248        0.033200                2  \n",
       "5         0.794168        0.032538                6  \n",
       "6         0.809148        0.035586                1  \n",
       "7         0.794361        0.033576                5  "
      ]
     },
     "execution_count": 13,
     "metadata": {},
     "output_type": "execute_result"
    }
   ],
   "source": [
    "df= pd.DataFrame(clf.cv_results_)\n",
    "df"
   ]
  },
  {
   "cell_type": "code",
   "execution_count": 14,
   "id": "afbf2651",
   "metadata": {},
   "outputs": [
    {
     "data": {
      "text/html": [
       "<div>\n",
       "<style scoped>\n",
       "    .dataframe tbody tr th:only-of-type {\n",
       "        vertical-align: middle;\n",
       "    }\n",
       "\n",
       "    .dataframe tbody tr th {\n",
       "        vertical-align: top;\n",
       "    }\n",
       "\n",
       "    .dataframe thead th {\n",
       "        text-align: right;\n",
       "    }\n",
       "</style>\n",
       "<table border=\"1\" class=\"dataframe\">\n",
       "  <thead>\n",
       "    <tr style=\"text-align: right;\">\n",
       "      <th></th>\n",
       "      <th>param_C</th>\n",
       "      <th>param_kernel</th>\n",
       "      <th>mean_test_score</th>\n",
       "    </tr>\n",
       "  </thead>\n",
       "  <tbody>\n",
       "    <tr>\n",
       "      <th>0</th>\n",
       "      <td>20</td>\n",
       "      <td>rbf</td>\n",
       "      <td>0.802092</td>\n",
       "    </tr>\n",
       "    <tr>\n",
       "      <th>1</th>\n",
       "      <td>20</td>\n",
       "      <td>linear</td>\n",
       "      <td>0.793394</td>\n",
       "    </tr>\n",
       "    <tr>\n",
       "      <th>2</th>\n",
       "      <td>30</td>\n",
       "      <td>rbf</td>\n",
       "      <td>0.803252</td>\n",
       "    </tr>\n",
       "    <tr>\n",
       "      <th>3</th>\n",
       "      <td>30</td>\n",
       "      <td>linear</td>\n",
       "      <td>0.793878</td>\n",
       "    </tr>\n",
       "    <tr>\n",
       "      <th>4</th>\n",
       "      <td>50</td>\n",
       "      <td>rbf</td>\n",
       "      <td>0.806248</td>\n",
       "    </tr>\n",
       "    <tr>\n",
       "      <th>5</th>\n",
       "      <td>50</td>\n",
       "      <td>linear</td>\n",
       "      <td>0.794168</td>\n",
       "    </tr>\n",
       "    <tr>\n",
       "      <th>6</th>\n",
       "      <td>100</td>\n",
       "      <td>rbf</td>\n",
       "      <td>0.809148</td>\n",
       "    </tr>\n",
       "    <tr>\n",
       "      <th>7</th>\n",
       "      <td>100</td>\n",
       "      <td>linear</td>\n",
       "      <td>0.794361</td>\n",
       "    </tr>\n",
       "  </tbody>\n",
       "</table>\n",
       "</div>"
      ],
      "text/plain": [
       "  param_C param_kernel  mean_test_score\n",
       "0      20          rbf         0.802092\n",
       "1      20       linear         0.793394\n",
       "2      30          rbf         0.803252\n",
       "3      30       linear         0.793878\n",
       "4      50          rbf         0.806248\n",
       "5      50       linear         0.794168\n",
       "6     100          rbf         0.809148\n",
       "7     100       linear         0.794361"
      ]
     },
     "execution_count": 14,
     "metadata": {},
     "output_type": "execute_result"
    }
   ],
   "source": [
    "df[[\"param_C\", \"param_kernel\", \"mean_test_score\"]]"
   ]
  },
  {
   "cell_type": "code",
   "execution_count": 15,
   "id": "cc9eb1f2",
   "metadata": {},
   "outputs": [],
   "source": [
    "#dir(clf)"
   ]
  },
  {
   "cell_type": "code",
   "execution_count": 16,
   "id": "efd5440e",
   "metadata": {},
   "outputs": [
    {
     "data": {
      "text/plain": [
       "0.8091476897285206"
      ]
     },
     "execution_count": 16,
     "metadata": {},
     "output_type": "execute_result"
    }
   ],
   "source": [
    "clf.best_score_"
   ]
  },
  {
   "cell_type": "code",
   "execution_count": 17,
   "id": "7ede11be",
   "metadata": {},
   "outputs": [
    {
     "data": {
      "text/plain": [
       "{'C': 100, 'kernel': 'rbf'}"
      ]
     },
     "execution_count": 17,
     "metadata": {},
     "output_type": "execute_result"
    }
   ],
   "source": [
    "clf.best_params_"
   ]
  },
  {
   "cell_type": "code",
   "execution_count": 18,
   "id": "7f458950",
   "metadata": {},
   "outputs": [],
   "source": [
    "rs=RandomizedSearchCV(SVC(gamma=\"auto\"),\n",
    "            {'C': [10, 50, 100, 150, 200, 250, 300],\n",
    "             'kernel': ['rbf', 'linear']},\n",
    "            cv=5,\n",
    "            return_train_score=False,\n",
    "            n_iter=3)"
   ]
  },
  {
   "cell_type": "code",
   "execution_count": 19,
   "id": "98dd1e09",
   "metadata": {},
   "outputs": [
    {
     "data": {
      "text/html": [
       "<div>\n",
       "<style scoped>\n",
       "    .dataframe tbody tr th:only-of-type {\n",
       "        vertical-align: middle;\n",
       "    }\n",
       "\n",
       "    .dataframe tbody tr th {\n",
       "        vertical-align: top;\n",
       "    }\n",
       "\n",
       "    .dataframe thead th {\n",
       "        text-align: right;\n",
       "    }\n",
       "</style>\n",
       "<table border=\"1\" class=\"dataframe\">\n",
       "  <thead>\n",
       "    <tr style=\"text-align: right;\">\n",
       "      <th></th>\n",
       "      <th>mean_fit_time</th>\n",
       "      <th>std_fit_time</th>\n",
       "      <th>mean_score_time</th>\n",
       "      <th>std_score_time</th>\n",
       "      <th>param_kernel</th>\n",
       "      <th>param_C</th>\n",
       "      <th>params</th>\n",
       "      <th>split0_test_score</th>\n",
       "      <th>split1_test_score</th>\n",
       "      <th>split2_test_score</th>\n",
       "      <th>split3_test_score</th>\n",
       "      <th>split4_test_score</th>\n",
       "      <th>mean_test_score</th>\n",
       "      <th>std_test_score</th>\n",
       "      <th>rank_test_score</th>\n",
       "    </tr>\n",
       "  </thead>\n",
       "  <tbody>\n",
       "    <tr>\n",
       "      <th>0</th>\n",
       "      <td>28.355120</td>\n",
       "      <td>2.472302</td>\n",
       "      <td>0.230494</td>\n",
       "      <td>0.014126</td>\n",
       "      <td>linear</td>\n",
       "      <td>200</td>\n",
       "      <td>{'kernel': 'linear', 'C': 200}</td>\n",
       "      <td>0.750242</td>\n",
       "      <td>0.756039</td>\n",
       "      <td>0.824638</td>\n",
       "      <td>0.823103</td>\n",
       "      <td>0.817786</td>\n",
       "      <td>0.794361</td>\n",
       "      <td>0.033784</td>\n",
       "      <td>2</td>\n",
       "    </tr>\n",
       "    <tr>\n",
       "      <th>1</th>\n",
       "      <td>10.583682</td>\n",
       "      <td>0.972888</td>\n",
       "      <td>0.273923</td>\n",
       "      <td>0.033289</td>\n",
       "      <td>linear</td>\n",
       "      <td>50</td>\n",
       "      <td>{'kernel': 'linear', 'C': 50}</td>\n",
       "      <td>0.751208</td>\n",
       "      <td>0.757971</td>\n",
       "      <td>0.824155</td>\n",
       "      <td>0.822620</td>\n",
       "      <td>0.814886</td>\n",
       "      <td>0.794168</td>\n",
       "      <td>0.032538</td>\n",
       "      <td>3</td>\n",
       "    </tr>\n",
       "    <tr>\n",
       "      <th>2</th>\n",
       "      <td>6.397333</td>\n",
       "      <td>0.373748</td>\n",
       "      <td>1.029291</td>\n",
       "      <td>0.094923</td>\n",
       "      <td>rbf</td>\n",
       "      <td>200</td>\n",
       "      <td>{'kernel': 'rbf', 'C': 200}</td>\n",
       "      <td>0.764251</td>\n",
       "      <td>0.764251</td>\n",
       "      <td>0.835749</td>\n",
       "      <td>0.838569</td>\n",
       "      <td>0.843403</td>\n",
       "      <td>0.809245</td>\n",
       "      <td>0.036818</td>\n",
       "      <td>1</td>\n",
       "    </tr>\n",
       "  </tbody>\n",
       "</table>\n",
       "</div>"
      ],
      "text/plain": [
       "   mean_fit_time  std_fit_time  mean_score_time  std_score_time param_kernel  \\\n",
       "0      28.355120      2.472302         0.230494        0.014126       linear   \n",
       "1      10.583682      0.972888         0.273923        0.033289       linear   \n",
       "2       6.397333      0.373748         1.029291        0.094923          rbf   \n",
       "\n",
       "  param_C                          params  split0_test_score  \\\n",
       "0     200  {'kernel': 'linear', 'C': 200}           0.750242   \n",
       "1      50   {'kernel': 'linear', 'C': 50}           0.751208   \n",
       "2     200     {'kernel': 'rbf', 'C': 200}           0.764251   \n",
       "\n",
       "   split1_test_score  split2_test_score  split3_test_score  split4_test_score  \\\n",
       "0           0.756039           0.824638           0.823103           0.817786   \n",
       "1           0.757971           0.824155           0.822620           0.814886   \n",
       "2           0.764251           0.835749           0.838569           0.843403   \n",
       "\n",
       "   mean_test_score  std_test_score  rank_test_score  \n",
       "0         0.794361        0.033784                2  \n",
       "1         0.794168        0.032538                3  \n",
       "2         0.809245        0.036818                1  "
      ]
     },
     "execution_count": 19,
     "metadata": {},
     "output_type": "execute_result"
    }
   ],
   "source": [
    "rs.fit(X_res, y_res)\n",
    "df2= pd.DataFrame(rs.cv_results_)\n",
    "df2"
   ]
  },
  {
   "cell_type": "code",
   "execution_count": 20,
   "id": "5f9e7955",
   "metadata": {},
   "outputs": [
    {
     "data": {
      "text/html": [
       "<div>\n",
       "<style scoped>\n",
       "    .dataframe tbody tr th:only-of-type {\n",
       "        vertical-align: middle;\n",
       "    }\n",
       "\n",
       "    .dataframe tbody tr th {\n",
       "        vertical-align: top;\n",
       "    }\n",
       "\n",
       "    .dataframe thead th {\n",
       "        text-align: right;\n",
       "    }\n",
       "</style>\n",
       "<table border=\"1\" class=\"dataframe\">\n",
       "  <thead>\n",
       "    <tr style=\"text-align: right;\">\n",
       "      <th></th>\n",
       "      <th>param_C</th>\n",
       "      <th>param_kernel</th>\n",
       "      <th>mean_test_score</th>\n",
       "    </tr>\n",
       "  </thead>\n",
       "  <tbody>\n",
       "    <tr>\n",
       "      <th>0</th>\n",
       "      <td>200</td>\n",
       "      <td>linear</td>\n",
       "      <td>0.794361</td>\n",
       "    </tr>\n",
       "    <tr>\n",
       "      <th>1</th>\n",
       "      <td>50</td>\n",
       "      <td>linear</td>\n",
       "      <td>0.794168</td>\n",
       "    </tr>\n",
       "    <tr>\n",
       "      <th>2</th>\n",
       "      <td>200</td>\n",
       "      <td>rbf</td>\n",
       "      <td>0.809245</td>\n",
       "    </tr>\n",
       "  </tbody>\n",
       "</table>\n",
       "</div>"
      ],
      "text/plain": [
       "  param_C param_kernel  mean_test_score\n",
       "0     200       linear         0.794361\n",
       "1      50       linear         0.794168\n",
       "2     200          rbf         0.809245"
      ]
     },
     "execution_count": 20,
     "metadata": {},
     "output_type": "execute_result"
    }
   ],
   "source": [
    "df2[[\"param_C\", \"param_kernel\", \"mean_test_score\"]]"
   ]
  },
  {
   "cell_type": "code",
   "execution_count": 21,
   "id": "0b6e6de2",
   "metadata": {},
   "outputs": [
    {
     "data": {
      "text/plain": [
       "0.80924463497267"
      ]
     },
     "execution_count": 21,
     "metadata": {},
     "output_type": "execute_result"
    }
   ],
   "source": [
    "rs.best_score_"
   ]
  },
  {
   "cell_type": "code",
   "execution_count": 22,
   "id": "fc97582a",
   "metadata": {},
   "outputs": [
    {
     "data": {
      "text/plain": [
       "{'kernel': 'rbf', 'C': 200}"
      ]
     },
     "execution_count": 22,
     "metadata": {},
     "output_type": "execute_result"
    }
   ],
   "source": [
    "rs.best_params_"
   ]
  },
  {
   "cell_type": "code",
   "execution_count": 23,
   "id": "173bbedd",
   "metadata": {},
   "outputs": [],
   "source": [
    "model_params= {\n",
    "    \"svm\": { \"model\": SVC(gamma=\"auto\"),\n",
    "            \"params\": {\"C\": [50, 100, 150, 200],\n",
    "                      \"kernel\": [\"rbf\", \"linear\"]},\n",
    "           },\n",
    "    \"random_forest\": {\"model\": RandomForestClassifier(),\n",
    "                      \"params\": {\"n_estimators\": [1,5,10]}\n",
    "    },\n",
    "    \"logistic_regression\": {\"model\": LogisticRegression(solver='liblinear', \n",
    "                                                        multi_class=\"auto\"),\n",
    "                           \"params\": {\"C\": [1, 5, 10]}\n",
    "                           }\n",
    "}"
   ]
  },
  {
   "cell_type": "code",
   "execution_count": 24,
   "id": "d54bc91b",
   "metadata": {},
   "outputs": [],
   "source": [
    "scores= []\n",
    "\n",
    "for model_name, mp in model_params.items():\n",
    "    grid= GridSearchCV(mp['model'], mp['params'], cv=5, return_train_score=False)\n",
    "    grid.fit(X_res, y_res)\n",
    "    scores.append({\n",
    "        'model': model_name,\n",
    "        'best_score': grid.best_score_,\n",
    "        'best_params': grid.best_params_\n",
    "    })"
   ]
  },
  {
   "cell_type": "code",
   "execution_count": 25,
   "id": "34564269",
   "metadata": {},
   "outputs": [
    {
     "data": {
      "text/html": [
       "<div>\n",
       "<style scoped>\n",
       "    .dataframe tbody tr th:only-of-type {\n",
       "        vertical-align: middle;\n",
       "    }\n",
       "\n",
       "    .dataframe tbody tr th {\n",
       "        vertical-align: top;\n",
       "    }\n",
       "\n",
       "    .dataframe thead th {\n",
       "        text-align: right;\n",
       "    }\n",
       "</style>\n",
       "<table border=\"1\" class=\"dataframe\">\n",
       "  <thead>\n",
       "    <tr style=\"text-align: right;\">\n",
       "      <th></th>\n",
       "      <th>model</th>\n",
       "      <th>best_score</th>\n",
       "      <th>best_params</th>\n",
       "    </tr>\n",
       "  </thead>\n",
       "  <tbody>\n",
       "    <tr>\n",
       "      <th>0</th>\n",
       "      <td>svm</td>\n",
       "      <td>0.809245</td>\n",
       "      <td>{'C': 150, 'kernel': 'rbf'}</td>\n",
       "    </tr>\n",
       "    <tr>\n",
       "      <th>1</th>\n",
       "      <td>random_forest</td>\n",
       "      <td>0.822772</td>\n",
       "      <td>{'n_estimators': 10}</td>\n",
       "    </tr>\n",
       "    <tr>\n",
       "      <th>2</th>\n",
       "      <td>logistic_regression</td>\n",
       "      <td>0.794168</td>\n",
       "      <td>{'C': 10}</td>\n",
       "    </tr>\n",
       "  </tbody>\n",
       "</table>\n",
       "</div>"
      ],
      "text/plain": [
       "                 model  best_score                  best_params\n",
       "0                  svm    0.809245  {'C': 150, 'kernel': 'rbf'}\n",
       "1        random_forest    0.822772         {'n_estimators': 10}\n",
       "2  logistic_regression    0.794168                    {'C': 10}"
      ]
     },
     "execution_count": 25,
     "metadata": {},
     "output_type": "execute_result"
    }
   ],
   "source": [
    "pd.DataFrame(scores, columns=['model','best_score','best_params'])"
   ]
  },
  {
   "cell_type": "code",
   "execution_count": 26,
   "id": "2c8da788",
   "metadata": {},
   "outputs": [
    {
     "data": {
      "text/plain": [
       "0.8344655753321986"
      ]
     },
     "execution_count": 26,
     "metadata": {},
     "output_type": "execute_result"
    }
   ],
   "source": [
    "score= cross_val_score(RandomForestClassifier(n_estimators=50, max_depth=50), X_res, y_res, cv=5)\n",
    "score.mean()"
   ]
  },
  {
   "cell_type": "code",
   "execution_count": 27,
   "id": "6c969add",
   "metadata": {},
   "outputs": [
    {
     "data": {
      "text/plain": [
       "0.8372689553402773"
      ]
     },
     "execution_count": 27,
     "metadata": {},
     "output_type": "execute_result"
    }
   ],
   "source": [
    "score= cross_val_score(RandomForestClassifier(n_estimators=100, max_depth=20), X_res, y_res, cv=5)\n",
    "score.mean()"
   ]
  },
  {
   "cell_type": "code",
   "execution_count": 28,
   "id": "02da8649",
   "metadata": {},
   "outputs": [
    {
     "data": {
      "text/plain": [
       "0.8380416687097083"
      ]
     },
     "execution_count": 28,
     "metadata": {},
     "output_type": "execute_result"
    }
   ],
   "source": [
    "score= cross_val_score(RandomForestClassifier(n_estimators=150,  max_depth=30, criterion='gini'), X_res, y_res, cv=5)\n",
    "score.mean()"
   ]
  },
  {
   "cell_type": "code",
   "execution_count": 29,
   "id": "c37df25b",
   "metadata": {},
   "outputs": [
    {
     "data": {
      "text/plain": [
       "0.8426814864650203"
      ]
     },
     "execution_count": 29,
     "metadata": {},
     "output_type": "execute_result"
    }
   ],
   "source": [
    "score= cross_val_score(RandomForestClassifier(n_estimators=150, max_depth=30), X_res, y_res, cv=10)\n",
    "score.mean()"
   ]
  },
  {
   "cell_type": "code",
   "execution_count": 30,
   "id": "331d8213",
   "metadata": {},
   "outputs": [
    {
     "data": {
      "text/plain": [
       "0.8115614675343172"
      ]
     },
     "execution_count": 30,
     "metadata": {},
     "output_type": "execute_result"
    }
   ],
   "source": [
    "score= cross_val_score(RandomForestClassifier(n_estimators=200, max_depth=10), X_res, y_res, cv=5)\n",
    "score.mean()"
   ]
  },
  {
   "cell_type": "code",
   "execution_count": 31,
   "id": "aff32291",
   "metadata": {},
   "outputs": [
    {
     "data": {
      "text/plain": [
       "0.8352388490787632"
      ]
     },
     "execution_count": 31,
     "metadata": {},
     "output_type": "execute_result"
    }
   ],
   "source": [
    "score= cross_val_score(RandomForestClassifier(n_estimators=50, max_depth=None), X_res, y_res, cv=5)\n",
    "score.mean()"
   ]
  },
  {
   "cell_type": "code",
   "execution_count": 32,
   "id": "a0b7dab1",
   "metadata": {},
   "outputs": [
    {
     "data": {
      "text/plain": [
       "0.8381380535767239"
      ]
     },
     "execution_count": 32,
     "metadata": {},
     "output_type": "execute_result"
    }
   ],
   "source": [
    "score= cross_val_score(RandomForestClassifier(n_estimators=300, max_depth=50), X_res, y_res, cv=5)\n",
    "score.mean()"
   ]
  },
  {
   "cell_type": "code",
   "execution_count": 33,
   "id": "64de583e",
   "metadata": {},
   "outputs": [
    {
     "data": {
      "text/plain": [
       "0.8379439762960473"
      ]
     },
     "execution_count": 33,
     "metadata": {},
     "output_type": "execute_result"
    }
   ],
   "source": [
    "score= cross_val_score(RandomForestClassifier(n_estimators=100, max_depth=50), X_res, y_res, cv=5)\n",
    "score.mean()"
   ]
  },
  {
   "cell_type": "code",
   "execution_count": 34,
   "id": "503f1e23",
   "metadata": {},
   "outputs": [
    {
     "data": {
      "text/plain": [
       "0.8124317332231259"
      ]
     },
     "execution_count": 34,
     "metadata": {},
     "output_type": "execute_result"
    }
   ],
   "source": [
    "score= cross_val_score(RandomForestClassifier(n_estimators=100, max_depth=10), X_res, y_res, cv=5)\n",
    "score.mean()"
   ]
  },
  {
   "cell_type": "code",
   "execution_count": null,
   "id": "d68b3c88",
   "metadata": {},
   "outputs": [],
   "source": []
  }
 ],
 "metadata": {
  "kernelspec": {
   "display_name": "Python 3 (ipykernel)",
   "language": "python",
   "name": "python3"
  },
  "language_info": {
   "codemirror_mode": {
    "name": "ipython",
    "version": 3
   },
   "file_extension": ".py",
   "mimetype": "text/x-python",
   "name": "python",
   "nbconvert_exporter": "python",
   "pygments_lexer": "ipython3",
   "version": "3.11.4"
  }
 },
 "nbformat": 4,
 "nbformat_minor": 5
}
